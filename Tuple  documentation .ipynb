{
 "cells": [
  {
   "cell_type": "markdown",
   "id": "d9c84a08-1506-4dd7-9428-8b4d950a0c87",
   "metadata": {},
   "source": [
    "# Tuple Documentation"
   ]
  },
  {
   "cell_type": "code",
   "execution_count": 182,
   "id": "c8f0a34c-311d-46b3-8818-2554b7291e6f",
   "metadata": {},
   "outputs": [
    {
     "data": {
      "text/plain": [
       "5"
      ]
     },
     "execution_count": 182,
     "metadata": {},
     "output_type": "execute_result"
    }
   ],
   "source": [
    "a=2\n",
    "b=3\n",
    "a+b"
   ]
  },
  {
   "cell_type": "code",
   "execution_count": 196,
   "id": "cdd999fa-5ab5-4b0d-8f90-ba4f5df64257",
   "metadata": {},
   "outputs": [
    {
     "data": {
      "text/plain": [
       "5"
      ]
     },
     "execution_count": 196,
     "metadata": {},
     "output_type": "execute_result"
    }
   ],
   "source": [
    "int.__add__(2,3)# in python , __ __ () is a method"
   ]
  },
  {
   "cell_type": "code",
   "execution_count": 188,
   "id": "92b4a3c1-3769-44b3-95d6-861666362209",
   "metadata": {},
   "outputs": [
    {
     "data": {
      "text/plain": [
       "6"
      ]
     },
     "execution_count": 188,
     "metadata": {},
     "output_type": "execute_result"
    }
   ],
   "source": [
    "int.__mul__(2,3)"
   ]
  },
  {
   "cell_type": "code",
   "execution_count": 190,
   "id": "30b5486b-9206-4b59-9a1a-9a22e819e122",
   "metadata": {},
   "outputs": [
    {
     "ename": "TypeError",
     "evalue": "descriptor '__sub__' requires a 'float' object but received a 'int'",
     "output_type": "error",
     "traceback": [
      "\u001b[0;31m---------------------------------------------------------------------------\u001b[0m",
      "\u001b[0;31mTypeError\u001b[0m                                 Traceback (most recent call last)",
      "Cell \u001b[0;32mIn[190], line 1\u001b[0m\n\u001b[0;32m----> 1\u001b[0m \u001b[38;5;28mfloat\u001b[39m\u001b[38;5;241m.\u001b[39m\u001b[38;5;21m__sub__\u001b[39m(\u001b[38;5;241m4\u001b[39m,\u001b[38;5;241m2\u001b[39m)\n",
      "\u001b[0;31mTypeError\u001b[0m: descriptor '__sub__' requires a 'float' object but received a 'int'"
     ]
    }
   ],
   "source": [
    "float.__sub__(4,2)"
   ]
  },
  {
   "cell_type": "code",
   "execution_count": 192,
   "id": "676cad35-db53-4099-8ae1-d6e3d49dddeb",
   "metadata": {},
   "outputs": [
    {
     "data": {
      "text/plain": [
       "2.0"
      ]
     },
     "execution_count": 192,
     "metadata": {},
     "output_type": "execute_result"
    }
   ],
   "source": [
    "float.__sub__(4.2,2.2)"
   ]
  },
  {
   "cell_type": "code",
   "execution_count": 194,
   "id": "b52f6b18-e762-4180-bac7-b521e22e673d",
   "metadata": {},
   "outputs": [
    {
     "ename": "AttributeError",
     "evalue": "type object 'float' has no attribute '__div__'",
     "output_type": "error",
     "traceback": [
      "\u001b[0;31m---------------------------------------------------------------------------\u001b[0m",
      "\u001b[0;31mAttributeError\u001b[0m                            Traceback (most recent call last)",
      "Cell \u001b[0;32mIn[194], line 1\u001b[0m\n\u001b[0;32m----> 1\u001b[0m \u001b[38;5;28mfloat\u001b[39m\u001b[38;5;241m.\u001b[39m__div__(\u001b[38;5;241m4\u001b[39m,\u001b[38;5;241m2\u001b[39m)\n",
      "\u001b[0;31mAttributeError\u001b[0m: type object 'float' has no attribute '__div__'"
     ]
    }
   ],
   "source": [
    "float.__div__(4,2)"
   ]
  },
  {
   "cell_type": "code",
   "execution_count": 198,
   "id": "b34cdf4f-0bd1-417b-a3e3-0e12e2dca39c",
   "metadata": {},
   "outputs": [
    {
     "data": {
      "text/plain": [
       "()"
      ]
     },
     "execution_count": 198,
     "metadata": {},
     "output_type": "execute_result"
    }
   ],
   "source": [
    "t=()\n",
    "t"
   ]
  },
  {
   "cell_type": "code",
   "execution_count": 200,
   "id": "9848bb7a-2f52-493a-bb24-a470ebad5c1c",
   "metadata": {},
   "outputs": [
    {
     "data": {
      "text/plain": [
       "tuple"
      ]
     },
     "execution_count": 200,
     "metadata": {},
     "output_type": "execute_result"
    }
   ],
   "source": [
    "type(t)"
   ]
  },
  {
   "cell_type": "code",
   "execution_count": 202,
   "id": "bf60d696-1b66-42d9-8ae3-efddc1b46c5f",
   "metadata": {},
   "outputs": [
    {
     "data": {
      "text/plain": [
       "int"
      ]
     },
     "execution_count": 202,
     "metadata": {},
     "output_type": "execute_result"
    }
   ],
   "source": [
    "a=10\n",
    "type(a)"
   ]
  },
  {
   "cell_type": "code",
   "execution_count": 204,
   "id": "c8172d81-adf1-4f6b-b5c5-710ec4b4f8fc",
   "metadata": {},
   "outputs": [
    {
     "data": {
      "text/plain": [
       "(1, 2, 3)"
      ]
     },
     "execution_count": 204,
     "metadata": {},
     "output_type": "execute_result"
    }
   ],
   "source": [
    "a1=1,2,3\n",
    "a1"
   ]
  },
  {
   "cell_type": "code",
   "execution_count": 208,
   "id": "e493c68e-0e9f-4f07-8ab2-68352a45d801",
   "metadata": {},
   "outputs": [
    {
     "data": {
      "text/plain": [
       "tuple"
      ]
     },
     "execution_count": 208,
     "metadata": {},
     "output_type": "execute_result"
    }
   ],
   "source": [
    "type(a1)"
   ]
  },
  {
   "cell_type": "code",
   "execution_count": 210,
   "id": "0a752c04-b69f-4661-bedc-3cd1967f29d2",
   "metadata": {},
   "outputs": [
    {
     "ename": "TypeError",
     "evalue": "tuple.count() takes exactly one argument (0 given)",
     "output_type": "error",
     "traceback": [
      "\u001b[0;31m---------------------------------------------------------------------------\u001b[0m",
      "\u001b[0;31mTypeError\u001b[0m                                 Traceback (most recent call last)",
      "Cell \u001b[0;32mIn[210], line 1\u001b[0m\n\u001b[0;32m----> 1\u001b[0m t\u001b[38;5;241m.\u001b[39mcount()\n",
      "\u001b[0;31mTypeError\u001b[0m: tuple.count() takes exactly one argument (0 given)"
     ]
    }
   ],
   "source": [
    "t.count()"
   ]
  },
  {
   "cell_type": "code",
   "execution_count": 212,
   "id": "93bcbf5b-1c90-4bc1-bc19-cbb50af36453",
   "metadata": {},
   "outputs": [
    {
     "data": {
      "text/plain": [
       "0"
      ]
     },
     "execution_count": 212,
     "metadata": {},
     "output_type": "execute_result"
    }
   ],
   "source": [
    "t.count(2)"
   ]
  },
  {
   "cell_type": "code",
   "execution_count": 214,
   "id": "7d9567bb-3c16-4421-8aa0-d51baf81521f",
   "metadata": {},
   "outputs": [
    {
     "data": {
      "text/plain": [
       "(1, 2, 3)"
      ]
     },
     "execution_count": 214,
     "metadata": {},
     "output_type": "execute_result"
    }
   ],
   "source": [
    "a1\n"
   ]
  },
  {
   "cell_type": "code",
   "execution_count": 216,
   "id": "d92c7ccc-b6c6-4fae-a928-c7570b472e41",
   "metadata": {},
   "outputs": [
    {
     "data": {
      "text/plain": [
       "1"
      ]
     },
     "execution_count": 216,
     "metadata": {},
     "output_type": "execute_result"
    }
   ],
   "source": [
    "a1.count(2)"
   ]
  },
  {
   "cell_type": "code",
   "execution_count": 218,
   "id": "a2afff17-700c-4ae8-82db-81aa98c1b09d",
   "metadata": {},
   "outputs": [
    {
     "ename": "AttributeError",
     "evalue": "'tuple' object has no attribute 'append'",
     "output_type": "error",
     "traceback": [
      "\u001b[0;31m---------------------------------------------------------------------------\u001b[0m",
      "\u001b[0;31mAttributeError\u001b[0m                            Traceback (most recent call last)",
      "Cell \u001b[0;32mIn[218], line 1\u001b[0m\n\u001b[0;32m----> 1\u001b[0m a1\u001b[38;5;241m.\u001b[39mappend(\u001b[38;5;241m1\u001b[39m,\u001b[38;5;241m23\u001b[39m)\n",
      "\u001b[0;31mAttributeError\u001b[0m: 'tuple' object has no attribute 'append'"
     ]
    }
   ],
   "source": [
    "a1.append(1,23)"
   ]
  },
  {
   "cell_type": "code",
   "execution_count": 220,
   "id": "dd221b25-c1ba-474c-94fc-555d1c2ea3ba",
   "metadata": {},
   "outputs": [
    {
     "data": {
      "text/plain": [
       "(1, 2, 3)"
      ]
     },
     "execution_count": 220,
     "metadata": {},
     "output_type": "execute_result"
    }
   ],
   "source": [
    "a1"
   ]
  },
  {
   "cell_type": "code",
   "execution_count": 222,
   "id": "e7052e14-ac38-46c4-a2be-2dd66ef281d8",
   "metadata": {},
   "outputs": [
    {
     "data": {
      "text/plain": [
       "2"
      ]
     },
     "execution_count": 222,
     "metadata": {},
     "output_type": "execute_result"
    }
   ],
   "source": [
    "a1[1]"
   ]
  },
  {
   "cell_type": "code",
   "execution_count": 226,
   "id": "e176a377-cd6b-4909-94c5-c8647c12b3a0",
   "metadata": {},
   "outputs": [
    {
     "ename": "TypeError",
     "evalue": "'tuple' object does not support item assignment",
     "output_type": "error",
     "traceback": [
      "\u001b[0;31m---------------------------------------------------------------------------\u001b[0m",
      "\u001b[0;31mTypeError\u001b[0m                                 Traceback (most recent call last)",
      "Cell \u001b[0;32mIn[226], line 1\u001b[0m\n\u001b[0;32m----> 1\u001b[0m a1[\u001b[38;5;241m1\u001b[39m]\u001b[38;5;241m=\u001b[39m\u001b[38;5;241m12\u001b[39m\n",
      "\u001b[0;31mTypeError\u001b[0m: 'tuple' object does not support item assignment"
     ]
    }
   ],
   "source": [
    "a1[1]=12 # tuple is immutable"
   ]
  },
  {
   "cell_type": "code",
   "execution_count": 240,
   "id": "0150185d-2ea1-45f3-a10b-356e45912c4c",
   "metadata": {},
   "outputs": [
    {
     "data": {
      "text/plain": [
       "('name', True, 2343)"
      ]
     },
     "execution_count": 240,
     "metadata": {},
     "output_type": "execute_result"
    }
   ],
   "source": [
    "#Tuple is like personal details in govt database, we can't change the personal details\n",
    "t=('name',True,2343)\n",
    "t"
   ]
  },
  {
   "cell_type": "code",
   "execution_count": 242,
   "id": "78f2a4bf-2f5f-48bd-af8d-83267412c79f",
   "metadata": {},
   "outputs": [
    {
     "data": {
      "text/plain": [
       "('name', True, 2343, 'name', True, 2343, 'name', True, 2343)"
      ]
     },
     "execution_count": 242,
     "metadata": {},
     "output_type": "execute_result"
    }
   ],
   "source": [
    "t*3"
   ]
  },
  {
   "cell_type": "code",
   "execution_count": 244,
   "id": "284a9460-a9f7-43cc-a3f2-8de9c5e6c2d8",
   "metadata": {},
   "outputs": [
    {
     "data": {
      "text/plain": [
       "1"
      ]
     },
     "execution_count": 244,
     "metadata": {},
     "output_type": "execute_result"
    }
   ],
   "source": [
    "t.index(True)"
   ]
  },
  {
   "cell_type": "code",
   "execution_count": 246,
   "id": "ea7cd6f5-b0f4-44da-a57e-ed18da2fa60b",
   "metadata": {},
   "outputs": [
    {
     "data": {
      "text/plain": [
       "(True, 2343)"
      ]
     },
     "execution_count": 246,
     "metadata": {},
     "output_type": "execute_result"
    }
   ],
   "source": [
    "t[1:]"
   ]
  },
  {
   "cell_type": "code",
   "execution_count": 248,
   "id": "e212f519-63cc-4916-8999-014886c481c3",
   "metadata": {},
   "outputs": [
    {
     "data": {
      "text/plain": [
       "2343"
      ]
     },
     "execution_count": 248,
     "metadata": {},
     "output_type": "execute_result"
    }
   ],
   "source": [
    "t[-1]"
   ]
  },
  {
   "cell_type": "code",
   "execution_count": 250,
   "id": "6116a652-6d90-4132-9fe9-4df2f7726c53",
   "metadata": {},
   "outputs": [
    {
     "data": {
      "text/plain": [
       "(2343, True, 'name')"
      ]
     },
     "execution_count": 250,
     "metadata": {},
     "output_type": "execute_result"
    }
   ],
   "source": [
    "t[::-1]"
   ]
  },
  {
   "cell_type": "code",
   "execution_count": 254,
   "id": "11feb164-a0d1-41a6-82ec-153c537b359d",
   "metadata": {},
   "outputs": [
    {
     "name": "stdout",
     "output_type": "stream",
     "text": [
      "name\n",
      "True\n",
      "2343\n"
     ]
    }
   ],
   "source": [
    "for i in t:\n",
    "    print(i)"
   ]
  },
  {
   "cell_type": "code",
   "execution_count": 256,
   "id": "23e8df27-335a-4ad7-ae22-dffaf9a7caea",
   "metadata": {},
   "outputs": [
    {
     "name": "stdout",
     "output_type": "stream",
     "text": [
      "(0, 'name')\n",
      "(1, True)\n",
      "(2, 2343)\n"
     ]
    }
   ],
   "source": [
    "for i in enumerate(t):\n",
    "    print(i)"
   ]
  },
  {
   "cell_type": "code",
   "execution_count": 258,
   "id": "fd278f2d-1247-4f65-a428-477c44b7f7c1",
   "metadata": {},
   "outputs": [
    {
     "data": {
      "text/plain": [
       "('sai', 'nanda')"
      ]
     },
     "execution_count": 258,
     "metadata": {},
     "output_type": "execute_result"
    }
   ],
   "source": [
    "t1=('sai','nanda')\n",
    "t1"
   ]
  },
  {
   "cell_type": "code",
   "execution_count": 260,
   "id": "e1b0e04b-a677-4438-9357-2ddef667139f",
   "metadata": {},
   "outputs": [
    {
     "data": {
      "text/plain": [
       "'s'"
      ]
     },
     "execution_count": 260,
     "metadata": {},
     "output_type": "execute_result"
    }
   ],
   "source": [
    "t1[0][0]"
   ]
  },
  {
   "cell_type": "code",
   "execution_count": 264,
   "id": "2499cc96-fe7a-4b25-accb-1fc01363d62c",
   "metadata": {},
   "outputs": [
    {
     "data": {
      "text/plain": [
       "(10, 10)"
      ]
     },
     "execution_count": 264,
     "metadata": {},
     "output_type": "execute_result"
    }
   ],
   "source": [
    "t2=(10,10)# Intuple , dublicates are allowed\n",
    "t2"
   ]
  },
  {
   "cell_type": "code",
   "execution_count": 270,
   "id": "01973349-109d-42ad-8363-ebce69b259f6",
   "metadata": {},
   "outputs": [],
   "source": [
    "#Tuple Properties:-\n",
    "# Indexing and slicing is allowed\n",
    "# Dublicates are allowed\n",
    "# tuple is immutable\n",
    "# multiple data types are allowed"
   ]
  },
  {
   "cell_type": "markdown",
   "id": "da855547-b594-4daa-b4e0-12ce9cd32bc1",
   "metadata": {},
   "source": [
    "## Bitwise operator"
   ]
  },
  {
   "cell_type": "code",
   "execution_count": 3,
   "id": "d1f12046-9ac8-48fc-b289-3fd43ad80d4e",
   "metadata": {},
   "outputs": [
    {
     "data": {
      "text/plain": [
       "-13"
      ]
     },
     "execution_count": 3,
     "metadata": {},
     "output_type": "execute_result"
    }
   ],
   "source": [
    "~12\n"
   ]
  },
  {
   "cell_type": "code",
   "execution_count": 5,
   "id": "7942efb8-0ab6-405a-b9e9-3437718bae2f",
   "metadata": {},
   "outputs": [
    {
     "data": {
      "text/plain": [
       "-46"
      ]
     },
     "execution_count": 5,
     "metadata": {},
     "output_type": "execute_result"
    }
   ],
   "source": [
    "~45"
   ]
  },
  {
   "cell_type": "code",
   "execution_count": 7,
   "id": "ac257ea9-1b25-4b77-a697-f740910e6359",
   "metadata": {},
   "outputs": [
    {
     "data": {
      "text/plain": [
       "12"
      ]
     },
     "execution_count": 7,
     "metadata": {},
     "output_type": "execute_result"
    }
   ],
   "source": [
    "12 &13\n"
   ]
  },
  {
   "cell_type": "code",
   "execution_count": 9,
   "id": "5f50a9f9-ab31-4b9c-9061-0d726345c51c",
   "metadata": {},
   "outputs": [
    {
     "data": {
      "text/plain": [
       "13"
      ]
     },
     "execution_count": 9,
     "metadata": {},
     "output_type": "execute_result"
    }
   ],
   "source": [
    "12|13"
   ]
  },
  {
   "cell_type": "code",
   "execution_count": 11,
   "id": "bd7e6667-ab24-472d-ba9b-ed4a1326473f",
   "metadata": {},
   "outputs": [
    {
     "data": {
      "text/plain": [
       "0"
      ]
     },
     "execution_count": 11,
     "metadata": {},
     "output_type": "execute_result"
    }
   ],
   "source": [
    "1&0"
   ]
  },
  {
   "cell_type": "code",
   "execution_count": 13,
   "id": "80c68c41-aaff-4921-9d67-37aedecd5cd2",
   "metadata": {},
   "outputs": [
    {
     "data": {
      "text/plain": [
       "1"
      ]
     },
     "execution_count": 13,
     "metadata": {},
     "output_type": "execute_result"
    }
   ],
   "source": [
    "1|0"
   ]
  },
  {
   "cell_type": "code",
   "execution_count": 15,
   "id": "ecb94b2b-37e2-4236-947f-9c029d9e0fcb",
   "metadata": {},
   "outputs": [
    {
     "data": {
      "text/plain": [
       "123"
      ]
     },
     "execution_count": 15,
     "metadata": {},
     "output_type": "execute_result"
    }
   ],
   "source": [
    "65|123"
   ]
  },
  {
   "cell_type": "code",
   "execution_count": 17,
   "id": "1702a99c-036f-4fa4-a491-405725da34ed",
   "metadata": {},
   "outputs": [
    {
     "data": {
      "text/plain": [
       "1"
      ]
     },
     "execution_count": 17,
     "metadata": {},
     "output_type": "execute_result"
    }
   ],
   "source": [
    "#Xor\n",
    "12^13"
   ]
  },
  {
   "cell_type": "code",
   "execution_count": 19,
   "id": "45c6be8c-c24c-40b9-b230-4002f77ae067",
   "metadata": {},
   "outputs": [
    {
     "data": {
      "text/plain": [
       "'0b1100'"
      ]
     },
     "execution_count": 19,
     "metadata": {},
     "output_type": "execute_result"
    }
   ],
   "source": [
    "bin(12)"
   ]
  },
  {
   "cell_type": "code",
   "execution_count": 21,
   "id": "609c860d-9c6c-48aa-a636-034550333213",
   "metadata": {},
   "outputs": [
    {
     "data": {
      "text/plain": [
       "'0b1101'"
      ]
     },
     "execution_count": 21,
     "metadata": {},
     "output_type": "execute_result"
    }
   ],
   "source": [
    "bin(13)"
   ]
  },
  {
   "cell_type": "code",
   "execution_count": 23,
   "id": "63be8cba-6d19-4863-a2b6-4358246b73c0",
   "metadata": {},
   "outputs": [
    {
     "data": {
      "text/plain": [
       "27"
      ]
     },
     "execution_count": 23,
     "metadata": {},
     "output_type": "execute_result"
    }
   ],
   "source": [
    "12^23"
   ]
  },
  {
   "cell_type": "code",
   "execution_count": 25,
   "id": "63dcc625-8773-45e6-96c7-cafba7eafd66",
   "metadata": {},
   "outputs": [
    {
     "data": {
      "text/plain": [
       "20"
      ]
     },
     "execution_count": 25,
     "metadata": {},
     "output_type": "execute_result"
    }
   ],
   "source": [
    "10<<1"
   ]
  },
  {
   "cell_type": "code",
   "execution_count": 27,
   "id": "20175652-f633-4e0c-a2f4-a8e075d3c1a1",
   "metadata": {},
   "outputs": [
    {
     "data": {
      "text/plain": [
       "40"
      ]
     },
     "execution_count": 27,
     "metadata": {},
     "output_type": "execute_result"
    }
   ],
   "source": [
    "10<<2"
   ]
  },
  {
   "cell_type": "code",
   "execution_count": 29,
   "id": "0bb40794-b944-4aa7-9f17-934a6e025755",
   "metadata": {},
   "outputs": [
    {
     "data": {
      "text/plain": [
       "5"
      ]
     },
     "execution_count": 29,
     "metadata": {},
     "output_type": "execute_result"
    }
   ],
   "source": [
    "10>>1"
   ]
  },
  {
   "cell_type": "code",
   "execution_count": 31,
   "id": "ad40a7ca-31ac-432d-9734-0c3f1f1dbda6",
   "metadata": {},
   "outputs": [
    {
     "ename": "NameError",
     "evalue": "name 'sqrt' is not defined",
     "output_type": "error",
     "traceback": [
      "\u001b[0;31m---------------------------------------------------------------------------\u001b[0m",
      "\u001b[0;31mNameError\u001b[0m                                 Traceback (most recent call last)",
      "Cell \u001b[0;32mIn[31], line 1\u001b[0m\n\u001b[0;32m----> 1\u001b[0m x\u001b[38;5;241m=\u001b[39msqrt(\u001b[38;5;241m25\u001b[39m)\n",
      "\u001b[0;31mNameError\u001b[0m: name 'sqrt' is not defined"
     ]
    }
   ],
   "source": [
    "x=sqrt(25)"
   ]
  },
  {
   "cell_type": "code",
   "execution_count": 33,
   "id": "24e1caf5-c131-43a6-a9e6-624a8c608242",
   "metadata": {},
   "outputs": [],
   "source": [
    "import math\n"
   ]
  },
  {
   "cell_type": "code",
   "execution_count": 35,
   "id": "4841ca79-46d4-43c8-9ef0-1cc87f1f0282",
   "metadata": {},
   "outputs": [
    {
     "data": {
      "text/plain": [
       "6.0"
      ]
     },
     "execution_count": 35,
     "metadata": {},
     "output_type": "execute_result"
    }
   ],
   "source": [
    "math.sqrt(36)"
   ]
  },
  {
   "cell_type": "code",
   "execution_count": 37,
   "id": "4e54361c-f8b9-4596-b176-e60e48a12339",
   "metadata": {},
   "outputs": [
    {
     "data": {
      "text/plain": [
       "2"
      ]
     },
     "execution_count": 37,
     "metadata": {},
     "output_type": "execute_result"
    }
   ],
   "source": [
    "math.floor(2.3)"
   ]
  },
  {
   "cell_type": "code",
   "execution_count": 39,
   "id": "d54fee85-34f4-4622-b953-450a8a38d0dd",
   "metadata": {},
   "outputs": [
    {
     "data": {
      "text/plain": [
       "3"
      ]
     },
     "execution_count": 39,
     "metadata": {},
     "output_type": "execute_result"
    }
   ],
   "source": [
    "math.ceil(2.3)"
   ]
  },
  {
   "cell_type": "code",
   "execution_count": 41,
   "id": "caf0a0cd-ca71-45a5-8035-3689b65e177b",
   "metadata": {},
   "outputs": [
    {
     "data": {
      "text/plain": [
       "(1, 2, 3, 4, 5, 6, 7, 7, 8, 5, 9, 6, 5, 3, 4, 10, 2, 4, 6)"
      ]
     },
     "execution_count": 41,
     "metadata": {},
     "output_type": "execute_result"
    }
   ],
   "source": [
    "t=1,2,3,4,5,6,7,7,8,5,9,6,5,3,4,10,2,4,6\n",
    "t"
   ]
  },
  {
   "cell_type": "code",
   "execution_count": 43,
   "id": "c6776cc6-ba3a-4610-90b3-295581b3e9bf",
   "metadata": {},
   "outputs": [
    {
     "data": {
      "text/plain": [
       "(2, 4, 6)"
      ]
     },
     "execution_count": 43,
     "metadata": {},
     "output_type": "execute_result"
    }
   ],
   "source": [
    "t[-3:]"
   ]
  },
  {
   "cell_type": "code",
   "execution_count": 45,
   "id": "a59b9d75-c239-4b73-a6a7-7433b1394eb8",
   "metadata": {},
   "outputs": [
    {
     "data": {
      "text/plain": [
       "6"
      ]
     },
     "execution_count": 45,
     "metadata": {},
     "output_type": "execute_result"
    }
   ],
   "source": [
    "t[-1]"
   ]
  },
  {
   "cell_type": "code",
   "execution_count": 49,
   "id": "ae586526-8b77-42f5-b3ba-d173d8b63db2",
   "metadata": {},
   "outputs": [
    {
     "ename": "TypeError",
     "evalue": "'tuple' object doesn't support item deletion",
     "output_type": "error",
     "traceback": [
      "\u001b[0;31m---------------------------------------------------------------------------\u001b[0m",
      "\u001b[0;31mTypeError\u001b[0m                                 Traceback (most recent call last)",
      "Cell \u001b[0;32mIn[49], line 1\u001b[0m\n\u001b[0;32m----> 1\u001b[0m \u001b[38;5;28;01mdel\u001b[39;00m t[\u001b[38;5;241m-\u001b[39m\u001b[38;5;241m1\u001b[39m]\n",
      "\u001b[0;31mTypeError\u001b[0m: 'tuple' object doesn't support item deletion"
     ]
    }
   ],
   "source": [
    "del t[-1]# as  tuple is immutable , it doesn't support item deletion"
   ]
  },
  {
   "cell_type": "code",
   "execution_count": 51,
   "id": "067ba4d7-5c89-4abe-bb2a-0f4e30433c14",
   "metadata": {},
   "outputs": [],
   "source": [
    "del t"
   ]
  },
  {
   "cell_type": "code",
   "execution_count": 53,
   "id": "b91a23e2-6013-4825-a3eb-d0a70cbc2eb8",
   "metadata": {},
   "outputs": [
    {
     "ename": "NameError",
     "evalue": "name 't' is not defined",
     "output_type": "error",
     "traceback": [
      "\u001b[0;31m---------------------------------------------------------------------------\u001b[0m",
      "\u001b[0;31mNameError\u001b[0m                                 Traceback (most recent call last)",
      "Cell \u001b[0;32mIn[53], line 1\u001b[0m\n\u001b[0;32m----> 1\u001b[0m t\n",
      "\u001b[0;31mNameError\u001b[0m: name 't' is not defined"
     ]
    }
   ],
   "source": [
    "t"
   ]
  },
  {
   "cell_type": "markdown",
   "id": "7ae80e22-3a08-4b84-b7b3-5037528c9ace",
   "metadata": {},
   "source": [
    "## tuple membership"
   ]
  },
  {
   "cell_type": "code",
   "execution_count": 56,
   "id": "dab8064e-fafa-4f4d-99f8-6c715aaf39b9",
   "metadata": {},
   "outputs": [
    {
     "data": {
      "text/plain": [
       "(1, 2, 3, 4, 5)"
      ]
     },
     "execution_count": 56,
     "metadata": {},
     "output_type": "execute_result"
    }
   ],
   "source": [
    "t1=1,2,3,4,5\n",
    "t1"
   ]
  },
  {
   "cell_type": "code",
   "execution_count": 58,
   "id": "cf5830c3-e7ce-470e-b5ed-9855906871c9",
   "metadata": {},
   "outputs": [
    {
     "data": {
      "text/plain": [
       "True"
      ]
     },
     "execution_count": 58,
     "metadata": {},
     "output_type": "execute_result"
    }
   ],
   "source": [
    "1 in t1"
   ]
  },
  {
   "cell_type": "code",
   "execution_count": 60,
   "id": "c49c685c-6d9d-45e4-a40f-b5fc45a06518",
   "metadata": {},
   "outputs": [
    {
     "data": {
      "text/plain": [
       "False"
      ]
     },
     "execution_count": 60,
     "metadata": {},
     "output_type": "execute_result"
    }
   ],
   "source": [
    "6 in t1"
   ]
  },
  {
   "cell_type": "code",
   "execution_count": 62,
   "id": "777a530c-7ef7-4f59-9c4b-5f109e0c5590",
   "metadata": {},
   "outputs": [
    {
     "name": "stdout",
     "output_type": "stream",
     "text": [
      "element 4 is present\n"
     ]
    }
   ],
   "source": [
    "if(4 in t1):print(\"element 4 is present\")\n",
    "else:print(\"element is not present in tuple\")"
   ]
  },
  {
   "cell_type": "code",
   "execution_count": null,
   "id": "f19f5a92-6169-46a8-8c76-d76a471da636",
   "metadata": {},
   "outputs": [],
   "source": []
  }
 ],
 "metadata": {
  "kernelspec": {
   "display_name": "Python [conda env:base] *",
   "language": "python",
   "name": "conda-base-py"
  },
  "language_info": {
   "codemirror_mode": {
    "name": "ipython",
    "version": 3
   },
   "file_extension": ".py",
   "mimetype": "text/x-python",
   "name": "python",
   "nbconvert_exporter": "python",
   "pygments_lexer": "ipython3",
   "version": "3.12.7"
  }
 },
 "nbformat": 4,
 "nbformat_minor": 5
}
