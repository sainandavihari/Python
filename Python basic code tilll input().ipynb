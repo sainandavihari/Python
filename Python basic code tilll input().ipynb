{
 "cells": [
  {
   "cell_type": "markdown",
   "id": "1bc2169b-668a-4e27-a6f3-e1b7ad34023a",
   "metadata": {},
   "source": [
    "Basic Python code till INPUT() \n"
   ]
  },
  {
   "cell_type": "code",
   "execution_count": 4,
   "id": "aa46d3c4-7190-4f3e-9990-26adf72cbd58",
   "metadata": {},
   "outputs": [],
   "source": [
    "import math as m"
   ]
  },
  {
   "cell_type": "code",
   "execution_count": 6,
   "id": "f584698c-d276-4562-ada0-96cfc2a1722f",
   "metadata": {},
   "outputs": [
    {
     "data": {
      "text/plain": [
       "5.0"
      ]
     },
     "execution_count": 6,
     "metadata": {},
     "output_type": "execute_result"
    }
   ],
   "source": [
    "m.sqrt(25)"
   ]
  },
  {
   "cell_type": "code",
   "execution_count": 8,
   "id": "76fa8f74-2ce5-4165-8419-98be14734e30",
   "metadata": {},
   "outputs": [
    {
     "data": {
      "text/plain": [
       "8"
      ]
     },
     "execution_count": 8,
     "metadata": {},
     "output_type": "execute_result"
    }
   ],
   "source": [
    "m.floor(8.9)"
   ]
  },
  {
   "cell_type": "code",
   "execution_count": 10,
   "id": "08c65a91-19c0-44da-a0a0-3c0e895f0f05",
   "metadata": {},
   "outputs": [
    {
     "data": {
      "text/plain": [
       "9"
      ]
     },
     "execution_count": 10,
     "metadata": {},
     "output_type": "execute_result"
    }
   ],
   "source": [
    "m.ceil(8.01)"
   ]
  },
  {
   "cell_type": "code",
   "execution_count": 12,
   "id": "faaf1205-3528-40c4-b493-d41faa52c53d",
   "metadata": {},
   "outputs": [
    {
     "data": {
      "text/plain": [
       "64.0"
      ]
     },
     "execution_count": 12,
     "metadata": {},
     "output_type": "execute_result"
    }
   ],
   "source": [
    "m.pow(2,6)"
   ]
  },
  {
   "cell_type": "code",
   "execution_count": 16,
   "id": "35525859-fca8-4a6c-990d-e4968ebbc5a4",
   "metadata": {},
   "outputs": [
    {
     "data": {
      "text/plain": [
       "3.141592653589793"
      ]
     },
     "execution_count": 16,
     "metadata": {},
     "output_type": "execute_result"
    }
   ],
   "source": [
    "m.pi # it is a constant"
   ]
  },
  {
   "cell_type": "code",
   "execution_count": 21,
   "id": "e9edad23-6d5a-4c43-a0f9-e0e77a20369a",
   "metadata": {},
   "outputs": [
    {
     "data": {
      "text/plain": [
       "2.718281828459045"
      ]
     },
     "execution_count": 21,
     "metadata": {},
     "output_type": "execute_result"
    }
   ],
   "source": [
    "m.e # it is also a constant"
   ]
  },
  {
   "cell_type": "code",
   "execution_count": 23,
   "id": "fa84672d-7218-435d-94b0-7ef20da15d7d",
   "metadata": {},
   "outputs": [
    {
     "data": {
      "text/plain": [
       "3"
      ]
     },
     "execution_count": 23,
     "metadata": {},
     "output_type": "execute_result"
    }
   ],
   "source": [
    "round(m.e)"
   ]
  },
  {
   "cell_type": "code",
   "execution_count": 27,
   "id": "3c6c2773-183c-497f-84fd-b5419612668e",
   "metadata": {},
   "outputs": [
    {
     "name": "stdin",
     "output_type": "stream",
     "text": [
      " 12\n",
      " 13\n"
     ]
    },
    {
     "name": "stdout",
     "output_type": "stream",
     "text": [
      "1213\n"
     ]
    }
   ],
   "source": [
    "x=input()# input() always takes a value as a string\n",
    "y=input()\n",
    "z=x+y\n",
    "print(z)"
   ]
  },
  {
   "cell_type": "code",
   "execution_count": 37,
   "id": "1fe1f60e-c06a-4779-8561-7bfbcb878087",
   "metadata": {},
   "outputs": [
    {
     "name": "stdin",
     "output_type": "stream",
     "text": [
      "Enter 1st number 12\n",
      "Enter 2nd number 13\n"
     ]
    },
    {
     "name": "stdout",
     "output_type": "stream",
     "text": [
      "25 is the result\n"
     ]
    }
   ],
   "source": [
    "x=int(input('Enter 1st number'))\n",
    "y=int(input('Enter 2nd number'))\n",
    "z=x+y\n",
    "print(z,'is the result')"
   ]
  },
  {
   "cell_type": "code",
   "execution_count": 31,
   "id": "9193f4d7-cc23-44aa-baa2-acafae6208a8",
   "metadata": {},
   "outputs": [
    {
     "data": {
      "text/plain": [
       "int"
      ]
     },
     "execution_count": 31,
     "metadata": {},
     "output_type": "execute_result"
    }
   ],
   "source": [
    "type(x)"
   ]
  },
  {
   "cell_type": "code",
   "execution_count": 41,
   "id": "82611da2-f481-4a7e-a5c2-cddd0d53b642",
   "metadata": {},
   "outputs": [
    {
     "name": "stdin",
     "output_type": "stream",
     "text": [
      "Enter a charecter adqws\n"
     ]
    },
    {
     "name": "stdout",
     "output_type": "stream",
     "text": [
      "a\n"
     ]
    }
   ],
   "source": [
    "ch=input('Enter a charecter')[0]\n",
    "print(ch)"
   ]
  },
  {
   "cell_type": "code",
   "execution_count": 45,
   "id": "83474026-884a-4f27-90a6-4f683f843e11",
   "metadata": {},
   "outputs": [
    {
     "name": "stdin",
     "output_type": "stream",
     "text": [
      "Enter a charecter 1+2-3+5\n"
     ]
    },
    {
     "name": "stdout",
     "output_type": "stream",
     "text": [
      "1+2-3+5\n"
     ]
    }
   ],
   "source": [
    "ch=input('Enter an expression')\n",
    "print(ch)# it is not used for evaluating expressions"
   ]
  },
  {
   "cell_type": "code",
   "execution_count": 47,
   "id": "98f788e0-366e-4de2-a487-1e3a0cc5405f",
   "metadata": {},
   "outputs": [
    {
     "name": "stdin",
     "output_type": "stream",
     "text": [
      "Enter an expression 1+3+5-2+10\n"
     ]
    },
    {
     "name": "stdout",
     "output_type": "stream",
     "text": [
      "17\n"
     ]
    }
   ],
   "source": [
    "res=eval(input('Enter an expression'))\n",
    "print(res)"
   ]
  },
  {
   "cell_type": "code",
   "execution_count": 49,
   "id": "a675fe56-1d8f-47a4-a66f-4f693bd5144f",
   "metadata": {},
   "outputs": [],
   "source": [
    "# Eval function is used to evaluating expression"
   ]
  },
  {
   "cell_type": "markdown",
   "id": "04072343-3abb-48e6-85c6-09fdf9e971c7",
   "metadata": {},
   "source": [
    "## set basics"
   ]
  },
  {
   "cell_type": "code",
   "execution_count": 52,
   "id": "1b1f3469-2451-4d01-97c7-ed7004e6a6bb",
   "metadata": {},
   "outputs": [
    {
     "data": {
      "text/plain": [
       "{}"
      ]
     },
     "execution_count": 52,
     "metadata": {},
     "output_type": "execute_result"
    }
   ],
   "source": [
    "s={}\n",
    "s"
   ]
  },
  {
   "cell_type": "code",
   "execution_count": 54,
   "id": "f1a76a73-a18a-4e21-ae74-7ad3a23982c9",
   "metadata": {},
   "outputs": [
    {
     "data": {
      "text/plain": [
       "dict"
      ]
     },
     "execution_count": 54,
     "metadata": {},
     "output_type": "execute_result"
    }
   ],
   "source": [
    "type(s)"
   ]
  },
  {
   "cell_type": "code",
   "execution_count": 56,
   "id": "967bd9c1-4ea3-4c91-b644-8dab3aa793a5",
   "metadata": {},
   "outputs": [
    {
     "data": {
      "text/plain": [
       "tuple"
      ]
     },
     "execution_count": 56,
     "metadata": {},
     "output_type": "execute_result"
    }
   ],
   "source": [
    "s1=()\n",
    "type(s1)"
   ]
  },
  {
   "cell_type": "code",
   "execution_count": 58,
   "id": "62238fa9-773d-444a-aacb-2f68ec6e401b",
   "metadata": {},
   "outputs": [
    {
     "data": {
      "text/plain": [
       "set()"
      ]
     },
     "execution_count": 58,
     "metadata": {},
     "output_type": "execute_result"
    }
   ],
   "source": [
    "s1=set()\n",
    "s1"
   ]
  },
  {
   "cell_type": "code",
   "execution_count": 60,
   "id": "afe0ce1b-8e8a-47a2-b648-990285f0e148",
   "metadata": {},
   "outputs": [
    {
     "data": {
      "text/plain": [
       "{100}"
      ]
     },
     "execution_count": 60,
     "metadata": {},
     "output_type": "execute_result"
    }
   ],
   "source": [
    "s1.add(100)\n",
    "s1"
   ]
  },
  {
   "cell_type": "code",
   "execution_count": 62,
   "id": "d3fae9a3-f6e3-4b05-b7d5-cfd06d9847bc",
   "metadata": {},
   "outputs": [
    {
     "ename": "TypeError",
     "evalue": "set.add() takes exactly one argument (2 given)",
     "output_type": "error",
     "traceback": [
      "\u001b[0;31m---------------------------------------------------------------------------\u001b[0m",
      "\u001b[0;31mTypeError\u001b[0m                                 Traceback (most recent call last)",
      "Cell \u001b[0;32mIn[62], line 1\u001b[0m\n\u001b[0;32m----> 1\u001b[0m s1\u001b[38;5;241m.\u001b[39madd(\u001b[38;5;241m100\u001b[39m,\u001b[38;5;241m20\u001b[39m)\n",
      "\u001b[0;31mTypeError\u001b[0m: set.add() takes exactly one argument (2 given)"
     ]
    }
   ],
   "source": [
    "s1.add(100,20)"
   ]
  },
  {
   "cell_type": "code",
   "execution_count": 64,
   "id": "ad0126e5-e397-45e6-9803-f8f86647fcdf",
   "metadata": {},
   "outputs": [],
   "source": [
    "s1.clear()"
   ]
  },
  {
   "cell_type": "code",
   "execution_count": 66,
   "id": "c54e5f76-597d-4299-90a1-2feeafa6ed57",
   "metadata": {},
   "outputs": [
    {
     "data": {
      "text/plain": [
       "set()"
      ]
     },
     "execution_count": 66,
     "metadata": {},
     "output_type": "execute_result"
    }
   ],
   "source": [
    "s1"
   ]
  },
  {
   "cell_type": "code",
   "execution_count": 68,
   "id": "0d285390-86c6-4840-b369-76336fbcaa2e",
   "metadata": {},
   "outputs": [
    {
     "data": {
      "text/plain": [
       "{(1+2j), 1.3, 100, 12, True, 'set'}"
      ]
     },
     "execution_count": 68,
     "metadata": {},
     "output_type": "execute_result"
    }
   ],
   "source": [
    "s1={100,12,1.3,True,'set',1+2j}\n",
    "s1"
   ]
  },
  {
   "cell_type": "code",
   "execution_count": 70,
   "id": "93c9e1b1-25a0-49a6-9e7f-b32827f42312",
   "metadata": {},
   "outputs": [
    {
     "data": {
      "text/plain": [
       "set"
      ]
     },
     "execution_count": 70,
     "metadata": {},
     "output_type": "execute_result"
    }
   ],
   "source": [
    "type(s1)"
   ]
  },
  {
   "cell_type": "code",
   "execution_count": 72,
   "id": "4b395fce-82b6-48e2-9bfa-3b4d5c4364ce",
   "metadata": {},
   "outputs": [
    {
     "data": {
      "text/plain": [
       "{(1+2j), 1.3, 100, 1000, 12, True, 'set'}"
      ]
     },
     "execution_count": 72,
     "metadata": {},
     "output_type": "execute_result"
    }
   ],
   "source": [
    "s1.add(1000)\n",
    "s1"
   ]
  },
  {
   "cell_type": "code",
   "execution_count": 74,
   "id": "e2575621-845e-4d27-9d2d-530334463fd3",
   "metadata": {},
   "outputs": [],
   "source": [
    "s2=s1.copy()"
   ]
  },
  {
   "cell_type": "code",
   "execution_count": 76,
   "id": "62858524-b561-4106-922b-4443eb76f6a9",
   "metadata": {},
   "outputs": [
    {
     "data": {
      "text/plain": [
       "{(1+2j), 1.3, 100, 1000, 12, True, 'set'}"
      ]
     },
     "execution_count": 76,
     "metadata": {},
     "output_type": "execute_result"
    }
   ],
   "source": [
    "s1"
   ]
  },
  {
   "cell_type": "code",
   "execution_count": 78,
   "id": "086a74f1-0ef3-40fa-bc7d-dea97c9b5c0a",
   "metadata": {},
   "outputs": [
    {
     "data": {
      "text/plain": [
       "{(1+2j), 1.3, 100, 1000, 12, True, 'set'}"
      ]
     },
     "execution_count": 78,
     "metadata": {},
     "output_type": "execute_result"
    }
   ],
   "source": [
    "s2"
   ]
  },
  {
   "cell_type": "code",
   "execution_count": 80,
   "id": "b1500cc5-56ff-4706-bcb4-bcc8ff95afd8",
   "metadata": {},
   "outputs": [
    {
     "name": "stdout",
     "output_type": "stream",
     "text": [
      "False\n"
     ]
    }
   ],
   "source": [
    "print(id(s1)==id(s2))"
   ]
  },
  {
   "cell_type": "code",
   "execution_count": 82,
   "id": "4dc6714d-6bb2-4a0a-9260-d3f0373d2314",
   "metadata": {},
   "outputs": [
    {
     "data": {
      "text/plain": [
       "7"
      ]
     },
     "execution_count": 82,
     "metadata": {},
     "output_type": "execute_result"
    }
   ],
   "source": [
    "len(s2)"
   ]
  },
  {
   "cell_type": "code",
   "execution_count": 84,
   "id": "29fd05f8-6760-49ff-952c-96e5e21a6902",
   "metadata": {},
   "outputs": [
    {
     "ename": "TypeError",
     "evalue": "'set' object is not subscriptable",
     "output_type": "error",
     "traceback": [
      "\u001b[0;31m---------------------------------------------------------------------------\u001b[0m",
      "\u001b[0;31mTypeError\u001b[0m                                 Traceback (most recent call last)",
      "Cell \u001b[0;32mIn[84], line 1\u001b[0m\n\u001b[0;32m----> 1\u001b[0m s2[\u001b[38;5;241m0\u001b[39m]\n",
      "\u001b[0;31mTypeError\u001b[0m: 'set' object is not subscriptable"
     ]
    }
   ],
   "source": [
    "s2[0]"
   ]
  },
  {
   "cell_type": "code",
   "execution_count": 86,
   "id": "cb7ca811-eaf7-4d19-89dc-743cd5773c72",
   "metadata": {},
   "outputs": [
    {
     "ename": "TypeError",
     "evalue": "'set' object is not subscriptable",
     "output_type": "error",
     "traceback": [
      "\u001b[0;31m---------------------------------------------------------------------------\u001b[0m",
      "\u001b[0;31mTypeError\u001b[0m                                 Traceback (most recent call last)",
      "Cell \u001b[0;32mIn[86], line 1\u001b[0m\n\u001b[0;32m----> 1\u001b[0m s2[:]\n",
      "\u001b[0;31mTypeError\u001b[0m: 'set' object is not subscriptable"
     ]
    }
   ],
   "source": [
    "s2[:]"
   ]
  },
  {
   "cell_type": "code",
   "execution_count": 88,
   "id": "459812ec-24de-485d-b053-8292ee989c0b",
   "metadata": {},
   "outputs": [
    {
     "ename": "TypeError",
     "evalue": "'set' object does not support item assignment",
     "output_type": "error",
     "traceback": [
      "\u001b[0;31m---------------------------------------------------------------------------\u001b[0m",
      "\u001b[0;31mTypeError\u001b[0m                                 Traceback (most recent call last)",
      "Cell \u001b[0;32mIn[88], line 1\u001b[0m\n\u001b[0;32m----> 1\u001b[0m s2[\u001b[38;5;241m0\u001b[39m]\u001b[38;5;241m=\u001b[39m\u001b[38;5;241m123\u001b[39m\n",
      "\u001b[0;31mTypeError\u001b[0m: 'set' object does not support item assignment"
     ]
    }
   ],
   "source": [
    "s2[0]=123"
   ]
  },
  {
   "cell_type": "code",
   "execution_count": 90,
   "id": "2b485552-7576-4def-a944-55c11f85a3b3",
   "metadata": {},
   "outputs": [
    {
     "data": {
      "text/plain": [
       "1.3"
      ]
     },
     "execution_count": 90,
     "metadata": {},
     "output_type": "execute_result"
    }
   ],
   "source": [
    "s2.pop()"
   ]
  },
  {
   "cell_type": "code",
   "execution_count": 92,
   "id": "fdfcf440-ed53-444d-b432-564d12c55fce",
   "metadata": {},
   "outputs": [
    {
     "data": {
      "text/plain": [
       "{(1+2j), 100, 1000, 12, True, 'set'}"
      ]
     },
     "execution_count": 92,
     "metadata": {},
     "output_type": "execute_result"
    }
   ],
   "source": [
    "s2"
   ]
  },
  {
   "cell_type": "code",
   "execution_count": 94,
   "id": "2b37b5a0-34dc-449c-9199-5052b42436d1",
   "metadata": {},
   "outputs": [
    {
     "data": {
      "text/plain": [
       "{(1+2j), 100, 1000, 12, 'set'}"
      ]
     },
     "execution_count": 94,
     "metadata": {},
     "output_type": "execute_result"
    }
   ],
   "source": [
    "s2.pop()\n",
    "s2"
   ]
  },
  {
   "cell_type": "code",
   "execution_count": 96,
   "id": "e4e73e65-fe2c-4505-b119-54e48c0f117b",
   "metadata": {},
   "outputs": [
    {
     "ename": "TypeError",
     "evalue": "set.pop() takes no arguments (1 given)",
     "output_type": "error",
     "traceback": [
      "\u001b[0;31m---------------------------------------------------------------------------\u001b[0m",
      "\u001b[0;31mTypeError\u001b[0m                                 Traceback (most recent call last)",
      "Cell \u001b[0;32mIn[96], line 1\u001b[0m\n\u001b[0;32m----> 1\u001b[0m s2\u001b[38;5;241m.\u001b[39mpop(\u001b[38;5;241m0\u001b[39m)\n\u001b[1;32m      2\u001b[0m s2\n",
      "\u001b[0;31mTypeError\u001b[0m: set.pop() takes no arguments (1 given)"
     ]
    }
   ],
   "source": [
    "s2.pop(0)\n",
    "s2"
   ]
  },
  {
   "cell_type": "code",
   "execution_count": 98,
   "id": "b12e85ed-4f62-4906-bf76-379dc99261fa",
   "metadata": {},
   "outputs": [],
   "source": [
    "s2.remove(100)"
   ]
  },
  {
   "cell_type": "code",
   "execution_count": 100,
   "id": "82bb51db-b6bf-492c-9e10-a545a30797fe",
   "metadata": {},
   "outputs": [
    {
     "data": {
      "text/plain": [
       "{(1+2j), 1000, 12, 'set'}"
      ]
     },
     "execution_count": 100,
     "metadata": {},
     "output_type": "execute_result"
    }
   ],
   "source": [
    "s2"
   ]
  },
  {
   "cell_type": "code",
   "execution_count": 102,
   "id": "3771a59d-9da5-4b22-8ef8-aec3e3a887c0",
   "metadata": {},
   "outputs": [
    {
     "data": {
      "text/plain": [
       "{(1+2j), 1000, 12, 'set'}"
      ]
     },
     "execution_count": 102,
     "metadata": {},
     "output_type": "execute_result"
    }
   ],
   "source": [
    "s2.discard(232)\n",
    "s2"
   ]
  },
  {
   "cell_type": "code",
   "execution_count": 104,
   "id": "7402b34a-93f0-4c39-a11f-ca298e112217",
   "metadata": {},
   "outputs": [
    {
     "data": {
      "text/plain": [
       "'set'"
      ]
     },
     "execution_count": 104,
     "metadata": {},
     "output_type": "execute_result"
    }
   ],
   "source": [
    "s2.pop()"
   ]
  },
  {
   "cell_type": "code",
   "execution_count": 106,
   "id": "0b5962f1-a3b8-4818-a84e-81dbf413e687",
   "metadata": {},
   "outputs": [
    {
     "data": {
      "text/plain": [
       "{(1+2j), 1000, 12}"
      ]
     },
     "execution_count": 106,
     "metadata": {},
     "output_type": "execute_result"
    }
   ],
   "source": [
    "s2"
   ]
  },
  {
   "cell_type": "code",
   "execution_count": 108,
   "id": "51c6ca03-e727-4eb8-8e55-1b9010defc6d",
   "metadata": {},
   "outputs": [],
   "source": [
    "#sets are immutable as it doesn't supports item assessment \n",
    "#sets doesn't support slicing and indexing\n",
    "#pop(), add() are allowed\n",
    "#remove(element)- we can remove an element which is present inside the remove() function\n",
    "#discard(element)- if element is present in set , then it is deleted , otherwise neglected. it doesn't through any error"
   ]
  },
  {
   "cell_type": "code",
   "execution_count": null,
   "id": "32ed2e3a-f180-44ee-bf0c-12c7c236d4d5",
   "metadata": {},
   "outputs": [],
   "source": []
  }
 ],
 "metadata": {
  "kernelspec": {
   "display_name": "Python [conda env:base] *",
   "language": "python",
   "name": "conda-base-py"
  },
  "language_info": {
   "codemirror_mode": {
    "name": "ipython",
    "version": 3
   },
   "file_extension": ".py",
   "mimetype": "text/x-python",
   "name": "python",
   "nbconvert_exporter": "python",
   "pygments_lexer": "ipython3",
   "version": "3.12.7"
  }
 },
 "nbformat": 4,
 "nbformat_minor": 5
}
