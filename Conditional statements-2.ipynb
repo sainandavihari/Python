{
 "cells": [
  {
   "cell_type": "markdown",
   "id": "954a4e54-8170-40fd-adc3-c5acd624bdae",
   "metadata": {},
   "source": [
    "# Task 21 and Task 22"
   ]
  },
  {
   "cell_type": "code",
   "execution_count": 13,
   "id": "2261a6fe-a6b2-4de3-b63f-875c34d28282",
   "metadata": {},
   "outputs": [
    {
     "name": "stdin",
     "output_type": "stream",
     "text": [
      " 1\n"
     ]
    },
    {
     "name": "stdout",
     "output_type": "stream",
     "text": [
      "odd\n"
     ]
    }
   ],
   "source": [
    "i=int(input())\n",
    "if(i%2==0):\n",
    "    print('The number is Even num')\n",
    "else:print('odd')"
   ]
  },
  {
   "cell_type": "code",
   "execution_count": 11,
   "id": "b25a19e9-98cb-4151-be6e-3d14f300ce84",
   "metadata": {},
   "outputs": [
    {
     "name": "stdin",
     "output_type": "stream",
     "text": [
      " 1\n"
     ]
    },
    {
     "name": "stdout",
     "output_type": "stream",
     "text": [
      "num is 1\n"
     ]
    }
   ],
   "source": [
    "i=int(input())\n",
    "if(i==0):\n",
    "    print('num is zero')\n",
    "elif(i==1):\n",
    "    print('num is 1')\n",
    "else:\n",
    "    print('num is not found')"
   ]
  },
  {
   "cell_type": "code",
   "execution_count": 17,
   "id": "f2bb6dd0-7745-46a9-8e3e-52a793c6d745",
   "metadata": {},
   "outputs": [
    {
     "name": "stdout",
     "output_type": "stream",
     "text": [
      "data science\n",
      "data science\n",
      "data science\n",
      "data science\n",
      "data science\n"
     ]
    }
   ],
   "source": [
    "i=1\n",
    "\n",
    "while i<=5:\n",
    "    print('data science')\n",
    "    i+=1"
   ]
  },
  {
   "cell_type": "code",
   "execution_count": 19,
   "id": "933919d6-19ab-4dc8-a4e5-66fb9c97b8d3",
   "metadata": {},
   "outputs": [
    {
     "name": "stdout",
     "output_type": "stream",
     "text": [
      "data science\n",
      "data science\n",
      "data science\n",
      "data science\n",
      "data science\n"
     ]
    }
   ],
   "source": [
    "i=5\n",
    "\n",
    "while i>0:\n",
    "    print('data science')\n",
    "    i-=1"
   ]
  },
  {
   "cell_type": "code",
   "execution_count": 1,
   "id": "6d9f47fd-088d-4ab0-9bcf-6727b2e18d74",
   "metadata": {},
   "outputs": [],
   "source": [
    "# divisible by 5"
   ]
  },
  {
   "cell_type": "code",
   "execution_count": 5,
   "id": "8c83ee86-d83f-4ce3-a0cc-7a297e29f5bf",
   "metadata": {},
   "outputs": [
    {
     "name": "stdout",
     "output_type": "stream",
     "text": [
      "0\n",
      "5\n",
      "10\n",
      "15\n",
      "20\n"
     ]
    }
   ],
   "source": [
    "for i in range(0,21):\n",
    "    if(i%5==0):\n",
    "        print(i)"
   ]
  },
  {
   "cell_type": "code",
   "execution_count": 7,
   "id": "1d7a8e79-8d4a-4041-948e-231af46a40b2",
   "metadata": {},
   "outputs": [
    {
     "name": "stdout",
     "output_type": "stream",
     "text": [
      "0\n",
      "1\n"
     ]
    }
   ],
   "source": [
    "for i in range(0,5):\n",
    "    if(i==2):\n",
    "        break\n",
    "    print(i)"
   ]
  },
  {
   "cell_type": "code",
   "execution_count": 11,
   "id": "a0bd8b2a-8acb-4407-a5f7-772b00587770",
   "metadata": {},
   "outputs": [
    {
     "name": "stdout",
     "output_type": "stream",
     "text": [
      "1\n",
      "2\n",
      "3\n",
      "5\n",
      "6\n",
      "7\n",
      "8\n",
      "9\n"
     ]
    }
   ],
   "source": [
    "for i in range(1,10):\n",
    "    if(i==4):\n",
    "        continue\n",
    "    print(i)"
   ]
  },
  {
   "cell_type": "code",
   "execution_count": 1,
   "id": "81b5e833-32d7-4dcd-bc1c-c5cde1f24cfe",
   "metadata": {},
   "outputs": [
    {
     "ename": "SyntaxError",
     "evalue": "incomplete input (818684697.py, line 1)",
     "output_type": "error",
     "traceback": [
      "\u001b[0;36m  Cell \u001b[0;32mIn[1], line 1\u001b[0;36m\u001b[0m\n\u001b[0;31m    for i in  range(0,10):\u001b[0m\n\u001b[0m                          ^\u001b[0m\n\u001b[0;31mSyntaxError\u001b[0m\u001b[0;31m:\u001b[0m incomplete input\n"
     ]
    }
   ],
   "source": [
    "for i in  range(0,10):"
   ]
  },
  {
   "cell_type": "code",
   "execution_count": 5,
   "id": "c93c0276-55ac-4b5d-8d2c-669984b242a4",
   "metadata": {},
   "outputs": [],
   "source": [
    "for i in  range(0,10):\n",
    "    pass"
   ]
  },
  {
   "cell_type": "code",
   "execution_count": 9,
   "id": "a20b8edc-073b-4e10-9bb7-4fa2f49c12f8",
   "metadata": {},
   "outputs": [
    {
     "name": "stdout",
     "output_type": "stream",
     "text": [
      "Hi How are you\n"
     ]
    }
   ],
   "source": [
    "if True:\n",
    "    print('Hi How are you')"
   ]
  },
  {
   "cell_type": "code",
   "execution_count": 11,
   "id": "115c409e-f954-47b1-a8f9-46e329ba5b2f",
   "metadata": {},
   "outputs": [
    {
     "name": "stdout",
     "output_type": "stream",
     "text": [
      "Data Science\n",
      "bye for now\n"
     ]
    }
   ],
   "source": [
    "if True:\n",
    "    print('Data Science')\n",
    "print('bye for now')"
   ]
  },
  {
   "cell_type": "code",
   "execution_count": null,
   "id": "192d2b1e-e0b7-4067-aa29-bddedd040a2b",
   "metadata": {},
   "outputs": [],
   "source": []
  }
 ],
 "metadata": {
  "kernelspec": {
   "display_name": "Python [conda env:base] *",
   "language": "python",
   "name": "conda-base-py"
  },
  "language_info": {
   "codemirror_mode": {
    "name": "ipython",
    "version": 3
   },
   "file_extension": ".py",
   "mimetype": "text/x-python",
   "name": "python",
   "nbconvert_exporter": "python",
   "pygments_lexer": "ipython3",
   "version": "3.12.7"
  }
 },
 "nbformat": 4,
 "nbformat_minor": 5
}
