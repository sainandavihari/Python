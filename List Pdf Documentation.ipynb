{
 "cells": [
  {
   "cell_type": "markdown",
   "id": "a2f67114-6947-436c-9b58-dd869711e8ed",
   "metadata": {},
   "source": [
    "# Task - 9 - List Pdf Documentation"
   ]
  },
  {
   "cell_type": "code",
   "execution_count": 2,
   "id": "f657086f-34f4-4161-9b1c-9554c2b1a50e",
   "metadata": {},
   "outputs": [
    {
     "data": {
      "text/plain": [
       "'   hi how are you      '"
      ]
     },
     "execution_count": 2,
     "metadata": {},
     "output_type": "execute_result"
    }
   ],
   "source": [
    "txt=\"   hi how are you      \"\n",
    "txt"
   ]
  },
  {
   "cell_type": "code",
   "execution_count": 6,
   "id": "4881ea1f-44f5-4cb4-8e05-d1826f5ebef4",
   "metadata": {},
   "outputs": [
    {
     "data": {
      "text/plain": [
       "'hi how are you'"
      ]
     },
     "execution_count": 6,
     "metadata": {},
     "output_type": "execute_result"
    }
   ],
   "source": [
    "txt=txt.strip()\n",
    "txt"
   ]
  },
  {
   "cell_type": "code",
   "execution_count": 8,
   "id": "27d522cd-9547-4fda-928a-2c856e6320e1",
   "metadata": {},
   "outputs": [
    {
     "ename": "SyntaxError",
     "evalue": "invalid syntax (1087263631.py, line 1)",
     "output_type": "error",
     "traceback": [
      "\u001b[0;36m  Cell \u001b[0;32mIn[8], line 1\u001b[0;36m\u001b[0m\n\u001b[0;31m    s1=\"My favourite movie is \"Mission imposible\u001b[0m\n\u001b[0m                               ^\u001b[0m\n\u001b[0;31mSyntaxError\u001b[0m\u001b[0;31m:\u001b[0m invalid syntax\n"
     ]
    }
   ],
   "source": [
    "s1=\"My favourite movie is \"Mission imposible"
   ]
  },
  {
   "cell_type": "code",
   "execution_count": 10,
   "id": "1a240099-af6c-4e8e-bcc0-bf69b2b55a03",
   "metadata": {},
   "outputs": [
    {
     "data": {
      "text/plain": [
       "'My favourite movie is \"Mission imposible\"'"
      ]
     },
     "execution_count": 10,
     "metadata": {},
     "output_type": "execute_result"
    }
   ],
   "source": [
    "s1=\"My favourite movie is \\\"Mission imposible\\\"\"\n",
    "s1"
   ]
  },
  {
   "cell_type": "code",
   "execution_count": 12,
   "id": "a98e1ff0-d779-421b-b06f-529649b47b2a",
   "metadata": {},
   "outputs": [
    {
     "data": {
      "text/plain": [
       "list"
      ]
     },
     "execution_count": 12,
     "metadata": {},
     "output_type": "execute_result"
    }
   ],
   "source": [
    "l1=[]\n",
    "type(l1)"
   ]
  },
  {
   "cell_type": "code",
   "execution_count": 18,
   "id": "7a51d5d5-8425-4e06-871f-b0d71fa5881f",
   "metadata": {},
   "outputs": [
    {
     "data": {
      "text/plain": [
       "[1, 2, 3, 4]"
      ]
     },
     "execution_count": 18,
     "metadata": {},
     "output_type": "execute_result"
    }
   ],
   "source": [
    "#integer list or list of integer numbers\n",
    "l2=[1,2,3,4]\n",
    "l2"
   ]
  },
  {
   "cell_type": "code",
   "execution_count": 20,
   "id": "68447cf3-0407-458f-84c7-15662f57259e",
   "metadata": {},
   "outputs": [
    {
     "data": {
      "text/plain": [
       "[1.3, 4.21, 5.34, 5.24]"
      ]
     },
     "execution_count": 20,
     "metadata": {},
     "output_type": "execute_result"
    }
   ],
   "source": [
    "#List of float numbers\n",
    "l3=[1.3,4.21,5.34,5.24]\n",
    "l3"
   ]
  },
  {
   "cell_type": "code",
   "execution_count": 24,
   "id": "fe1328d1-13ba-42cf-b3ce-7f1333aa62b3",
   "metadata": {},
   "outputs": [],
   "source": [
    "l4=['sai','tej','ram']"
   ]
  },
  {
   "cell_type": "code",
   "execution_count": 28,
   "id": "f9cda329-bd14-420b-bdcf-b8aca96bb4c7",
   "metadata": {},
   "outputs": [],
   "source": [
    "l5=['hi',1.2,'1+j',10,True]# list of mixed data types\n"
   ]
  },
  {
   "cell_type": "code",
   "execution_count": 34,
   "id": "2a0c4003-65bc-4dff-8ebe-d85408c8bfca",
   "metadata": {},
   "outputs": [
    {
     "data": {
      "text/plain": [
       "[1, 2, [4, 5, 6, 6], 'teja', {5, 7, 8}]"
      ]
     },
     "execution_count": 34,
     "metadata": {},
     "output_type": "execute_result"
    }
   ],
   "source": [
    "l6=[1,2,[4,5,6,6],'teja',{8,7,5}]# nested list\n",
    "l6"
   ]
  },
  {
   "cell_type": "code",
   "execution_count": 36,
   "id": "935cd26b-2702-453d-a17f-6dcbd1911f78",
   "metadata": {},
   "outputs": [
    {
     "data": {
      "text/plain": [
       "5"
      ]
     },
     "execution_count": 36,
     "metadata": {},
     "output_type": "execute_result"
    }
   ],
   "source": [
    "len(l6)"
   ]
  },
  {
   "cell_type": "code",
   "execution_count": 38,
   "id": "aa7ac54d-41d0-4c5f-ad65-8aaf2cf2793a",
   "metadata": {},
   "outputs": [
    {
     "data": {
      "text/plain": [
       "[1, 2, [4, 5, 6, 6], 'teja', {5, 7, 8}]"
      ]
     },
     "execution_count": 38,
     "metadata": {},
     "output_type": "execute_result"
    }
   ],
   "source": [
    "l6"
   ]
  },
  {
   "cell_type": "code",
   "execution_count": 61,
   "id": "6abdf44e-b7f5-4f72-ae3d-edb2b87333d0",
   "metadata": {},
   "outputs": [
    {
     "data": {
      "text/plain": [
       "{5, 7, 8}"
      ]
     },
     "execution_count": 61,
     "metadata": {},
     "output_type": "execute_result"
    }
   ],
   "source": [
    "l6[-1]"
   ]
  },
  {
   "cell_type": "code",
   "execution_count": 44,
   "id": "41cacd1a-9ec8-4ae3-a267-6c7862b28776",
   "metadata": {},
   "outputs": [
    {
     "data": {
      "text/plain": [
       "'teja'"
      ]
     },
     "execution_count": 44,
     "metadata": {},
     "output_type": "execute_result"
    }
   ],
   "source": [
    "l6[3]"
   ]
  },
  {
   "cell_type": "code",
   "execution_count": 46,
   "id": "ad1ea634-ee63-4a73-aced-c69135936415",
   "metadata": {},
   "outputs": [
    {
     "data": {
      "text/plain": [
       "6"
      ]
     },
     "execution_count": 46,
     "metadata": {},
     "output_type": "execute_result"
    }
   ],
   "source": [
    "l6[2][3]"
   ]
  },
  {
   "cell_type": "markdown",
   "id": "7698f308-86e1-4a91-8c7d-bbc22f1c1db8",
   "metadata": {},
   "source": [
    "## List slicing "
   ]
  },
  {
   "cell_type": "code",
   "execution_count": 49,
   "id": "b599c305-28e6-4519-9865-54361c175674",
   "metadata": {},
   "outputs": [
    {
     "data": {
      "text/plain": [
       "['sai', 'tej', 'ram']"
      ]
     },
     "execution_count": 49,
     "metadata": {},
     "output_type": "execute_result"
    }
   ],
   "source": [
    "l4"
   ]
  },
  {
   "cell_type": "code",
   "execution_count": 51,
   "id": "71663746-92a2-4134-9777-583689467d5d",
   "metadata": {},
   "outputs": [],
   "source": [
    "l4.append('krish')\n",
    "l4.append('akhil')\n",
    "l4.append('vamsi')"
   ]
  },
  {
   "cell_type": "code",
   "execution_count": 53,
   "id": "b6a590dc-672a-4dab-91fc-3a7922aee880",
   "metadata": {},
   "outputs": [
    {
     "data": {
      "text/plain": [
       "['sai', 'tej', 'ram', 'krish', 'akhil', 'vamsi']"
      ]
     },
     "execution_count": 53,
     "metadata": {},
     "output_type": "execute_result"
    }
   ],
   "source": [
    "l4"
   ]
  },
  {
   "cell_type": "code",
   "execution_count": 55,
   "id": "31339dc5-ea27-4c50-acab-47f4ed56251f",
   "metadata": {},
   "outputs": [
    {
     "data": {
      "text/plain": [
       "['tej', 'ram', 'krish', 'akhil']"
      ]
     },
     "execution_count": 55,
     "metadata": {},
     "output_type": "execute_result"
    }
   ],
   "source": [
    "l4[1:-1]"
   ]
  },
  {
   "cell_type": "code",
   "execution_count": 57,
   "id": "2732519f-bd3f-4f22-a762-1ec8d4515815",
   "metadata": {},
   "outputs": [
    {
     "data": {
      "text/plain": [
       "['akhil', 'vamsi']"
      ]
     },
     "execution_count": 57,
     "metadata": {},
     "output_type": "execute_result"
    }
   ],
   "source": [
    "l4[-2:]"
   ]
  },
  {
   "cell_type": "code",
   "execution_count": 59,
   "id": "006657f4-58d6-4337-9b7e-0c19a2d28283",
   "metadata": {},
   "outputs": [
    {
     "data": {
      "text/plain": [
       "['sai', 'tej', 'ram', 'krish', 'akhil', 'vamsi']"
      ]
     },
     "execution_count": 59,
     "metadata": {},
     "output_type": "execute_result"
    }
   ],
   "source": [
    "l4[:]"
   ]
  },
  {
   "cell_type": "markdown",
   "id": "49f80d3d-2055-4fcb-b065-850740bd69f6",
   "metadata": {},
   "source": [
    "## add remove and change items"
   ]
  },
  {
   "cell_type": "code",
   "execution_count": 67,
   "id": "e76639bd-7a29-4d29-86ab-ba61dbfe0272",
   "metadata": {},
   "outputs": [
    {
     "data": {
      "text/plain": [
       "['sai', 'tej', 'ram', 'krish', 'akhil', 'vamsi', 'ram', 'ram']"
      ]
     },
     "execution_count": 67,
     "metadata": {},
     "output_type": "execute_result"
    }
   ],
   "source": [
    "l4.append('ram')\n",
    "l4"
   ]
  },
  {
   "cell_type": "code",
   "execution_count": 69,
   "id": "bfeacbc1-16d0-42b5-b399-52ea86efbdbd",
   "metadata": {},
   "outputs": [
    {
     "data": {
      "text/plain": [
       "['sai', 'tej', 'ram', 'krish', 'akhil', 'vamsi', 'ram', 'surya', 'ram']"
      ]
     },
     "execution_count": 69,
     "metadata": {},
     "output_type": "execute_result"
    }
   ],
   "source": [
    "l4.insert(-1,'surya')\n",
    "l4"
   ]
  },
  {
   "cell_type": "code",
   "execution_count": 73,
   "id": "97254d12-773c-4d17-b7c2-250613e45a44",
   "metadata": {},
   "outputs": [
    {
     "data": {
      "text/plain": [
       "['sai', 'tej', 'krish', 'akhil', 'vamsi', 'surya', 'ram']"
      ]
     },
     "execution_count": 73,
     "metadata": {},
     "output_type": "execute_result"
    }
   ],
   "source": [
    "l4.remove('ram') #remove first occurance of the value in the list\n",
    "l4"
   ]
  },
  {
   "cell_type": "code",
   "execution_count": 79,
   "id": "fe7a8270-ef94-4bde-864a-5b52689fb6b2",
   "metadata": {},
   "outputs": [
    {
     "data": {
      "text/plain": [
       "'surya'"
      ]
     },
     "execution_count": 79,
     "metadata": {},
     "output_type": "execute_result"
    }
   ],
   "source": [
    "l4.pop()# remove last element"
   ]
  },
  {
   "cell_type": "code",
   "execution_count": 77,
   "id": "e184dc3b-89d4-4752-9a76-182f9d87625b",
   "metadata": {},
   "outputs": [
    {
     "data": {
      "text/plain": [
       "['sai', 'tej', 'krish', 'akhil', 'vamsi', 'surya']"
      ]
     },
     "execution_count": 77,
     "metadata": {},
     "output_type": "execute_result"
    }
   ],
   "source": [
    "l4"
   ]
  },
  {
   "cell_type": "code",
   "execution_count": 81,
   "id": "059e1e9c-96f6-41b8-885e-0734bd7f51cf",
   "metadata": {},
   "outputs": [
    {
     "data": {
      "text/plain": [
       "'tej'"
      ]
     },
     "execution_count": 81,
     "metadata": {},
     "output_type": "execute_result"
    }
   ],
   "source": [
    "l4.pop(1)\n"
   ]
  },
  {
   "cell_type": "code",
   "execution_count": 83,
   "id": "727b6eed-958d-40cb-afbc-39abe87cec85",
   "metadata": {},
   "outputs": [
    {
     "data": {
      "text/plain": [
       "['sai', 'krish', 'akhil', 'vamsi']"
      ]
     },
     "execution_count": 83,
     "metadata": {},
     "output_type": "execute_result"
    }
   ],
   "source": [
    "l4"
   ]
  },
  {
   "cell_type": "code",
   "execution_count": 85,
   "id": "8a56d801-d997-47c4-8fcb-029160105c66",
   "metadata": {},
   "outputs": [
    {
     "data": {
      "text/plain": [
       "['sai', 'akhil', 'vamsi']"
      ]
     },
     "execution_count": 85,
     "metadata": {},
     "output_type": "execute_result"
    }
   ],
   "source": [
    "del l4[1]\n",
    "l4"
   ]
  },
  {
   "cell_type": "code",
   "execution_count": 89,
   "id": "9a76d98d-339f-4a09-9e21-20520f2e8b48",
   "metadata": {},
   "outputs": [
    {
     "data": {
      "text/plain": [
       "[1, 2, 'vamsi']"
      ]
     },
     "execution_count": 89,
     "metadata": {},
     "output_type": "execute_result"
    }
   ],
   "source": [
    "# List is mutable\n",
    "l4[0]=1\n",
    "l4[1]=2\n",
    "l4"
   ]
  },
  {
   "cell_type": "code",
   "execution_count": 91,
   "id": "397116b4-2745-4684-8f6e-94fb821df2e7",
   "metadata": {},
   "outputs": [
    {
     "data": {
      "text/plain": [
       "[]"
      ]
     },
     "execution_count": 91,
     "metadata": {},
     "output_type": "execute_result"
    }
   ],
   "source": [
    "l4.clear()\n",
    "l4"
   ]
  },
  {
   "cell_type": "code",
   "execution_count": 93,
   "id": "4f066278-e7e4-444f-94cd-34e3f709c146",
   "metadata": {},
   "outputs": [
    {
     "ename": "NameError",
     "evalue": "name 'l4' is not defined",
     "output_type": "error",
     "traceback": [
      "\u001b[0;31m---------------------------------------------------------------------------\u001b[0m",
      "\u001b[0;31mNameError\u001b[0m                                 Traceback (most recent call last)",
      "Cell \u001b[0;32mIn[93], line 2\u001b[0m\n\u001b[1;32m      1\u001b[0m \u001b[38;5;28;01mdel\u001b[39;00m l4\n\u001b[0;32m----> 2\u001b[0m l4\n",
      "\u001b[0;31mNameError\u001b[0m: name 'l4' is not defined"
     ]
    }
   ],
   "source": [
    "del l4\n",
    "l4"
   ]
  },
  {
   "cell_type": "code",
   "execution_count": 97,
   "id": "37b338b0-d47c-4318-ae84-4ded98f50b3d",
   "metadata": {},
   "outputs": [
    {
     "data": {
      "text/plain": [
       "['one', 'two', 'three', 'four', 'five', 'six', 'seven']"
      ]
     },
     "execution_count": 97,
     "metadata": {},
     "output_type": "execute_result"
    }
   ],
   "source": [
    "l5 = ['one', 'two', 'three', 'four', 'five', 'six', 'seven']\n",
    "l5"
   ]
  },
  {
   "cell_type": "code",
   "execution_count": 99,
   "id": "f80b5a09-1060-4573-b3e2-1ecc016abbdc",
   "metadata": {},
   "outputs": [],
   "source": [
    "l6=l5"
   ]
  },
  {
   "cell_type": "code",
   "execution_count": 101,
   "id": "d2ea0a10-747f-4410-aa3d-680ac4d4eb41",
   "metadata": {},
   "outputs": [
    {
     "name": "stdout",
     "output_type": "stream",
     "text": [
      "5076585600 5076585600\n"
     ]
    }
   ],
   "source": [
    "print(id(l6),id(l5))"
   ]
  },
  {
   "cell_type": "code",
   "execution_count": 103,
   "id": "d480e0de-f872-4102-aa5f-4eb47542e409",
   "metadata": {},
   "outputs": [],
   "source": [
    "l7=l5.copy()\n"
   ]
  },
  {
   "cell_type": "code",
   "execution_count": 105,
   "id": "adeb299e-0759-4cee-af0e-c908bfcc5470",
   "metadata": {},
   "outputs": [
    {
     "name": "stdout",
     "output_type": "stream",
     "text": [
      "5076585600 5076595008\n"
     ]
    }
   ],
   "source": [
    "print(id(l6),id(l7))"
   ]
  },
  {
   "cell_type": "code",
   "execution_count": 107,
   "id": "51efcf58-053b-4491-9efb-37fde236ed6a",
   "metadata": {},
   "outputs": [],
   "source": [
    "# when we use list assignment  , then same addrerss, When we use copy() then different address."
   ]
  },
  {
   "cell_type": "code",
   "execution_count": 109,
   "id": "b701b919-e786-41f7-abe3-c4ac79bb45fd",
   "metadata": {},
   "outputs": [
    {
     "data": {
      "text/plain": [
       "[1, 'two', 'three', 'four', 'five', 'six', 'seven']"
      ]
     },
     "execution_count": 109,
     "metadata": {},
     "output_type": "execute_result"
    }
   ],
   "source": [
    "l5[0]=1\n",
    "l5"
   ]
  },
  {
   "cell_type": "code",
   "execution_count": 111,
   "id": "25750541-5af5-4625-a332-30fb7ab1b40d",
   "metadata": {},
   "outputs": [],
   "source": [
    "l1 = ['one', 'two', 'three', 'four']\n",
    "l2 = ['five', 'six', 'seven', 'eight']"
   ]
  },
  {
   "cell_type": "code",
   "execution_count": 113,
   "id": "626ab9f4-4564-4a0b-90a6-d7378bf896e5",
   "metadata": {},
   "outputs": [],
   "source": [
    "l3=l1+l2"
   ]
  },
  {
   "cell_type": "code",
   "execution_count": 115,
   "id": "6c826c38-5eb9-43b2-9e5c-46bcdfacf41f",
   "metadata": {},
   "outputs": [
    {
     "data": {
      "text/plain": [
       "['one', 'two', 'three', 'four', 'five', 'six', 'seven', 'eight']"
      ]
     },
     "execution_count": 115,
     "metadata": {},
     "output_type": "execute_result"
    }
   ],
   "source": [
    "l3"
   ]
  },
  {
   "cell_type": "code",
   "execution_count": 117,
   "id": "7b22fa97-679e-4e89-a78e-d47d8da57eda",
   "metadata": {},
   "outputs": [],
   "source": [
    "l1.extend(l2)"
   ]
  },
  {
   "cell_type": "code",
   "execution_count": 119,
   "id": "521c0c0a-7b26-4411-a8f2-afe37b9aff0a",
   "metadata": {},
   "outputs": [
    {
     "data": {
      "text/plain": [
       "['one', 'two', 'three', 'four', 'five', 'six', 'seven', 'eight']"
      ]
     },
     "execution_count": 119,
     "metadata": {},
     "output_type": "execute_result"
    }
   ],
   "source": [
    "l1"
   ]
  },
  {
   "cell_type": "code",
   "execution_count": 121,
   "id": "fdcb5090-c693-4add-8957-c30587af6c7a",
   "metadata": {},
   "outputs": [
    {
     "data": {
      "text/plain": [
       "True"
      ]
     },
     "execution_count": 121,
     "metadata": {},
     "output_type": "execute_result"
    }
   ],
   "source": [
    "'one' in l1"
   ]
  },
  {
   "cell_type": "code",
   "execution_count": 123,
   "id": "50d4a933-1f39-4a89-bbf9-8d32c4fa41e9",
   "metadata": {},
   "outputs": [
    {
     "data": {
      "text/plain": [
       "False"
      ]
     },
     "execution_count": 123,
     "metadata": {},
     "output_type": "execute_result"
    }
   ],
   "source": [
    "'nine' in l1"
   ]
  },
  {
   "cell_type": "code",
   "execution_count": 125,
   "id": "523bfde4-a041-4bc1-8552-e1a4e4a5e31e",
   "metadata": {},
   "outputs": [
    {
     "name": "stdout",
     "output_type": "stream",
     "text": [
      "two is present in the list\n"
     ]
    }
   ],
   "source": [
    "if('two' in l1):\n",
    "    print('two is present in the list')\n",
    "else:\n",
    "    print(\"two is not present in the list\")"
   ]
  },
  {
   "cell_type": "markdown",
   "id": "e7936390-6ff6-4938-9d01-87d1421ce9e4",
   "metadata": {},
   "source": [
    "## Reverse and Sorting"
   ]
  },
  {
   "cell_type": "code",
   "execution_count": 129,
   "id": "dfc17d5d-4fd7-401b-9da9-beb4052b9207",
   "metadata": {},
   "outputs": [
    {
     "data": {
      "text/plain": [
       "['one', 'two', 'three', 'four', 'five', 'six', 'seven', 'eight']"
      ]
     },
     "execution_count": 129,
     "metadata": {},
     "output_type": "execute_result"
    }
   ],
   "source": [
    "l1"
   ]
  },
  {
   "cell_type": "code",
   "execution_count": 131,
   "id": "cab883f3-e551-4f69-8746-5cc49cdc446f",
   "metadata": {},
   "outputs": [],
   "source": [
    "l1.reverse()"
   ]
  },
  {
   "cell_type": "code",
   "execution_count": 133,
   "id": "fed6e7db-b07f-4d01-984a-35609eb641af",
   "metadata": {},
   "outputs": [
    {
     "data": {
      "text/plain": [
       "['eight', 'seven', 'six', 'five', 'four', 'three', 'two', 'one']"
      ]
     },
     "execution_count": 133,
     "metadata": {},
     "output_type": "execute_result"
    }
   ],
   "source": [
    "l1"
   ]
  },
  {
   "cell_type": "code",
   "execution_count": 135,
   "id": "56ae6af2-591e-4bbc-b5f9-8f2ff8a75ddb",
   "metadata": {},
   "outputs": [
    {
     "data": {
      "text/plain": [
       "['one', 'two', 'three', 'four', 'five', 'six', 'seven', 'eight']"
      ]
     },
     "execution_count": 135,
     "metadata": {},
     "output_type": "execute_result"
    }
   ],
   "source": [
    "l1[::-1]"
   ]
  },
  {
   "cell_type": "code",
   "execution_count": 141,
   "id": "4c0a8e90-a047-4cbc-8cb0-8c4b3d422094",
   "metadata": {},
   "outputs": [
    {
     "data": {
      "text/plain": [
       "[34, 23, 2, 5, 34, 266, 22]"
      ]
     },
     "execution_count": 141,
     "metadata": {},
     "output_type": "execute_result"
    }
   ],
   "source": [
    "l=[34,23,2,5,34,266,22]\n",
    "l"
   ]
  },
  {
   "cell_type": "code",
   "execution_count": 143,
   "id": "e91e14ab-6d08-47a0-ae51-3673cfaedcda",
   "metadata": {},
   "outputs": [],
   "source": [
    "l.sort()"
   ]
  },
  {
   "cell_type": "code",
   "execution_count": 145,
   "id": "7747ac1b-a06d-4ffa-8426-b1cf9a15bd94",
   "metadata": {},
   "outputs": [
    {
     "data": {
      "text/plain": [
       "[2, 5, 22, 23, 34, 34, 266]"
      ]
     },
     "execution_count": 145,
     "metadata": {},
     "output_type": "execute_result"
    }
   ],
   "source": [
    "l"
   ]
  },
  {
   "cell_type": "code",
   "execution_count": 147,
   "id": "64221aca-5dc0-4b5d-9d2c-b8b229d8235a",
   "metadata": {},
   "outputs": [],
   "source": [
    "l.sort(reverse=True)"
   ]
  },
  {
   "cell_type": "code",
   "execution_count": 149,
   "id": "054d5812-9bfb-464d-92c0-c85937d3b4bc",
   "metadata": {},
   "outputs": [
    {
     "data": {
      "text/plain": [
       "[266, 34, 34, 23, 22, 5, 2]"
      ]
     },
     "execution_count": 149,
     "metadata": {},
     "output_type": "execute_result"
    }
   ],
   "source": [
    "l"
   ]
  },
  {
   "cell_type": "code",
   "execution_count": 151,
   "id": "fa4dee32-5c7d-4a29-941c-f117183edd25",
   "metadata": {},
   "outputs": [
    {
     "data": {
      "text/plain": [
       "[2, 5, 22, 23, 34, 34, 266]"
      ]
     },
     "execution_count": 151,
     "metadata": {},
     "output_type": "execute_result"
    }
   ],
   "source": [
    "sorted(l)"
   ]
  },
  {
   "cell_type": "markdown",
   "id": "81509cfc-3e5b-4597-8bb4-46899b97c7f4",
   "metadata": {},
   "source": [
    "## Count"
   ]
  },
  {
   "cell_type": "code",
   "execution_count": 155,
   "id": "1826076a-c9f8-481b-bdd3-0774af24d029",
   "metadata": {},
   "outputs": [
    {
     "data": {
      "text/plain": [
       "[266, 34, 34, 23, 22, 5, 2]"
      ]
     },
     "execution_count": 155,
     "metadata": {},
     "output_type": "execute_result"
    }
   ],
   "source": [
    "l"
   ]
  },
  {
   "cell_type": "code",
   "execution_count": 157,
   "id": "3a7d0b80-0456-4430-aa0c-d750cb878d4b",
   "metadata": {},
   "outputs": [
    {
     "data": {
      "text/plain": [
       "2"
      ]
     },
     "execution_count": 157,
     "metadata": {},
     "output_type": "execute_result"
    }
   ],
   "source": [
    "l.count(34)"
   ]
  },
  {
   "cell_type": "code",
   "execution_count": 159,
   "id": "a966b403-6bb9-4213-89e1-444a220241a1",
   "metadata": {},
   "outputs": [
    {
     "data": {
      "text/plain": [
       "1"
      ]
     },
     "execution_count": 159,
     "metadata": {},
     "output_type": "execute_result"
    }
   ],
   "source": [
    "l.count(2)"
   ]
  },
  {
   "cell_type": "markdown",
   "id": "102dca0f-2c4d-4b68-bcf4-7255e014ac05",
   "metadata": {},
   "source": [
    "## All /Any"
   ]
  },
  {
   "cell_type": "code",
   "execution_count": 165,
   "id": "10f527d9-de50-4132-bf26-a5843d72270e",
   "metadata": {},
   "outputs": [
    {
     "data": {
      "text/plain": [
       "[266, 34, 34, 23, 22, 5, 2]"
      ]
     },
     "execution_count": 165,
     "metadata": {},
     "output_type": "execute_result"
    }
   ],
   "source": [
    "l"
   ]
  },
  {
   "cell_type": "code",
   "execution_count": 167,
   "id": "8cb9ce4c-0ec0-477f-8dc3-4caa58d3acea",
   "metadata": {},
   "outputs": [
    {
     "data": {
      "text/plain": [
       "[266, 34, 34, 23, 22, 5, 2, 0]"
      ]
     },
     "execution_count": 167,
     "metadata": {},
     "output_type": "execute_result"
    }
   ],
   "source": [
    "l.append(0)\n",
    "l"
   ]
  },
  {
   "cell_type": "code",
   "execution_count": 171,
   "id": "8ef6174f-7991-460e-ab13-a82c79fb4dd2",
   "metadata": {},
   "outputs": [
    {
     "data": {
      "text/plain": [
       "False"
      ]
     },
     "execution_count": 171,
     "metadata": {},
     "output_type": "execute_result"
    }
   ],
   "source": [
    "all(l) # it returns a value if all elements in the list are true"
   ]
  },
  {
   "cell_type": "code",
   "execution_count": 173,
   "id": "e8202dbf-72a1-43b9-880c-a8b5c8065617",
   "metadata": {},
   "outputs": [
    {
     "data": {
      "text/plain": [
       "True"
      ]
     },
     "execution_count": 173,
     "metadata": {},
     "output_type": "execute_result"
    }
   ],
   "source": [
    "any(l) # if any element in the list are true"
   ]
  },
  {
   "cell_type": "code",
   "execution_count": 175,
   "id": "a2f7b5d8-3dc9-4e96-baeb-f190d35be467",
   "metadata": {},
   "outputs": [
    {
     "data": {
      "text/plain": [
       "[266, 34, 34, 23, 22, 5, 2]"
      ]
     },
     "execution_count": 175,
     "metadata": {},
     "output_type": "execute_result"
    }
   ],
   "source": [
    "l.remove(0)\n",
    "l"
   ]
  },
  {
   "cell_type": "code",
   "execution_count": 177,
   "id": "1bb17f45-4ac6-4d9c-942d-e031638758e1",
   "metadata": {},
   "outputs": [
    {
     "data": {
      "text/plain": [
       "[266, 34, 34, 23, 22, 5, 2, False]"
      ]
     },
     "execution_count": 177,
     "metadata": {},
     "output_type": "execute_result"
    }
   ],
   "source": [
    "l.append(False)\n",
    "l"
   ]
  },
  {
   "cell_type": "code",
   "execution_count": 179,
   "id": "63c4a978-6657-4a1d-b7e9-cf1b81eac465",
   "metadata": {},
   "outputs": [
    {
     "data": {
      "text/plain": [
       "False"
      ]
     },
     "execution_count": 179,
     "metadata": {},
     "output_type": "execute_result"
    }
   ],
   "source": [
    "all(l)"
   ]
  },
  {
   "cell_type": "code",
   "execution_count": null,
   "id": "f19c7c40-2b41-4d0f-994c-a193c75212f2",
   "metadata": {},
   "outputs": [],
   "source": []
  }
 ],
 "metadata": {
  "kernelspec": {
   "display_name": "Python [conda env:base] *",
   "language": "python",
   "name": "conda-base-py"
  },
  "language_info": {
   "codemirror_mode": {
    "name": "ipython",
    "version": 3
   },
   "file_extension": ".py",
   "mimetype": "text/x-python",
   "name": "python",
   "nbconvert_exporter": "python",
   "pygments_lexer": "ipython3",
   "version": "3.12.7"
  }
 },
 "nbformat": 4,
 "nbformat_minor": 5
}
