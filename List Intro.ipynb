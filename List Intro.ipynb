{
 "cells": [
  {
   "cell_type": "markdown",
   "id": "5bce756b-f5cb-4cde-af5f-efe5814844fb",
   "metadata": {},
   "source": [
    "# Task-6 List Class Assignment"
   ]
  },
  {
   "cell_type": "code",
   "execution_count": 52,
   "id": "bb173b1f-e196-4aec-9994-66f35153562d",
   "metadata": {},
   "outputs": [],
   "source": [
    "# in data type , we need to pass only one value\n",
    "# but in data structure , we can pass more than one values\n",
    "\n",
    "# different types of data structures are list , tuple , set, dict\n",
    "\n"
   ]
  },
  {
   "cell_type": "markdown",
   "id": "16abaac1-9d1f-4ec3-9a67-c8642f784b0e",
   "metadata": {},
   "source": [
    "## type casting "
   ]
  },
  {
   "cell_type": "code",
   "execution_count": 56,
   "id": "c779dc24-baed-4c5f-a7a9-c0e50b3d7995",
   "metadata": {},
   "outputs": [
    {
     "data": {
      "text/plain": [
       "2"
      ]
     },
     "execution_count": 56,
     "metadata": {},
     "output_type": "execute_result"
    }
   ],
   "source": [
    "int(2.3)"
   ]
  },
  {
   "cell_type": "code",
   "execution_count": 58,
   "id": "41899990-40ee-4593-81e9-c208ba834f61",
   "metadata": {},
   "outputs": [
    {
     "ename": "TypeError",
     "evalue": "int() takes at most 2 arguments (3 given)",
     "output_type": "error",
     "traceback": [
      "\u001b[0;31m---------------------------------------------------------------------------\u001b[0m",
      "\u001b[0;31mTypeError\u001b[0m                                 Traceback (most recent call last)",
      "Cell \u001b[0;32mIn[58], line 1\u001b[0m\n\u001b[0;32m----> 1\u001b[0m \u001b[38;5;28mint\u001b[39m(\u001b[38;5;241m2.3\u001b[39m,\u001b[38;5;241m2\u001b[39m,\u001b[38;5;241m5\u001b[39m)\n",
      "\u001b[0;31mTypeError\u001b[0m: int() takes at most 2 arguments (3 given)"
     ]
    }
   ],
   "source": [
    "int(2.3,2,5)"
   ]
  },
  {
   "cell_type": "code",
   "execution_count": 60,
   "id": "1f2d8eb1-7f95-4787-95ac-b1307f677ef4",
   "metadata": {},
   "outputs": [
    {
     "data": {
      "text/plain": [
       "1"
      ]
     },
     "execution_count": 60,
     "metadata": {},
     "output_type": "execute_result"
    }
   ],
   "source": [
    "int(True)"
   ]
  },
  {
   "cell_type": "code",
   "execution_count": 62,
   "id": "82d8ba46-e743-43c8-ab6a-93fe89c4cdf2",
   "metadata": {},
   "outputs": [
    {
     "data": {
      "text/plain": [
       "10"
      ]
     },
     "execution_count": 62,
     "metadata": {},
     "output_type": "execute_result"
    }
   ],
   "source": [
    "int('10')"
   ]
  },
  {
   "cell_type": "code",
   "execution_count": 64,
   "id": "f80812c5-4cd3-4a4e-80db-9d4b6c8a31a0",
   "metadata": {},
   "outputs": [
    {
     "ename": "ValueError",
     "evalue": "invalid literal for int() with base 10: 'ten'",
     "output_type": "error",
     "traceback": [
      "\u001b[0;31m---------------------------------------------------------------------------\u001b[0m",
      "\u001b[0;31mValueError\u001b[0m                                Traceback (most recent call last)",
      "Cell \u001b[0;32mIn[64], line 1\u001b[0m\n\u001b[0;32m----> 1\u001b[0m \u001b[38;5;28mint\u001b[39m(\u001b[38;5;124m'\u001b[39m\u001b[38;5;124mten\u001b[39m\u001b[38;5;124m'\u001b[39m)\n",
      "\u001b[0;31mValueError\u001b[0m: invalid literal for int() with base 10: 'ten'"
     ]
    }
   ],
   "source": [
    "int('ten')"
   ]
  },
  {
   "cell_type": "code",
   "execution_count": 66,
   "id": "d7664609-2b79-44e7-8d11-61d0df3e7f47",
   "metadata": {},
   "outputs": [
    {
     "ename": "TypeError",
     "evalue": "int() argument must be a string, a bytes-like object or a real number, not 'complex'",
     "output_type": "error",
     "traceback": [
      "\u001b[0;31m---------------------------------------------------------------------------\u001b[0m",
      "\u001b[0;31mTypeError\u001b[0m                                 Traceback (most recent call last)",
      "Cell \u001b[0;32mIn[66], line 1\u001b[0m\n\u001b[0;32m----> 1\u001b[0m \u001b[38;5;28mint\u001b[39m(\u001b[38;5;241m1\u001b[39m\u001b[38;5;241m+\u001b[39m\u001b[38;5;241m2\u001b[39mj)\n",
      "\u001b[0;31mTypeError\u001b[0m: int() argument must be a string, a bytes-like object or a real number, not 'complex'"
     ]
    }
   ],
   "source": [
    "int(1+2j)"
   ]
  },
  {
   "cell_type": "markdown",
   "id": "9af80ffd-5b05-4e7d-899b-1eee3164858b",
   "metadata": {},
   "source": [
    "we can't cnvert /typecast complex to int , remaining all possible(but string must be integer)"
   ]
  },
  {
   "cell_type": "code",
   "execution_count": 69,
   "id": "cde0187a-1e0f-4a17-b3a0-c4d997c5125e",
   "metadata": {},
   "outputs": [
    {
     "data": {
      "text/plain": [
       "10.0"
      ]
     },
     "execution_count": 69,
     "metadata": {},
     "output_type": "execute_result"
    }
   ],
   "source": [
    "float(10)"
   ]
  },
  {
   "cell_type": "code",
   "execution_count": 71,
   "id": "5a89e6b8-935c-42cf-be83-5ad0413b1e73",
   "metadata": {},
   "outputs": [
    {
     "data": {
      "text/plain": [
       "0.0"
      ]
     },
     "execution_count": 71,
     "metadata": {},
     "output_type": "execute_result"
    }
   ],
   "source": [
    "float(False)"
   ]
  },
  {
   "cell_type": "code",
   "execution_count": 73,
   "id": "f5c554e3-d283-4aba-9345-44155013dde9",
   "metadata": {},
   "outputs": [
    {
     "data": {
      "text/plain": [
       "10.0"
      ]
     },
     "execution_count": 73,
     "metadata": {},
     "output_type": "execute_result"
    }
   ],
   "source": [
    "float('10')"
   ]
  },
  {
   "cell_type": "code",
   "execution_count": 75,
   "id": "a3cfff60-c07a-4e99-87e8-39201adb06b6",
   "metadata": {},
   "outputs": [
    {
     "ename": "ValueError",
     "evalue": "could not convert string to float: 'ten'",
     "output_type": "error",
     "traceback": [
      "\u001b[0;31m---------------------------------------------------------------------------\u001b[0m",
      "\u001b[0;31mValueError\u001b[0m                                Traceback (most recent call last)",
      "Cell \u001b[0;32mIn[75], line 1\u001b[0m\n\u001b[0;32m----> 1\u001b[0m \u001b[38;5;28mfloat\u001b[39m(\u001b[38;5;124m'\u001b[39m\u001b[38;5;124mten\u001b[39m\u001b[38;5;124m'\u001b[39m)\n",
      "\u001b[0;31mValueError\u001b[0m: could not convert string to float: 'ten'"
     ]
    }
   ],
   "source": [
    "float('ten')"
   ]
  },
  {
   "cell_type": "code",
   "execution_count": 77,
   "id": "9d382413-5cdb-4f36-9bf7-4f64b5987bbe",
   "metadata": {},
   "outputs": [
    {
     "ename": "TypeError",
     "evalue": "float() argument must be a string or a real number, not 'complex'",
     "output_type": "error",
     "traceback": [
      "\u001b[0;31m---------------------------------------------------------------------------\u001b[0m",
      "\u001b[0;31mTypeError\u001b[0m                                 Traceback (most recent call last)",
      "Cell \u001b[0;32mIn[77], line 1\u001b[0m\n\u001b[0;32m----> 1\u001b[0m \u001b[38;5;28mfloat\u001b[39m(\u001b[38;5;241m1\u001b[39m\u001b[38;5;241m+\u001b[39m\u001b[38;5;241m2\u001b[39mj)\n",
      "\u001b[0;31mTypeError\u001b[0m: float() argument must be a string or a real number, not 'complex'"
     ]
    }
   ],
   "source": [
    "float(1+2j)"
   ]
  },
  {
   "cell_type": "markdown",
   "id": "f2059c6f-3b3a-4fad-aff3-8a55db366240",
   "metadata": {},
   "source": [
    "we can't cnvert /typecast complex to float , remaining all possible(but string must be integer)"
   ]
  },
  {
   "cell_type": "code",
   "execution_count": 82,
   "id": "3c759559-559c-46e8-aedb-5567f1b3d7d4",
   "metadata": {},
   "outputs": [
    {
     "name": "stdout",
     "output_type": "stream",
     "text": [
      "False\n",
      "True\n",
      "True\n",
      "False\n",
      "True\n",
      "True\n",
      "True\n"
     ]
    }
   ],
   "source": [
    "print(bool(0)) #false\n",
    "print(bool(10))\n",
    "print(bool(-10.0))\n",
    "print(bool())#false\n",
    "print(bool('a'))\n",
    "print(bool(1+2j))\n",
    "print(bool(_))"
   ]
  },
  {
   "cell_type": "markdown",
   "id": "092fa9d9-e56c-47cc-aca3-0a775c3222d6",
   "metadata": {},
   "source": [
    "we can convert everything to bool"
   ]
  },
  {
   "cell_type": "code",
   "execution_count": 86,
   "id": "7eb18ea5-0a43-4126-8532-275a184778f2",
   "metadata": {},
   "outputs": [
    {
     "name": "stdout",
     "output_type": "stream",
     "text": [
      "1\n",
      "1.2\n",
      "True\n",
      "string\n",
      "(1+2j)\n",
      "\n"
     ]
    }
   ],
   "source": [
    "print(str(1))\n",
    "print(str(1.2))\n",
    "print(str(True))\n",
    "print(str('string'))\n",
    "print(str(1+2j))\n",
    "print(str())"
   ]
  },
  {
   "cell_type": "code",
   "execution_count": 88,
   "id": "004f898d-dd01-4e5a-9221-48fba6a7787b",
   "metadata": {},
   "outputs": [
    {
     "data": {
      "text/plain": [
       "2"
      ]
     },
     "execution_count": 88,
     "metadata": {},
     "output_type": "execute_result"
    }
   ],
   "source": [
    "True+True"
   ]
  },
  {
   "cell_type": "markdown",
   "id": "d9f81bdf-13d3-49d9-b0d7-2d512728e504",
   "metadata": {},
   "source": [
    "We can typecast everything to string"
   ]
  },
  {
   "cell_type": "code",
   "execution_count": 92,
   "id": "887ff35d-d50d-40c9-8f4c-42dd59393e4b",
   "metadata": {},
   "outputs": [
    {
     "name": "stdout",
     "output_type": "stream",
     "text": [
      "False\n"
     ]
    }
   ],
   "source": [
    "print(len('COLD')==len('HOT'))"
   ]
  },
  {
   "cell_type": "code",
   "execution_count": 94,
   "id": "d87c2a54-4039-4b5c-9e3b-5eacf1be7cda",
   "metadata": {},
   "outputs": [
    {
     "name": "stdout",
     "output_type": "stream",
     "text": [
      "m\n",
      "i\n",
      "l\n",
      "k\n"
     ]
    }
   ],
   "source": [
    "s='milk'\n",
    "print(s[0])\n",
    "print(s[1])\n",
    "print(s[2])\n",
    "print(s[3])"
   ]
  },
  {
   "cell_type": "markdown",
   "id": "32ab1a6a-91ed-470c-a7af-fbf6f63a9d45",
   "metadata": {},
   "source": [
    "## List Data structure"
   ]
  },
  {
   "cell_type": "code",
   "execution_count": 7,
   "id": "48af0183-8669-443b-9f7d-6f894695eb66",
   "metadata": {},
   "outputs": [],
   "source": [
    "x_train, x_test, y_train, y_test= 12,13,14,15"
   ]
  },
  {
   "cell_type": "code",
   "execution_count": 3,
   "id": "0d09e870-ad04-464d-ab2c-bcba7ee9f0c8",
   "metadata": {},
   "outputs": [
    {
     "data": {
      "text/plain": [
       "0"
      ]
     },
     "execution_count": 3,
     "metadata": {},
     "output_type": "execute_result"
    }
   ],
   "source": [
    "l=[]\n",
    "len(l)"
   ]
  },
  {
   "cell_type": "code",
   "execution_count": 5,
   "id": "58ccf6a2-f346-4a69-9757-76c28f7a4cc6",
   "metadata": {},
   "outputs": [
    {
     "ename": "TypeError",
     "evalue": "list.append() takes exactly one argument (4 given)",
     "output_type": "error",
     "traceback": [
      "\u001b[0;31m---------------------------------------------------------------------------\u001b[0m",
      "\u001b[0;31mTypeError\u001b[0m                                 Traceback (most recent call last)",
      "Cell \u001b[0;32mIn[5], line 1\u001b[0m\n\u001b[0;32m----> 1\u001b[0m l\u001b[38;5;241m.\u001b[39mappend(\u001b[38;5;241m10\u001b[39m,\u001b[38;5;241m20\u001b[39m,\u001b[38;5;241m30\u001b[39m,\u001b[38;5;241m40\u001b[39m)\n",
      "\u001b[0;31mTypeError\u001b[0m: list.append() takes exactly one argument (4 given)"
     ]
    }
   ],
   "source": [
    "l.append(10,20,30,40)"
   ]
  },
  {
   "cell_type": "code",
   "execution_count": 9,
   "id": "c4155774-4d66-44fd-bf24-cd61849d8261",
   "metadata": {},
   "outputs": [],
   "source": [
    "l.append(10)\n",
    "l.append(20)\n",
    "l.append(30)\n",
    "l.append(40)"
   ]
  },
  {
   "cell_type": "code",
   "execution_count": 13,
   "id": "51918b47-5b62-453e-8cea-64b516b26ad6",
   "metadata": {},
   "outputs": [
    {
     "data": {
      "text/plain": [
       "[10, 20, 30, 40, 10, 20, 30, 40]"
      ]
     },
     "execution_count": 13,
     "metadata": {},
     "output_type": "execute_result"
    }
   ],
   "source": [
    "l"
   ]
  },
  {
   "cell_type": "code",
   "execution_count": null,
   "id": "4a876c2f-5b8e-4fea-8a14-9a816ce100c0",
   "metadata": {},
   "outputs": [],
   "source": [
    "l1=[]"
   ]
  },
  {
   "cell_type": "code",
   "execution_count": 18,
   "id": "231ff6f8-f78d-4aa9-afe2-15c2223854cc",
   "metadata": {},
   "outputs": [
    {
     "data": {
      "text/plain": [
       "[10, True, 12.3, [1, 2, 3]]"
      ]
     },
     "execution_count": 18,
     "metadata": {},
     "output_type": "execute_result"
    }
   ],
   "source": [
    "l1=[]\n",
    "l1.append(10)\n",
    "l1.append(True)\n",
    "l1.append(12.3)\n",
    "l1.append([1,2,3])\n",
    "l1"
   ]
  },
  {
   "cell_type": "code",
   "execution_count": 20,
   "id": "1ad112d1-2952-48c5-97a1-b7e816f7d263",
   "metadata": {},
   "outputs": [
    {
     "name": "stdout",
     "output_type": "stream",
     "text": [
      "[10, 20, 30, 40, 10, 20, 30, 40]\n",
      "[10, True, 12.3, [1, 2, 3]]\n"
     ]
    }
   ],
   "source": [
    "print(l)\n",
    "print(l1)"
   ]
  },
  {
   "cell_type": "code",
   "execution_count": 22,
   "id": "96bf6b0c-211e-4c2f-aa5a-184fbf21ada9",
   "metadata": {},
   "outputs": [
    {
     "name": "stdout",
     "output_type": "stream",
     "text": [
      "[10, True, 12.3, [1, 2, 3]]\n",
      "[10, True, 12.3, [1, 2, 3]]\n"
     ]
    }
   ],
   "source": [
    "l2=l1.copy()\n",
    "print(l1)\n",
    "print(l2)"
   ]
  },
  {
   "cell_type": "code",
   "execution_count": 24,
   "id": "bf499530-97ab-488f-b9a6-437aedc9c6f7",
   "metadata": {},
   "outputs": [
    {
     "name": "stdout",
     "output_type": "stream",
     "text": [
      "0x108d4c0c0\n",
      "0x11b3b5300\n"
     ]
    }
   ],
   "source": [
    "print(hex(id(l1)))\n",
    "print(hex(id(l2)))"
   ]
  },
  {
   "cell_type": "code",
   "execution_count": 28,
   "id": "0e10dbfb-ce1a-4258-a43e-73ae46f9ecac",
   "metadata": {},
   "outputs": [
    {
     "name": "stdout",
     "output_type": "stream",
     "text": [
      "4\n",
      "8\n"
     ]
    }
   ],
   "source": [
    "print(len(l1))\n",
    "print(len(l))"
   ]
  },
  {
   "cell_type": "code",
   "execution_count": 30,
   "id": "9d988981-bbd4-4b1b-84dc-11e21deaf37e",
   "metadata": {},
   "outputs": [
    {
     "data": {
      "text/plain": [
       "True"
      ]
     },
     "execution_count": 30,
     "metadata": {},
     "output_type": "execute_result"
    }
   ],
   "source": [
    "l2==l1"
   ]
  },
  {
   "cell_type": "code",
   "execution_count": 32,
   "id": "ef4ce281-4007-44f0-b1c4-fe7e7874a686",
   "metadata": {},
   "outputs": [
    {
     "data": {
      "text/plain": [
       "False"
      ]
     },
     "execution_count": 32,
     "metadata": {},
     "output_type": "execute_result"
    }
   ],
   "source": [
    "l1!=l2"
   ]
  },
  {
   "cell_type": "code",
   "execution_count": 34,
   "id": "51f30d31-4f13-425d-a03c-f638847ca26f",
   "metadata": {},
   "outputs": [
    {
     "name": "stdout",
     "output_type": "stream",
     "text": [
      "True\n"
     ]
    }
   ],
   "source": [
    "a,b=10,10\n",
    "print(id(a)==id(b))"
   ]
  },
  {
   "cell_type": "code",
   "execution_count": 36,
   "id": "fcb87446-9e74-4a4c-9fcb-1015de11f282",
   "metadata": {},
   "outputs": [
    {
     "name": "stdout",
     "output_type": "stream",
     "text": [
      "False\n"
     ]
    }
   ],
   "source": [
    "print(id(l1)==id(l2))"
   ]
  },
  {
   "cell_type": "code",
   "execution_count": 38,
   "id": "139c9428-bd72-46c1-ae8b-a717e150935d",
   "metadata": {},
   "outputs": [
    {
     "data": {
      "text/plain": [
       "[10, 20, 30, 40, 10, 20, 30, 40]"
      ]
     },
     "execution_count": 38,
     "metadata": {},
     "output_type": "execute_result"
    }
   ],
   "source": [
    "l"
   ]
  },
  {
   "cell_type": "code",
   "execution_count": 40,
   "id": "96f39e22-cde3-421b-9775-ffd90538cd75",
   "metadata": {},
   "outputs": [],
   "source": [
    "l.remove(40)"
   ]
  },
  {
   "cell_type": "code",
   "execution_count": 42,
   "id": "7afbe131-93fa-4c34-86d1-e226cc59a112",
   "metadata": {},
   "outputs": [
    {
     "data": {
      "text/plain": [
       "[10, 20, 30, 10, 20, 30, 40]"
      ]
     },
     "execution_count": 42,
     "metadata": {},
     "output_type": "execute_result"
    }
   ],
   "source": [
    "l"
   ]
  },
  {
   "cell_type": "code",
   "execution_count": 44,
   "id": "9d336035-3310-4175-9293-234136dbcbfc",
   "metadata": {},
   "outputs": [
    {
     "data": {
      "text/plain": [
       "[20, 30, 10, 20, 30, 40]"
      ]
     },
     "execution_count": 44,
     "metadata": {},
     "output_type": "execute_result"
    }
   ],
   "source": [
    "l.remove(10)\n",
    "l"
   ]
  },
  {
   "cell_type": "markdown",
   "id": "effd2d08-2860-4174-84ac-a837b070520f",
   "metadata": {},
   "source": [
    "# String Slicing"
   ]
  },
  {
   "cell_type": "code",
   "execution_count": 50,
   "id": "51a2bd84-4eee-4d3e-888b-d90df5cedccc",
   "metadata": {},
   "outputs": [
    {
     "data": {
      "text/plain": [
       "'hellohello'"
      ]
     },
     "execution_count": 50,
     "metadata": {},
     "output_type": "execute_result"
    }
   ],
   "source": [
    "s='hellohello'\n",
    "s"
   ]
  },
  {
   "cell_type": "code",
   "execution_count": 52,
   "id": "cb8a9fbf-172e-44e7-af5e-793c974b9343",
   "metadata": {},
   "outputs": [
    {
     "data": {
      "text/plain": [
       "'h'"
      ]
     },
     "execution_count": 52,
     "metadata": {},
     "output_type": "execute_result"
    }
   ],
   "source": [
    "s[0]"
   ]
  },
  {
   "cell_type": "code",
   "execution_count": 54,
   "id": "3fcdb4ad-9e3d-4210-80d1-78fe4460ac29",
   "metadata": {},
   "outputs": [
    {
     "data": {
      "text/plain": [
       "'o'"
      ]
     },
     "execution_count": 54,
     "metadata": {},
     "output_type": "execute_result"
    }
   ],
   "source": [
    "s[-1]"
   ]
  },
  {
   "cell_type": "code",
   "execution_count": 56,
   "id": "26a510b3-762e-4cab-b4f0-62de589d3792",
   "metadata": {},
   "outputs": [
    {
     "ename": "IndexError",
     "evalue": "string index out of range",
     "output_type": "error",
     "traceback": [
      "\u001b[0;31m---------------------------------------------------------------------------\u001b[0m",
      "\u001b[0;31mIndexError\u001b[0m                                Traceback (most recent call last)",
      "Cell \u001b[0;32mIn[56], line 1\u001b[0m\n\u001b[0;32m----> 1\u001b[0m s[\u001b[38;5;241m20\u001b[39m]\n",
      "\u001b[0;31mIndexError\u001b[0m: string index out of range"
     ]
    }
   ],
   "source": [
    "s[20]"
   ]
  },
  {
   "cell_type": "code",
   "execution_count": 58,
   "id": "b9e78702-4c02-4ec9-9462-8c745d1947dd",
   "metadata": {},
   "outputs": [
    {
     "name": "stdout",
     "output_type": "stream",
     "text": [
      "h\n",
      "e\n",
      "l\n",
      "l\n",
      "o\n",
      "h\n",
      "e\n",
      "l\n",
      "l\n",
      "o\n"
     ]
    }
   ],
   "source": [
    "for i in s:\n",
    "    print(i)"
   ]
  },
  {
   "cell_type": "code",
   "execution_count": 60,
   "id": "36795cbf-e71a-4feb-b1e7-d468b4995690",
   "metadata": {},
   "outputs": [
    {
     "data": {
      "text/plain": [
       "'hellohello'"
      ]
     },
     "execution_count": 60,
     "metadata": {},
     "output_type": "execute_result"
    }
   ],
   "source": [
    "s[0:]"
   ]
  },
  {
   "cell_type": "code",
   "execution_count": 62,
   "id": "92de302d-5615-4c5c-acc5-46483cea9e99",
   "metadata": {},
   "outputs": [
    {
     "data": {
      "text/plain": [
       "'el'"
      ]
     },
     "execution_count": 62,
     "metadata": {},
     "output_type": "execute_result"
    }
   ],
   "source": [
    "s[1:3]"
   ]
  },
  {
   "cell_type": "code",
   "execution_count": 64,
   "id": "403e2659-94eb-4395-8a3c-d4129efd49de",
   "metadata": {},
   "outputs": [
    {
     "data": {
      "text/plain": [
       "'hellohello'"
      ]
     },
     "execution_count": 64,
     "metadata": {},
     "output_type": "execute_result"
    }
   ],
   "source": [
    "s[:]"
   ]
  },
  {
   "cell_type": "code",
   "execution_count": 66,
   "id": "ffe055be-a40c-4436-bdbd-b8069bdc67c3",
   "metadata": {},
   "outputs": [
    {
     "data": {
      "text/plain": [
       "'hello'"
      ]
     },
     "execution_count": 66,
     "metadata": {},
     "output_type": "execute_result"
    }
   ],
   "source": [
    "s[:-5]"
   ]
  },
  {
   "cell_type": "code",
   "execution_count": 68,
   "id": "26cd9354-8861-47dc-89da-dbea8889b0e0",
   "metadata": {},
   "outputs": [
    {
     "data": {
      "text/plain": [
       "[1, 2, 3, 4, 5, 6, 7, 8, 9, 10]"
      ]
     },
     "execution_count": 68,
     "metadata": {},
     "output_type": "execute_result"
    }
   ],
   "source": [
    "step_indexing=[1,2,3,4,5,6,7,8,9,10]\n",
    "step_indexing"
   ]
  },
  {
   "cell_type": "code",
   "execution_count": 70,
   "id": "de042674-7ff4-40dd-8706-fdf7fc7ac2ed",
   "metadata": {},
   "outputs": [
    {
     "data": {
      "text/plain": [
       "[1, 5, 9]"
      ]
     },
     "execution_count": 70,
     "metadata": {},
     "output_type": "execute_result"
    }
   ],
   "source": [
    "step_indexing[0:10:4]"
   ]
  },
  {
   "cell_type": "code",
   "execution_count": 109,
   "id": "a25d066a-1c5b-4e6b-914e-f6c6ebaab5e2",
   "metadata": {},
   "outputs": [],
   "source": [
    "l.reverse()"
   ]
  },
  {
   "cell_type": "code",
   "execution_count": 111,
   "id": "77c5e6c4-3911-4ab9-a94a-b9e8acebb9f7",
   "metadata": {},
   "outputs": [],
   "source": [
    "l5 = l.reverse()\n",
    "l5"
   ]
  },
  {
   "cell_type": "code",
   "execution_count": 105,
   "id": "8f246bb8-68cd-40af-a298-06b1d60a653f",
   "metadata": {},
   "outputs": [],
   "source": []
  }
 ],
 "metadata": {
  "kernelspec": {
   "display_name": "Python [conda env:base] *",
   "language": "python",
   "name": "conda-base-py"
  },
  "language_info": {
   "codemirror_mode": {
    "name": "ipython",
    "version": 3
   },
   "file_extension": ".py",
   "mimetype": "text/x-python",
   "name": "python",
   "nbconvert_exporter": "python",
   "pygments_lexer": "ipython3",
   "version": "3.12.7"
  }
 },
 "nbformat": 4,
 "nbformat_minor": 5
}
