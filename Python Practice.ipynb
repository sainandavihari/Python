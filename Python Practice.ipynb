{
 "cells": [
  {
   "cell_type": "code",
   "execution_count": 8,
   "id": "5eafe3ca-78d6-458d-a227-37797e6480c8",
   "metadata": {},
   "outputs": [
    {
     "data": {
      "text/plain": [
       "'welcome to python programming language again'"
      ]
     },
     "execution_count": 8,
     "metadata": {},
     "output_type": "execute_result"
    }
   ],
   "source": [
    "'welcome to python programming language again'"
   ]
  },
  {
   "cell_type": "code",
   "execution_count": 11,
   "id": "02bb8f09-08c6-4df7-ac84-a1696e5387b4",
   "metadata": {},
   "outputs": [],
   "source": [
    "#python identifier"
   ]
  },
  {
   "cell_type": "raw",
   "id": "78503043-0154-421d-8b91-cf762f6621a6",
   "metadata": {},
   "source": [
    "- identifier can't be reserwed or keyword\n",
    "- identifier can't start with digit\n",
    "- identifier doesn't have any special words except _,#\n",
    "- identifier  is case sensitive\n",
    "- identifier has no length limit"
   ]
  },
  {
   "cell_type": "code",
   "execution_count": 15,
   "id": "5d305cc5-bc20-4fb2-aec5-1d0159f29c7c",
   "metadata": {},
   "outputs": [
    {
     "data": {
      "text/plain": [
       "1"
      ]
     },
     "execution_count": 15,
     "metadata": {},
     "output_type": "execute_result"
    }
   ],
   "source": [
    "int(True)"
   ]
  },
  {
   "cell_type": "markdown",
   "id": "799deacb-741e-4ccc-aca6-b0d9ff63a68e",
   "metadata": {},
   "source": [
    "Python variable"
   ]
  },
  {
   "cell_type": "code",
   "execution_count": 7,
   "id": "8e171807-977a-4283-84ba-8a520358bd50",
   "metadata": {},
   "outputs": [],
   "source": [
    "a=5#with varuiable"
   ]
  },
  {
   "cell_type": "code",
   "execution_count": 3,
   "id": "bf4340d7-59fd-4dbd-9aef-30792e3c32c6",
   "metadata": {},
   "outputs": [
    {
     "data": {
      "text/plain": [
       "5"
      ]
     },
     "execution_count": 3,
     "metadata": {},
     "output_type": "execute_result"
    }
   ],
   "source": [
    "a"
   ]
  },
  {
   "cell_type": "code",
   "execution_count": 9,
   "id": "13cb00b7-fec5-4844-850d-be857f815b51",
   "metadata": {},
   "outputs": [
    {
     "data": {
      "text/plain": [
       "5"
      ]
     },
     "execution_count": 9,
     "metadata": {},
     "output_type": "execute_result"
    }
   ],
   "source": [
    "5# without variable"
   ]
  },
  {
   "cell_type": "code",
   "execution_count": 11,
   "id": "56198d31-6d01-40f6-a13a-155f4d5df41e",
   "metadata": {},
   "outputs": [],
   "source": [
    "a=12,13"
   ]
  },
  {
   "cell_type": "code",
   "execution_count": 13,
   "id": "093039d1-9091-46d5-a4ae-dbb8a7372e09",
   "metadata": {},
   "outputs": [
    {
     "data": {
      "text/plain": [
       "(12, 13)"
      ]
     },
     "execution_count": 13,
     "metadata": {},
     "output_type": "execute_result"
    }
   ],
   "source": [
    "a"
   ]
  },
  {
   "cell_type": "code",
   "execution_count": 15,
   "id": "757bcdbb-0d6a-45e4-821d-45fd2eb367f4",
   "metadata": {},
   "outputs": [
    {
     "name": "stdout",
     "output_type": "stream",
     "text": [
      "12\n",
      "13\n"
     ]
    }
   ],
   "source": [
    "a,b=12,13\n",
    "print(a)\n",
    "print(b)"
   ]
  },
  {
   "cell_type": "markdown",
   "id": "521c267a-832d-46fc-8991-efe3b99c552d",
   "metadata": {},
   "source": [
    "when we dont use a variable , it will go to garbage collector"
   ]
  },
  {
   "cell_type": "markdown",
   "id": "45b31073-770f-4364-8b2a-9ee8e456a721",
   "metadata": {},
   "source": [
    "in python , @ means decorator"
   ]
  },
  {
   "cell_type": "markdown",
   "id": "5525240e-c3fe-4cc2-988c-1a052e6afb68",
   "metadata": {},
   "source": [
    "in python , function always ends with ()"
   ]
  },
  {
   "cell_type": "code",
   "execution_count": 24,
   "id": "d8b285b3-6130-4cab-bcca-f26f89355dd9",
   "metadata": {},
   "outputs": [
    {
     "data": {
      "text/plain": [
       "35"
      ]
     },
     "execution_count": 24,
     "metadata": {},
     "output_type": "execute_result"
    }
   ],
   "source": [
    "import keyword\n",
    "len(keyword.kwlist)"
   ]
  },
  {
   "cell_type": "code",
   "execution_count": 26,
   "id": "3f25cdd3-3833-43fe-a8ba-55714476bd64",
   "metadata": {},
   "outputs": [
    {
     "data": {
      "text/plain": [
       "['False',\n",
       " 'None',\n",
       " 'True',\n",
       " 'and',\n",
       " 'as',\n",
       " 'assert',\n",
       " 'async',\n",
       " 'await',\n",
       " 'break',\n",
       " 'class',\n",
       " 'continue',\n",
       " 'def',\n",
       " 'del',\n",
       " 'elif',\n",
       " 'else',\n",
       " 'except',\n",
       " 'finally',\n",
       " 'for',\n",
       " 'from',\n",
       " 'global',\n",
       " 'if',\n",
       " 'import',\n",
       " 'in',\n",
       " 'is',\n",
       " 'lambda',\n",
       " 'nonlocal',\n",
       " 'not',\n",
       " 'or',\n",
       " 'pass',\n",
       " 'raise',\n",
       " 'return',\n",
       " 'try',\n",
       " 'while',\n",
       " 'with',\n",
       " 'yield']"
      ]
     },
     "execution_count": 26,
     "metadata": {},
     "output_type": "execute_result"
    }
   ],
   "source": [
    "keyword.kwlist"
   ]
  },
  {
   "cell_type": "code",
   "execution_count": 1,
   "id": "10e2526b-0910-4b59-bbc0-b1d60ebb96a9",
   "metadata": {},
   "outputs": [
    {
     "ename": "NameError",
     "evalue": "name 'TRUE' is not defined",
     "output_type": "error",
     "traceback": [
      "\u001b[0;31m---------------------------------------------------------------------------\u001b[0m",
      "\u001b[0;31mNameError\u001b[0m                                 Traceback (most recent call last)",
      "Cell \u001b[0;32mIn[1], line 1\u001b[0m\n\u001b[0;32m----> 1\u001b[0m b1\u001b[38;5;241m=\u001b[39mTRUE\n\u001b[1;32m      2\u001b[0m b1\n",
      "\u001b[0;31mNameError\u001b[0m: name 'TRUE' is not defined"
     ]
    }
   ],
   "source": [
    "b1=TRUE\n",
    "b1"
   ]
  },
  {
   "cell_type": "code",
   "execution_count": 3,
   "id": "15f7e595-2f0f-4e89-8fe0-0f122c60e700",
   "metadata": {},
   "outputs": [
    {
     "ename": "NameError",
     "evalue": "name 'FALSE' is not defined",
     "output_type": "error",
     "traceback": [
      "\u001b[0;31m---------------------------------------------------------------------------\u001b[0m",
      "\u001b[0;31mNameError\u001b[0m                                 Traceback (most recent call last)",
      "Cell \u001b[0;32mIn[3], line 1\u001b[0m\n\u001b[0;32m----> 1\u001b[0m b2\u001b[38;5;241m=\u001b[39mFALSE\n\u001b[1;32m      2\u001b[0m b2\n",
      "\u001b[0;31mNameError\u001b[0m: name 'FALSE' is not defined"
     ]
    }
   ],
   "source": [
    "b2=FALSE\n",
    "b2"
   ]
  },
  {
   "cell_type": "code",
   "execution_count": 5,
   "id": "827e84d7-4b72-43d0-8f10-41db5ed6cf0e",
   "metadata": {},
   "outputs": [
    {
     "data": {
      "text/plain": [
       "(True, False)"
      ]
     },
     "execution_count": 5,
     "metadata": {},
     "output_type": "execute_result"
    }
   ],
   "source": [
    "b1=True\n",
    "b2=False\n",
    "b1,b2"
   ]
  },
  {
   "cell_type": "code",
   "execution_count": 9,
   "id": "685c6eba-9f5a-4bbd-97e7-188f575072cc",
   "metadata": {},
   "outputs": [],
   "source": [
    "b3=None\n",
    "b3"
   ]
  },
  {
   "cell_type": "code",
   "execution_count": 12,
   "id": "44280c56-0b2b-48df-99b0-dd92c8b491a2",
   "metadata": {},
   "outputs": [
    {
     "data": {
      "text/plain": [
       "bool"
      ]
     },
     "execution_count": 12,
     "metadata": {},
     "output_type": "execute_result"
    }
   ],
   "source": [
    "type(b1)#built in function"
   ]
  },
  {
   "cell_type": "code",
   "execution_count": 14,
   "id": "427d6d2e-4cc9-465d-a4a4-c818ab3d87f9",
   "metadata": {},
   "outputs": [
    {
     "data": {
      "text/plain": [
       "1"
      ]
     },
     "execution_count": 14,
     "metadata": {},
     "output_type": "execute_result"
    }
   ],
   "source": [
    "True+True+False-True"
   ]
  },
  {
   "cell_type": "code",
   "execution_count": 16,
   "id": "cd8e9626-d1ab-4861-abe1-54dc0358e00a",
   "metadata": {},
   "outputs": [
    {
     "data": {
      "text/plain": [
       "0"
      ]
     },
     "execution_count": 16,
     "metadata": {},
     "output_type": "execute_result"
    }
   ],
   "source": [
    "True*False"
   ]
  },
  {
   "cell_type": "code",
   "execution_count": 18,
   "id": "110fb600-970c-4daf-a0cc-2aab7f57e3b2",
   "metadata": {},
   "outputs": [
    {
     "data": {
      "text/plain": [
       "1"
      ]
     },
     "execution_count": 18,
     "metadata": {},
     "output_type": "execute_result"
    }
   ],
   "source": [
    "b1=True\n",
    "b2=False\n",
    "b1-b2"
   ]
  },
  {
   "cell_type": "markdown",
   "id": "a95f057d-c709-4cf3-86a7-c775996a2a0b",
   "metadata": {},
   "source": [
    "# boolean data type is completed"
   ]
  },
  {
   "cell_type": "code",
   "execution_count": 22,
   "id": "f706bc7e-a08d-4549-b70d-0864a2318f88",
   "metadata": {},
   "outputs": [
    {
     "name": "stdout",
     "output_type": "stream",
     "text": [
      "(10+20j) <class 'complex'>\n"
     ]
    }
   ],
   "source": [
    "c=10+20j\n",
    "print(c,type(c))"
   ]
  },
  {
   "cell_type": "code",
   "execution_count": 24,
   "id": "83b3b7b5-2249-4909-a572-eaa40180293b",
   "metadata": {},
   "outputs": [
    {
     "data": {
      "text/plain": [
       "10.0"
      ]
     },
     "execution_count": 24,
     "metadata": {},
     "output_type": "execute_result"
    }
   ],
   "source": [
    "c.real"
   ]
  },
  {
   "cell_type": "code",
   "execution_count": 26,
   "id": "ed602e4a-d80b-4704-bdff-a1ff6dbe8d63",
   "metadata": {},
   "outputs": [
    {
     "data": {
      "text/plain": [
       "20.0"
      ]
     },
     "execution_count": 26,
     "metadata": {},
     "output_type": "execute_result"
    }
   ],
   "source": [
    "c.imag"
   ]
  },
  {
   "cell_type": "code",
   "execution_count": 28,
   "id": "347f4719-c268-407a-a4d6-90f33a3acf17",
   "metadata": {},
   "outputs": [
    {
     "data": {
      "text/plain": [
       "(15+30j)"
      ]
     },
     "execution_count": 28,
     "metadata": {},
     "output_type": "execute_result"
    }
   ],
   "source": [
    "c1=5+10j\n",
    "c+c1"
   ]
  },
  {
   "cell_type": "code",
   "execution_count": 30,
   "id": "28fcd1e5-0a4e-47c3-bc88-979303ae6fc7",
   "metadata": {},
   "outputs": [
    {
     "data": {
      "text/plain": [
       "(-150+200j)"
      ]
     },
     "execution_count": 30,
     "metadata": {},
     "output_type": "execute_result"
    }
   ],
   "source": [
    "c*c1"
   ]
  },
  {
   "cell_type": "code",
   "execution_count": 32,
   "id": "a923262c-e139-4458-b7ab-18f2496d26cc",
   "metadata": {},
   "outputs": [],
   "source": [
    "c2=10+2.5J"
   ]
  },
  {
   "cell_type": "code",
   "execution_count": 34,
   "id": "a7b5713d-fb21-4cc8-9b7b-769c39f02fd6",
   "metadata": {},
   "outputs": [],
   "source": [
    "c3=10-2.5J"
   ]
  },
  {
   "cell_type": "code",
   "execution_count": 36,
   "id": "49f51d77-9dc1-46e7-affd-9f1ddad758e2",
   "metadata": {},
   "outputs": [
    {
     "data": {
      "text/plain": [
       "(106.25+0j)"
      ]
     },
     "execution_count": 36,
     "metadata": {},
     "output_type": "execute_result"
    }
   ],
   "source": [
    "c2*c3"
   ]
  },
  {
   "cell_type": "code",
   "execution_count": 38,
   "id": "6ea160e4-0e34-4769-8e12-b659eea06664",
   "metadata": {},
   "outputs": [
    {
     "data": {
      "text/plain": [
       "(10.3+2.1j)"
      ]
     },
     "execution_count": 38,
     "metadata": {},
     "output_type": "execute_result"
    }
   ],
   "source": [
    "c3=10.3+2.1j\n",
    "c3"
   ]
  },
  {
   "cell_type": "markdown",
   "id": "f7d19ba8-5e7a-4aac-87f8-393000386036",
   "metadata": {},
   "source": [
    "# complex data type completed"
   ]
  },
  {
   "cell_type": "code",
   "execution_count": 42,
   "id": "8b636859-c58a-4dda-944f-abf36607b6b2",
   "metadata": {},
   "outputs": [
    {
     "name": "stdout",
     "output_type": "stream",
     "text": [
      "llm model and generative ai great carrer a head.\n"
     ]
    }
   ],
   "source": [
    "s='llm model and generative ai great carrer a head.'\n",
    "s1=\"llm model and generative ai great carrer a head.\"\n",
    "print(s)"
   ]
  },
  {
   "cell_type": "code",
   "execution_count": 44,
   "id": "82a84e16-75a8-4c20-9f80-4525ae3e6bde",
   "metadata": {},
   "outputs": [
    {
     "name": "stdout",
     "output_type": "stream",
     "text": [
      "llm model and generative ai great carrer a head.\n"
     ]
    }
   ],
   "source": [
    "print(s1)"
   ]
  },
  {
   "cell_type": "code",
   "execution_count": 46,
   "id": "28f48428-4bf2-42a7-bbb2-8b844531baaa",
   "metadata": {},
   "outputs": [
    {
     "data": {
      "text/plain": [
       "'llm model and generative ai \\n\\n\\ngreat carrer a head.'"
      ]
     },
     "execution_count": 46,
     "metadata": {},
     "output_type": "execute_result"
    }
   ],
   "source": [
    "s2='''llm model and generative ai \n",
    "\n",
    "\n",
    "great carrer a head.'''\n",
    "s2"
   ]
  },
  {
   "cell_type": "markdown",
   "id": "8edf5b8b-76a1-4ac7-9edd-4cbee9aafdff",
   "metadata": {},
   "source": [
    "# basic strings are completed."
   ]
  },
  {
   "cell_type": "markdown",
   "id": "4bb7dd20-8a64-427c-be02-3eadac3b33db",
   "metadata": {},
   "source": [
    "# type casting "
   ]
  },
  {
   "cell_type": "code",
   "execution_count": 58,
   "id": "8b6441b1-4a62-432d-b707-155b0fbd3eb8",
   "metadata": {},
   "outputs": [
    {
     "data": {
      "text/plain": [
       "2"
      ]
     },
     "execution_count": 58,
     "metadata": {},
     "output_type": "execute_result"
    }
   ],
   "source": [
    "int(2.3)"
   ]
  },
  {
   "cell_type": "code",
   "execution_count": 62,
   "id": "4d4257be-e09e-4c2c-bf48-2645bbdb578a",
   "metadata": {},
   "outputs": [
    {
     "ename": "TypeError",
     "evalue": "'float' object cannot be interpreted as an integer",
     "output_type": "error",
     "traceback": [
      "\u001b[0;31m---------------------------------------------------------------------------\u001b[0m",
      "\u001b[0;31mTypeError\u001b[0m                                 Traceback (most recent call last)",
      "Cell \u001b[0;32mIn[62], line 1\u001b[0m\n\u001b[0;32m----> 1\u001b[0m \u001b[38;5;28mint\u001b[39m(\u001b[38;5;241m2.3\u001b[39m,\u001b[38;5;241m2.8\u001b[39m)\n",
      "\u001b[0;31mTypeError\u001b[0m: 'float' object cannot be interpreted as an integer"
     ]
    }
   ],
   "source": [
    "int(2.3,2.8)# this int() function occupies only one parameter."
   ]
  },
  {
   "cell_type": "code",
   "execution_count": 64,
   "id": "b863d366-e4fc-4126-a226-ee150194d30a",
   "metadata": {},
   "outputs": [
    {
     "data": {
      "text/plain": [
       "1"
      ]
     },
     "execution_count": 64,
     "metadata": {},
     "output_type": "execute_result"
    }
   ],
   "source": [
    "int(True)"
   ]
  },
  {
   "cell_type": "code",
   "execution_count": 70,
   "id": "f27e3e02-52ce-4581-a231-0a5d5d5c5dcc",
   "metadata": {},
   "outputs": [
    {
     "data": {
      "text/plain": [
       "10"
      ]
     },
     "execution_count": 70,
     "metadata": {},
     "output_type": "execute_result"
    }
   ],
   "source": [
    "int('10')"
   ]
  },
  {
   "cell_type": "code",
   "execution_count": 72,
   "id": "57cff445-bda9-4daa-9859-acf461748824",
   "metadata": {},
   "outputs": [
    {
     "ename": "ValueError",
     "evalue": "invalid literal for int() with base 10: 'ten'",
     "output_type": "error",
     "traceback": [
      "\u001b[0;31m---------------------------------------------------------------------------\u001b[0m",
      "\u001b[0;31mValueError\u001b[0m                                Traceback (most recent call last)",
      "Cell \u001b[0;32mIn[72], line 1\u001b[0m\n\u001b[0;32m----> 1\u001b[0m \u001b[38;5;28mint\u001b[39m(\u001b[38;5;124m'\u001b[39m\u001b[38;5;124mten\u001b[39m\u001b[38;5;124m'\u001b[39m)\n",
      "\u001b[0;31mValueError\u001b[0m: invalid literal for int() with base 10: 'ten'"
     ]
    }
   ],
   "source": [
    "int('ten')"
   ]
  },
  {
   "cell_type": "code",
   "execution_count": 68,
   "id": "d10d5f22-e31e-418f-9fc2-0d8e4939b26b",
   "metadata": {},
   "outputs": [
    {
     "ename": "TypeError",
     "evalue": "int() argument must be a string, a bytes-like object or a real number, not 'complex'",
     "output_type": "error",
     "traceback": [
      "\u001b[0;31m---------------------------------------------------------------------------\u001b[0m",
      "\u001b[0;31mTypeError\u001b[0m                                 Traceback (most recent call last)",
      "Cell \u001b[0;32mIn[68], line 1\u001b[0m\n\u001b[0;32m----> 1\u001b[0m \u001b[38;5;28mint\u001b[39m(\u001b[38;5;241m1\u001b[39m\u001b[38;5;241m+\u001b[39m\u001b[38;5;241m2\u001b[39mj)\n",
      "\u001b[0;31mTypeError\u001b[0m: int() argument must be a string, a bytes-like object or a real number, not 'complex'"
     ]
    }
   ],
   "source": [
    "int(1+2j)"
   ]
  },
  {
   "cell_type": "code",
   "execution_count": 74,
   "id": "ae99fc17-10b4-43dc-953d-81b3ebc17027",
   "metadata": {},
   "outputs": [],
   "source": [
    "# we can't convert complex to int and if argument is string , then the string is number only"
   ]
  },
  {
   "cell_type": "code",
   "execution_count": 76,
   "id": "21a5a1d4-1ed6-44e9-a2af-fc1a15600e04",
   "metadata": {},
   "outputs": [
    {
     "data": {
      "text/plain": [
       "10.0"
      ]
     },
     "execution_count": 76,
     "metadata": {},
     "output_type": "execute_result"
    }
   ],
   "source": [
    "float(10)"
   ]
  },
  {
   "cell_type": "code",
   "execution_count": 78,
   "id": "233b2673-dc17-4365-b293-1b5963fadf82",
   "metadata": {},
   "outputs": [
    {
     "data": {
      "text/plain": [
       "1.0"
      ]
     },
     "execution_count": 78,
     "metadata": {},
     "output_type": "execute_result"
    }
   ],
   "source": [
    "float(True)"
   ]
  },
  {
   "cell_type": "code",
   "execution_count": 80,
   "id": "cfce620a-6767-4758-bc7b-131bdb7e8b62",
   "metadata": {},
   "outputs": [
    {
     "data": {
      "text/plain": [
       "10.0"
      ]
     },
     "execution_count": 80,
     "metadata": {},
     "output_type": "execute_result"
    }
   ],
   "source": [
    "float('10')"
   ]
  },
  {
   "cell_type": "code",
   "execution_count": 82,
   "id": "5d5d493e-874c-464b-8c70-3e662c0b094a",
   "metadata": {},
   "outputs": [
    {
     "ename": "ValueError",
     "evalue": "could not convert string to float: 'ten'",
     "output_type": "error",
     "traceback": [
      "\u001b[0;31m---------------------------------------------------------------------------\u001b[0m",
      "\u001b[0;31mValueError\u001b[0m                                Traceback (most recent call last)",
      "Cell \u001b[0;32mIn[82], line 1\u001b[0m\n\u001b[0;32m----> 1\u001b[0m \u001b[38;5;28mfloat\u001b[39m(\u001b[38;5;124m'\u001b[39m\u001b[38;5;124mten\u001b[39m\u001b[38;5;124m'\u001b[39m)\n",
      "\u001b[0;31mValueError\u001b[0m: could not convert string to float: 'ten'"
     ]
    }
   ],
   "source": [
    "float('ten')"
   ]
  },
  {
   "cell_type": "code",
   "execution_count": 84,
   "id": "bfd46abc-1ae2-47af-9f9b-cce8841c75c6",
   "metadata": {},
   "outputs": [
    {
     "ename": "TypeError",
     "evalue": "float() argument must be a string or a real number, not 'complex'",
     "output_type": "error",
     "traceback": [
      "\u001b[0;31m---------------------------------------------------------------------------\u001b[0m",
      "\u001b[0;31mTypeError\u001b[0m                                 Traceback (most recent call last)",
      "Cell \u001b[0;32mIn[84], line 1\u001b[0m\n\u001b[0;32m----> 1\u001b[0m \u001b[38;5;28mfloat\u001b[39m(\u001b[38;5;241m10\u001b[39m\u001b[38;5;241m+\u001b[39m\u001b[38;5;241m20\u001b[39mj)\n",
      "\u001b[0;31mTypeError\u001b[0m: float() argument must be a string or a real number, not 'complex'"
     ]
    }
   ],
   "source": [
    "float(10+20j)"
   ]
  },
  {
   "cell_type": "code",
   "execution_count": 88,
   "id": "90d52bcf-8f6b-4d55-b175-c67a468bbad4",
   "metadata": {},
   "outputs": [
    {
     "name": "stdout",
     "output_type": "stream",
     "text": [
      "True\n",
      "True\n",
      "True\n",
      "True\n",
      "True\n",
      "True\n",
      "False\n",
      "False\n"
     ]
    }
   ],
   "source": [
    "print(bool(10))\n",
    "print(bool(10.10))\n",
    "print(bool('10'))\n",
    "print(bool('ten'))\n",
    "print(bool(1+2j))\n",
    "print(bool(_))\n",
    "print(bool())\n",
    "print(bool(0))"
   ]
  },
  {
   "cell_type": "code",
   "execution_count": null,
   "id": "6ad0f046-04cf-440c-a2c0-d01e041a287e",
   "metadata": {},
   "outputs": [],
   "source": []
  },
  {
   "cell_type": "code",
   "execution_count": 102,
   "id": "cf9a57dc-6239-43e2-99e2-da30833a41e9",
   "metadata": {},
   "outputs": [
    {
     "name": "stdout",
     "output_type": "stream",
     "text": [
      "<class 'str'>\n",
      "(1+2j)\n",
      "True\n"
     ]
    }
   ],
   "source": [
    "print(type(str(2.2)))\n",
    "print(str(1+2j))\n",
    "print(str(True))"
   ]
  },
  {
   "cell_type": "code",
   "execution_count": null,
   "id": "05d77667-2a6d-4b74-b265-8d6e93def55c",
   "metadata": {},
   "outputs": [],
   "source": []
  },
  {
   "cell_type": "code",
   "execution_count": null,
   "id": "20875dc9-a12b-4756-9863-158b35753e46",
   "metadata": {},
   "outputs": [],
   "source": []
  },
  {
   "cell_type": "code",
   "execution_count": 107,
   "id": "d873feb6-3a05-440b-8306-c031892de9f3",
   "metadata": {
    "scrolled": true
   },
   "outputs": [
    {
     "name": "stdout",
     "output_type": "stream",
     "text": [
      "2\n"
     ]
    }
   ],
   "source": [
    "print(True*2)"
   ]
  },
  {
   "cell_type": "code",
   "execution_count": null,
   "id": "b4af10b7-1657-41c9-85f5-d112723de726",
   "metadata": {},
   "outputs": [],
   "source": []
  },
  {
   "cell_type": "markdown",
   "id": "78230580-1a56-442f-9001-0f5169215e30",
   "metadata": {},
   "source": [
    "# Task-3 Print() "
   ]
  },
  {
   "cell_type": "code",
   "execution_count": 191,
   "id": "e66226c2-8782-47e4-a222-3e698658585f",
   "metadata": {},
   "outputs": [
    {
     "data": {
      "text/plain": [
       "(10, 20)"
      ]
     },
     "execution_count": 191,
     "metadata": {},
     "output_type": "execute_result"
    }
   ],
   "source": [
    "a,b=10,20\n",
    "a,b"
   ]
  },
  {
   "cell_type": "code",
   "execution_count": 118,
   "id": "55199d68-fd7a-474f-9ba6-762118e7e211",
   "metadata": {},
   "outputs": [
    {
     "data": {
      "text/plain": [
       "20"
      ]
     },
     "execution_count": 118,
     "metadata": {},
     "output_type": "execute_result"
    }
   ],
   "source": [
    "a\n",
    "b"
   ]
  },
  {
   "cell_type": "code",
   "execution_count": 120,
   "id": "b09c438b-9f63-42b5-b375-b0907383a2dd",
   "metadata": {},
   "outputs": [
    {
     "name": "stdout",
     "output_type": "stream",
     "text": [
      "10 20 python\n"
     ]
    }
   ],
   "source": [
    "print(10,20,'python')"
   ]
  },
  {
   "cell_type": "code",
   "execution_count": 130,
   "id": "9be1dfcb-6b55-4594-a66e-3a7ff546c951",
   "metadata": {},
   "outputs": [
    {
     "name": "stdout",
     "output_type": "stream",
     "text": [
      "the addition of num1 10 and num2 20 is 30\n"
     ]
    }
   ],
   "source": [
    "num1=10\n",
    "num2=20\n",
    "print('the addition of num1',num1,'and num2',num2, 'is',num1+num2)"
   ]
  },
  {
   "cell_type": "code",
   "execution_count": 134,
   "id": "d628fbea-9a03-425b-8442-d73d2f7441ac",
   "metadata": {},
   "outputs": [
    {
     "name": "stdout",
     "output_type": "stream",
     "text": [
      "the sum of num1 10 and num2 20 is 30\n"
     ]
    }
   ],
   "source": [
    "#using format method\n",
    "res=num1+num2\n",
    "print('the sum of num1 {} and num2 {} is {}'.format(num1,num2,res))"
   ]
  },
  {
   "cell_type": "code",
   "execution_count": 144,
   "id": "4450be2c-7b44-4d77-972b-aa13b95c41ab",
   "metadata": {},
   "outputs": [
    {
     "name": "stdout",
     "output_type": "stream",
     "text": [
      "the average of 10 and 20 is = 15.0 \n"
     ]
    }
   ],
   "source": [
    "print('the average of {} and {} is = {} '.format(num1,num2,(num1+num2)/2 ))"
   ]
  },
  {
   "cell_type": "code",
   "execution_count": 146,
   "id": "210dcc99-d6f5-4c5a-808f-395cbb05351b",
   "metadata": {},
   "outputs": [
    {
     "name": "stdout",
     "output_type": "stream",
     "text": [
      "the addition of 20 and 30 is 50\n"
     ]
    }
   ],
   "source": [
    "#using f strings method\n",
    "num1=20\n",
    "num2=30\n",
    "add=num1+num2\n",
    "print(f'the addition of {num1} and {num2} is {add}')"
   ]
  },
  {
   "cell_type": "code",
   "execution_count": 156,
   "id": "36becfc4-a05a-4bac-bb26-21baecf6f1b1",
   "metadata": {},
   "outputs": [
    {
     "name": "stdout",
     "output_type": "stream",
     "text": [
      "the average of 20 and 30 is 25\n"
     ]
    }
   ],
   "source": [
    "print(f'the average of {num1} and {num2} is {int((num1+num2)/2)}')"
   ]
  },
  {
   "cell_type": "code",
   "execution_count": 158,
   "id": "dd535e31-e00a-4b86-bd7c-dc7c3ff6dff2",
   "metadata": {},
   "outputs": [
    {
     "name": "stdout",
     "output_type": "stream",
     "text": [
      "Hello\n",
      "good morning\n"
     ]
    }
   ],
   "source": [
    "print('Hello')\n",
    "print('good morning')"
   ]
  },
  {
   "cell_type": "code",
   "execution_count": 162,
   "id": "cd97c21b-a625-4dee-8b8c-e25ec0ff20d4",
   "metadata": {},
   "outputs": [
    {
     "name": "stdout",
     "output_type": "stream",
     "text": [
      "Hello good morning\n"
     ]
    }
   ],
   "source": [
    "print('Hello',end=' ')\n",
    "print('good morning')"
   ]
  },
  {
   "cell_type": "code",
   "execution_count": 164,
   "id": "67f503f8-4c48-4988-b846-0109e45bd067",
   "metadata": {},
   "outputs": [
    {
     "name": "stdout",
     "output_type": "stream",
     "text": [
      "hi---->hello---->how are you\n"
     ]
    }
   ],
   "source": [
    "print('hi','hello','how are you',sep='---->')"
   ]
  },
  {
   "cell_type": "code",
   "execution_count": 166,
   "id": "1097a1ab-30a7-4ea2-a3df-c5fb7de5768f",
   "metadata": {},
   "outputs": [
    {
     "name": "stdout",
     "output_type": "stream",
     "text": [
      "hi@$@hello@$@how are you\n"
     ]
    }
   ],
   "source": [
    "print('hi','hello','how are you',sep='@$@')"
   ]
  },
  {
   "cell_type": "code",
   "execution_count": 168,
   "id": "8e22f1d1-b930-44b2-8d74-ce755ff0c5fc",
   "metadata": {},
   "outputs": [
    {
     "name": "stdout",
     "output_type": "stream",
     "text": [
      "3 .\n"
     ]
    }
   ],
   "source": [
    "print(3,'.')"
   ]
  },
  {
   "cell_type": "code",
   "execution_count": 186,
   "id": "e43c05bb-37e2-410b-9a3a-f9efb58a0a0d",
   "metadata": {},
   "outputs": [
    {
     "name": "stdout",
     "output_type": "stream",
     "text": [
      "1 2 4.\n"
     ]
    }
   ],
   "source": [
    "print(1,2,sep=' ',end=' ')\n",
    "print(4,'.',sep='')"
   ]
  },
  {
   "cell_type": "markdown",
   "id": "3a9c654f-6a52-4f9e-9542-c1077ca04b92",
   "metadata": {},
   "source": [
    "# Task-4 Identifier and datatype"
   ]
  },
  {
   "cell_type": "code",
   "execution_count": 189,
   "id": "19206e2f-0133-48b2-bb67-e7c1c03acc43",
   "metadata": {},
   "outputs": [],
   "source": [
    "#identifiers and data types"
   ]
  },
  {
   "cell_type": "code",
   "execution_count": 193,
   "id": "bd23e4de-23db-4aa2-96fd-3f98673afbaa",
   "metadata": {},
   "outputs": [],
   "source": [
    "import sys\n",
    "import keyword\n",
    "import operator\n",
    "from datetime import datetime\n",
    "import os"
   ]
  },
  {
   "cell_type": "code",
   "execution_count": 195,
   "id": "a5ad2407-6197-4520-b044-bc1713b72fcd",
   "metadata": {},
   "outputs": [
    {
     "data": {
      "text/plain": [
       "35"
      ]
     },
     "execution_count": 195,
     "metadata": {},
     "output_type": "execute_result"
    }
   ],
   "source": [
    "len(keyword.kwlist)"
   ]
  },
  {
   "cell_type": "code",
   "execution_count": 197,
   "id": "fe9c287e-5404-4b95-8247-810221da51a0",
   "metadata": {},
   "outputs": [
    {
     "ename": "SyntaxError",
     "evalue": "invalid decimal literal (1521661254.py, line 1)",
     "output_type": "error",
     "traceback": [
      "\u001b[0;36m  Cell \u001b[0;32mIn[197], line 1\u001b[0;36m\u001b[0m\n\u001b[0;31m    1var=10\u001b[0m\n\u001b[0m    ^\u001b[0m\n\u001b[0;31mSyntaxError\u001b[0m\u001b[0;31m:\u001b[0m invalid decimal literal\n"
     ]
    }
   ],
   "source": [
    "1var=10"
   ]
  },
  {
   "cell_type": "code",
   "execution_count": 199,
   "id": "a3c91967-1780-4201-9acf-7372e2c4f9ff",
   "metadata": {},
   "outputs": [
    {
     "ename": "NameError",
     "evalue": "name 'var2' is not defined",
     "output_type": "error",
     "traceback": [
      "\u001b[0;31m---------------------------------------------------------------------------\u001b[0m",
      "\u001b[0;31mNameError\u001b[0m                                 Traceback (most recent call last)",
      "Cell \u001b[0;32mIn[199], line 1\u001b[0m\n\u001b[0;32m----> 1\u001b[0m var2\u001b[38;5;241m@\u001b[39m\u001b[38;5;241m=\u001b[39m\u001b[38;5;241m12\u001b[39m\n",
      "\u001b[0;31mNameError\u001b[0m: name 'var2' is not defined"
     ]
    }
   ],
   "source": [
    "var2@=12"
   ]
  },
  {
   "cell_type": "code",
   "execution_count": 201,
   "id": "0b9e79fb-b9cd-4207-a9e3-31de8f2aef31",
   "metadata": {},
   "outputs": [
    {
     "ename": "SyntaxError",
     "evalue": "invalid syntax (3531036750.py, line 1)",
     "output_type": "error",
     "traceback": [
      "\u001b[0;36m  Cell \u001b[0;32mIn[201], line 1\u001b[0;36m\u001b[0m\n\u001b[0;31m    import =25\u001b[0m\n\u001b[0m           ^\u001b[0m\n\u001b[0;31mSyntaxError\u001b[0m\u001b[0;31m:\u001b[0m invalid syntax\n"
     ]
    }
   ],
   "source": [
    "import =25"
   ]
  },
  {
   "cell_type": "code",
   "execution_count": 203,
   "id": "66286d42-482b-4ef9-a978-5d4e7708beb8",
   "metadata": {},
   "outputs": [],
   "source": [
    "val_1=10"
   ]
  },
  {
   "cell_type": "code",
   "execution_count": 205,
   "id": "cbc3ab76-4b5d-49d5-b43d-abde1bf61606",
   "metadata": {},
   "outputs": [],
   "source": [
    "#comments in python"
   ]
  },
  {
   "cell_type": "code",
   "execution_count": 207,
   "id": "5d7493ee-ffcc-4dc2-945b-6618a7cb168f",
   "metadata": {},
   "outputs": [],
   "source": [
    "#single line comment"
   ]
  },
  {
   "cell_type": "code",
   "execution_count": 211,
   "id": "6d529be2-4a35-44c2-9b0a-b8b31a271061",
   "metadata": {},
   "outputs": [],
   "source": [
    "# multi line comment\n",
    "# multi line comment\n",
    "# multi line comment"
   ]
  },
  {
   "cell_type": "code",
   "execution_count": 213,
   "id": "d6e88dde-f63a-4328-b0b2-ce56eb1441b6",
   "metadata": {},
   "outputs": [
    {
     "data": {
      "text/plain": [
       "'\\nmultiple line \\n\\ncomment\\n\\n'"
      ]
     },
     "execution_count": 213,
     "metadata": {},
     "output_type": "execute_result"
    }
   ],
   "source": [
    "'''\n",
    "multiple line \n",
    "\n",
    "comment\n",
    "\n",
    "'''\n"
   ]
  },
  {
   "cell_type": "code",
   "execution_count": 215,
   "id": "acb73ffa-2674-42ad-ad00-a1a181af796a",
   "metadata": {},
   "outputs": [
    {
     "data": {
      "text/plain": [
       "'\\nmultiple line \\n\\ncomment\\n'"
      ]
     },
     "execution_count": 215,
     "metadata": {},
     "output_type": "execute_result"
    }
   ],
   "source": [
    "\"\"\"\n",
    "multiple line \n",
    "\n",
    "comment\n",
    "\"\"\""
   ]
  },
  {
   "cell_type": "code",
   "execution_count": 217,
   "id": "ed44aeb6-ecfe-42f3-8749-e6f7dc6c95ce",
   "metadata": {},
   "outputs": [],
   "source": [
    "p=20\n",
    "q=20\n",
    "r=q\n"
   ]
  },
  {
   "cell_type": "code",
   "execution_count": 219,
   "id": "965b0c8e-9614-463f-88d2-09a1ad2b9e53",
   "metadata": {},
   "outputs": [
    {
     "name": "stdout",
     "output_type": "stream",
     "text": [
      "20 <class 'int'> 0x10290a170\n",
      "20 <class 'int'> 0x10290a170\n",
      "20 <class 'int'> 0x10290a170\n"
     ]
    }
   ],
   "source": [
    "print(p,type(p),hex(id(p)))\n",
    "print(q,type(q),hex(id(q)))\n",
    "print(r,type(r),hex(id(r)))"
   ]
  },
  {
   "cell_type": "code",
   "execution_count": 221,
   "id": "09c5a033-4a44-4cfe-872d-a760e9827668",
   "metadata": {},
   "outputs": [],
   "source": [
    "# so python is a memory management"
   ]
  },
  {
   "cell_type": "code",
   "execution_count": 223,
   "id": "2ccaa184-fa4a-47ca-8e90-86ddd9ccda08",
   "metadata": {},
   "outputs": [
    {
     "data": {
      "text/plain": [
       "30"
      ]
     },
     "execution_count": 223,
     "metadata": {},
     "output_type": "execute_result"
    }
   ],
   "source": [
    "p=p+10# overwriting\n",
    "p"
   ]
  },
  {
   "cell_type": "code",
   "execution_count": 225,
   "id": "3538b0df-99b4-4be1-b3ee-0a8fd8a208dd",
   "metadata": {},
   "outputs": [
    {
     "name": "stdout",
     "output_type": "stream",
     "text": [
      "10\n",
      "10.12\n",
      "python language\n"
     ]
    }
   ],
   "source": [
    "int_var,float_var,string_var=10,10.12,'python language'\n",
    "print(int_var)\n",
    "print(float_var)\n",
    "print(string_var)"
   ]
  },
  {
   "cell_type": "code",
   "execution_count": 227,
   "id": "0459185e-26ec-471a-b86c-be49700b915f",
   "metadata": {},
   "outputs": [
    {
     "name": "stdout",
     "output_type": "stream",
     "text": [
      "44 44 44 44\n"
     ]
    }
   ],
   "source": [
    "p1=p2=p3=p4=44\n",
    "print(p1,p2,p3,p4)"
   ]
  },
  {
   "cell_type": "code",
   "execution_count": 229,
   "id": "339ffc7c-2f3e-420b-b36c-32e296591c71",
   "metadata": {},
   "outputs": [],
   "source": [
    "# data types"
   ]
  },
  {
   "cell_type": "code",
   "execution_count": 231,
   "id": "4388cd0c-2578-40f1-87bb-49584b77ba44",
   "metadata": {},
   "outputs": [
    {
     "name": "stdout",
     "output_type": "stream",
     "text": [
      "10 <class 'int'>\n"
     ]
    }
   ],
   "source": [
    "val1=10\n",
    "print(val1,type(val1))"
   ]
  },
  {
   "cell_type": "code",
   "execution_count": 233,
   "id": "e6513637-7c22-448f-a571-903aea60f6df",
   "metadata": {},
   "outputs": [
    {
     "name": "stdout",
     "output_type": "stream",
     "text": [
      "28\n"
     ]
    }
   ],
   "source": [
    "print(sys.getsizeof(val1))"
   ]
  },
  {
   "cell_type": "code",
   "execution_count": 235,
   "id": "74e810a8-96a4-44d7-85d8-0248e28299df",
   "metadata": {},
   "outputs": [
    {
     "name": "stdout",
     "output_type": "stream",
     "text": [
      "10 is integer? True\n"
     ]
    }
   ],
   "source": [
    "print(val1,\"is integer?\", isinstance(val1,int))"
   ]
  },
  {
   "cell_type": "code",
   "execution_count": 237,
   "id": "bbf554a2-a3e2-4060-a127-347c6328d5c6",
   "metadata": {},
   "outputs": [
    {
     "name": "stdout",
     "output_type": "stream",
     "text": [
      "10 is float? False\n"
     ]
    }
   ],
   "source": [
    "print(val1,\"is float?\",isinstance(val1,float))"
   ]
  },
  {
   "cell_type": "code",
   "execution_count": 241,
   "id": "23ea6af9-27e8-41a7-a01f-bc972d6efb3e",
   "metadata": {},
   "outputs": [
    {
     "name": "stdout",
     "output_type": "stream",
     "text": [
      "(10+20j)\n",
      "32\n",
      "(10+20j) is complex? True\n"
     ]
    }
   ],
   "source": [
    "val2=10+20j\n",
    "print(val2)\n",
    "print(sys.getsizeof(val2))\n",
    "print(val2,\"is complex?\",isinstance(val2,complex))"
   ]
  },
  {
   "cell_type": "code",
   "execution_count": 247,
   "id": "835f7dec-6e48-4e9e-afb2-fd10357300c0",
   "metadata": {},
   "outputs": [
    {
     "data": {
      "text/plain": [
       "28"
      ]
     },
     "execution_count": 247,
     "metadata": {},
     "output_type": "execute_result"
    }
   ],
   "source": [
    "sys.getsizeof(int())# getting size of int object in bytes"
   ]
  },
  {
   "cell_type": "code",
   "execution_count": 249,
   "id": "601d363e-f942-482b-915a-776a7bc7b479",
   "metadata": {},
   "outputs": [
    {
     "data": {
      "text/plain": [
       "32"
      ]
     },
     "execution_count": 249,
     "metadata": {},
     "output_type": "execute_result"
    }
   ],
   "source": [
    "sys.getsizeof(complex())# getting size of int object in bytes"
   ]
  },
  {
   "cell_type": "code",
   "execution_count": 251,
   "id": "8435ecc3-bd00-4340-8d24-c57efd7bfb05",
   "metadata": {},
   "outputs": [
    {
     "name": "stdout",
     "output_type": "stream",
     "text": [
      "True False\n"
     ]
    }
   ],
   "source": [
    "bool1=True\n",
    "bool2=False\n",
    "print(bool1,bool2)"
   ]
  },
  {
   "cell_type": "code",
   "execution_count": 253,
   "id": "4e97f1e6-7a5a-467b-a890-299efe49db35",
   "metadata": {},
   "outputs": [
    {
     "name": "stdout",
     "output_type": "stream",
     "text": [
      "<class 'bool'>\n"
     ]
    }
   ],
   "source": [
    "print(type(bool1))"
   ]
  },
  {
   "cell_type": "code",
   "execution_count": 255,
   "id": "a37a07f8-78d4-4d16-852f-fb418cf8b99d",
   "metadata": {},
   "outputs": [
    {
     "data": {
      "text/plain": [
       "True"
      ]
     },
     "execution_count": 255,
     "metadata": {},
     "output_type": "execute_result"
    }
   ],
   "source": [
    "isinstance(bool1,bool)"
   ]
  },
  {
   "cell_type": "code",
   "execution_count": 257,
   "id": "8059f293-bd07-409a-b7cd-0677d65d0dd8",
   "metadata": {},
   "outputs": [
    {
     "data": {
      "text/plain": [
       "False"
      ]
     },
     "execution_count": 257,
     "metadata": {},
     "output_type": "execute_result"
    }
   ],
   "source": [
    "bool(0)"
   ]
  },
  {
   "cell_type": "code",
   "execution_count": 259,
   "id": "81016dd9-0b43-4cd7-9844-80fada8b7899",
   "metadata": {},
   "outputs": [
    {
     "data": {
      "text/plain": [
       "True"
      ]
     },
     "execution_count": 259,
     "metadata": {},
     "output_type": "execute_result"
    }
   ],
   "source": [
    "bool(1)"
   ]
  },
  {
   "cell_type": "code",
   "execution_count": 261,
   "id": "376f73f2-4c00-48d1-b50e-613f74516218",
   "metadata": {},
   "outputs": [
    {
     "data": {
      "text/plain": [
       "False"
      ]
     },
     "execution_count": 261,
     "metadata": {},
     "output_type": "execute_result"
    }
   ],
   "source": [
    "bool(None)"
   ]
  },
  {
   "cell_type": "code",
   "execution_count": 263,
   "id": "a5876150-d7bf-475a-9de5-721ecfc00db1",
   "metadata": {},
   "outputs": [
    {
     "data": {
      "text/plain": [
       "True"
      ]
     },
     "execution_count": 263,
     "metadata": {},
     "output_type": "execute_result"
    }
   ],
   "source": [
    "bool(1)"
   ]
  },
  {
   "cell_type": "code",
   "execution_count": 265,
   "id": "f6c302e9-f689-46de-ada2-9ee8b7b2a0de",
   "metadata": {},
   "outputs": [
    {
     "name": "stdout",
     "output_type": "stream",
     "text": [
      "hello python\n"
     ]
    }
   ],
   "source": [
    "str1='hello python'\n",
    "str2=\"how are you?\"\n",
    "print(str1)"
   ]
  },
  {
   "cell_type": "code",
   "execution_count": 267,
   "id": "1bb556bd-b669-443e-b88b-68e7875d8a06",
   "metadata": {},
   "outputs": [
    {
     "name": "stdout",
     "output_type": "stream",
     "text": [
      "how are you?\n"
     ]
    }
   ],
   "source": [
    "print(str2)"
   ]
  },
  {
   "cell_type": "code",
   "execution_count": 269,
   "id": "d7251e47-865a-4dc6-aae4-68ee08e706b3",
   "metadata": {},
   "outputs": [
    {
     "data": {
      "text/plain": [
       "'\\nhi\\nhow \\nare you\\n\\n'"
      ]
     },
     "execution_count": 269,
     "metadata": {},
     "output_type": "execute_result"
    }
   ],
   "source": [
    "str3='''\n",
    "hi\n",
    "how \n",
    "are you\n",
    "\n",
    "'''\n",
    "str3"
   ]
  },
  {
   "cell_type": "code",
   "execution_count": 273,
   "id": "ec08a326-87b4-4f6b-8bc8-0d15069197b4",
   "metadata": {},
   "outputs": [
    {
     "data": {
      "text/plain": [
       "'\\nhi\\n     how \\n    are you\\n'"
      ]
     },
     "execution_count": 273,
     "metadata": {},
     "output_type": "execute_result"
    }
   ],
   "source": [
    "str4=\"\"\"\n",
    "hi\n",
    "     how \n",
    "    are you\n",
    "\"\"\"\n",
    "str4"
   ]
  },
  {
   "cell_type": "code",
   "execution_count": 277,
   "id": "a435c204-b6d6-48af-8391-c5777557a08e",
   "metadata": {},
   "outputs": [
    {
     "name": "stdout",
     "output_type": "stream",
     "text": [
      "happy monday everyone \n"
     ]
    }
   ],
   "source": [
    "str5=('happy '\n",
    "     \n",
    "     'monday '\n",
    "     'everyone ')\n",
    "print(str5)"
   ]
  },
  {
   "cell_type": "code",
   "execution_count": 281,
   "id": "38943741-a0c1-465c-bc06-68efef2db695",
   "metadata": {},
   "outputs": [
    {
     "name": "stdout",
     "output_type": "stream",
     "text": [
      "wohoo  wohoo  wohoo  wohoo  wohoo  \n"
     ]
    }
   ],
   "source": [
    "str6='wohoo  '\n",
    "print(str6*5)"
   ]
  },
  {
   "cell_type": "code",
   "execution_count": 283,
   "id": "f9e8017f-243c-482e-a561-68c2d8e6b000",
   "metadata": {},
   "outputs": [
    {
     "data": {
      "text/plain": [
       "7"
      ]
     },
     "execution_count": 283,
     "metadata": {},
     "output_type": "execute_result"
    }
   ],
   "source": [
    "len(str6)"
   ]
  },
  {
   "cell_type": "code",
   "execution_count": 285,
   "id": "ea5462fa-c8e0-49f8-93bc-4577860dca33",
   "metadata": {},
   "outputs": [
    {
     "data": {
      "text/plain": [
       "'H'"
      ]
     },
     "execution_count": 285,
     "metadata": {},
     "output_type": "execute_result"
    }
   ],
   "source": [
    "str1='Hello python'\n",
    "str1[0]\n"
   ]
  },
  {
   "cell_type": "code",
   "execution_count": 287,
   "id": "141c7b8c-2360-4b84-9a36-aa8f4fff7246",
   "metadata": {},
   "outputs": [
    {
     "data": {
      "text/plain": [
       "'n'"
      ]
     },
     "execution_count": 287,
     "metadata": {},
     "output_type": "execute_result"
    }
   ],
   "source": [
    "str1[len(str1)-1]"
   ]
  },
  {
   "cell_type": "code",
   "execution_count": 289,
   "id": "d2c47a73-3155-4987-bbd4-f5e8bfeb86be",
   "metadata": {},
   "outputs": [
    {
     "data": {
      "text/plain": [
       "'n'"
      ]
     },
     "execution_count": 289,
     "metadata": {},
     "output_type": "execute_result"
    }
   ],
   "source": [
    "str1[-1]"
   ]
  },
  {
   "cell_type": "code",
   "execution_count": 293,
   "id": "fb976dc9-f35c-4acd-b95a-61e6e2be4cb8",
   "metadata": {},
   "outputs": [
    {
     "data": {
      "text/plain": [
       "' '"
      ]
     },
     "execution_count": 293,
     "metadata": {},
     "output_type": "execute_result"
    }
   ],
   "source": [
    "str1[5]"
   ]
  },
  {
   "cell_type": "code",
   "execution_count": 295,
   "id": "58111b4c-8ddd-49fb-9d04-21062ca1c888",
   "metadata": {},
   "outputs": [
    {
     "data": {
      "text/plain": [
       "'Hello'"
      ]
     },
     "execution_count": 295,
     "metadata": {},
     "output_type": "execute_result"
    }
   ],
   "source": [
    "str1[0:5]"
   ]
  },
  {
   "cell_type": "code",
   "execution_count": 297,
   "id": "d463b455-d16d-49bb-87ff-5848763f0525",
   "metadata": {},
   "outputs": [
    {
     "data": {
      "text/plain": [
       "'thon'"
      ]
     },
     "execution_count": 297,
     "metadata": {},
     "output_type": "execute_result"
    }
   ],
   "source": [
    "str1[-4:]"
   ]
  },
  {
   "cell_type": "code",
   "execution_count": 299,
   "id": "10fbc219-c3f7-451e-b771-9836bf425523",
   "metadata": {},
   "outputs": [
    {
     "data": {
      "text/plain": [
       "'Hello '"
      ]
     },
     "execution_count": 299,
     "metadata": {},
     "output_type": "execute_result"
    }
   ],
   "source": [
    "str1[:6]"
   ]
  },
  {
   "cell_type": "code",
   "execution_count": 305,
   "id": "2d9b4ab2-1aa7-4998-96b4-807549ff1567",
   "metadata": {},
   "outputs": [],
   "source": [
    "str1=\"hi\"\n",
    "str1='Hello python'"
   ]
  },
  {
   "cell_type": "code",
   "execution_count": 309,
   "id": "83be1b26-38a2-4316-8590-d0078433d479",
   "metadata": {},
   "outputs": [
    {
     "ename": "TypeError",
     "evalue": "'str' object does not support item assignment",
     "output_type": "error",
     "traceback": [
      "\u001b[0;31m---------------------------------------------------------------------------\u001b[0m",
      "\u001b[0;31mTypeError\u001b[0m                                 Traceback (most recent call last)",
      "Cell \u001b[0;32mIn[309], line 1\u001b[0m\n\u001b[0;32m----> 1\u001b[0m str1[\u001b[38;5;241m0\u001b[39m:\u001b[38;5;241m5\u001b[39m]\u001b[38;5;241m=\u001b[39m\u001b[38;5;124m'\u001b[39m\u001b[38;5;124mhoule\u001b[39m\u001b[38;5;124m'\u001b[39m\n",
      "\u001b[0;31mTypeError\u001b[0m: 'str' object does not support item assignment"
     ]
    }
   ],
   "source": [
    "str1[0:5]='houle' #strings are immutable"
   ]
  },
  {
   "cell_type": "code",
   "execution_count": 311,
   "id": "06c25b92-651a-4ee3-b9c0-068fd41e5ac9",
   "metadata": {},
   "outputs": [
    {
     "ename": "NameError",
     "evalue": "name 'str1' is not defined",
     "output_type": "error",
     "traceback": [
      "\u001b[0;31m---------------------------------------------------------------------------\u001b[0m",
      "\u001b[0;31mNameError\u001b[0m                                 Traceback (most recent call last)",
      "Cell \u001b[0;32mIn[311], line 2\u001b[0m\n\u001b[1;32m      1\u001b[0m \u001b[38;5;28;01mdel\u001b[39;00m str1\n\u001b[0;32m----> 2\u001b[0m str1\n",
      "\u001b[0;31mNameError\u001b[0m: name 'str1' is not defined"
     ]
    }
   ],
   "source": [
    "del str1\n",
    "str1"
   ]
  },
  {
   "cell_type": "code",
   "execution_count": 421,
   "id": "c837abaa-029b-4791-bbfd-86d6d03ec4bc",
   "metadata": {},
   "outputs": [
    {
     "name": "stdout",
     "output_type": "stream",
     "text": [
      "hellonanda\n"
     ]
    }
   ],
   "source": [
    "s1='hello'\n",
    "s2='nanda'\n",
    "s3=s1+s2\n",
    "print(s3)"
   ]
  },
  {
   "cell_type": "markdown",
   "id": "05af0941-71cd-4013-ad7f-c71dd7bf4314",
   "metadata": {},
   "source": [
    "# Task-5 Basic code, Operator, String, Variable"
   ]
  },
  {
   "cell_type": "code",
   "execution_count": 2,
   "id": "c7e031f6-25a4-4d9f-8a02-6c9a6e95b9a3",
   "metadata": {},
   "outputs": [
    {
     "data": {
      "text/plain": [
       "'nanda'"
      ]
     },
     "execution_count": 2,
     "metadata": {},
     "output_type": "execute_result"
    }
   ],
   "source": [
    "s1='nanda'\n",
    "s1"
   ]
  },
  {
   "cell_type": "code",
   "execution_count": 6,
   "id": "bb39f587-6932-4a59-afd6-e5f36f6fb219",
   "metadata": {},
   "outputs": [
    {
     "name": "stdout",
     "output_type": "stream",
     "text": [
      "5\n",
      "<class 'str'>\n"
     ]
    }
   ],
   "source": [
    "print(len(s1))\n",
    "print(type(s1))"
   ]
  },
  {
   "cell_type": "code",
   "execution_count": null,
   "id": "68625ff1-651e-49cb-8460-e49d2c0617a6",
   "metadata": {},
   "outputs": [],
   "source": []
  },
  {
   "cell_type": "code",
   "execution_count": 12,
   "id": "9b2a2d2e-8646-4942-8b51-679de3b1b0a8",
   "metadata": {},
   "outputs": [
    {
     "name": "stdout",
     "output_type": "stream",
     "text": [
      "matrix is collections of ds\n",
      "ds is collections \n",
      "of data type\n",
      "matrix is collections of ds\n",
      "ds is collections \n",
      "of data type \n"
     ]
    }
   ],
   "source": [
    "# multi line quotes\n",
    "s2='''matrix is collections of ds\n",
    "ds is collections \n",
    "of data type'''\n",
    "\n",
    "s3= \"\"\"matrix is collections of ds\n",
    "ds is collections \n",
    "of data type \"\"\"\n",
    "print(s2)\n",
    "print(s3)\n"
   ]
  },
  {
   "cell_type": "code",
   "execution_count": null,
   "id": "e4f157a0-30c3-47e7-8140-70e5a6b47c4f",
   "metadata": {},
   "outputs": [],
   "source": []
  },
  {
   "cell_type": "code",
   "execution_count": 16,
   "id": "88dc3ca9-27a7-4f34-a009-38d27c20fd6a",
   "metadata": {},
   "outputs": [
    {
     "name": "stdout",
     "output_type": "stream",
     "text": [
      "sai nanda vihari M\n"
     ]
    }
   ],
   "source": [
    "f_name='sai nanda vihari'\n",
    "l_name=\"M\"\n",
    "full_name= f_name+\" \"+l_name\n",
    "print(full_name)"
   ]
  },
  {
   "cell_type": "code",
   "execution_count": null,
   "id": "45095c8d-43ff-49dc-90c5-263bfa0475c7",
   "metadata": {},
   "outputs": [],
   "source": [
    "#boolean"
   ]
  },
  {
   "cell_type": "code",
   "execution_count": 22,
   "id": "f7378deb-cb94-4b11-b8ea-b3715190b640",
   "metadata": {},
   "outputs": [
    {
     "name": "stdout",
     "output_type": "stream",
     "text": [
      "True False\n",
      "1\n",
      "0\n",
      "True\n"
     ]
    }
   ],
   "source": [
    "# boolean\n",
    "a=True\n",
    "b=False\n",
    "print(a,b)\n",
    "print(a+b)\n",
    "print(a*b)\n",
    "print(a>b)"
   ]
  },
  {
   "cell_type": "code",
   "execution_count": 32,
   "id": "dc5f8860-11d2-43ea-915c-a15249e19af6",
   "metadata": {},
   "outputs": [
    {
     "name": "stdout",
     "output_type": "stream",
     "text": [
      "(10+20j) <class 'complex'>\n",
      "10.0\n",
      "20.0\n",
      "(250+0j)\n",
      "(-1.2+1.6j)\n"
     ]
    }
   ],
   "source": [
    "#complex\n",
    "c=10+20j\n",
    "c1=5-10j\n",
    "print(c,type(c))\n",
    "print(c.real)\n",
    "print(c.imag)\n",
    "print(c*c1)\n",
    "print(c/c1)\n"
   ]
  },
  {
   "cell_type": "code",
   "execution_count": null,
   "id": "9ea15deb-9e4f-4582-a666-f6202ec65e06",
   "metadata": {},
   "outputs": [],
   "source": [
    "#\n"
   ]
  },
  {
   "cell_type": "code",
   "execution_count": null,
   "id": "c895b36a-e7d2-40f3-a25f-496cc7d56c2c",
   "metadata": {},
   "outputs": [],
   "source": [
    "#float\n",
    "f=10.2\n",
    "print(type(f))"
   ]
  },
  {
   "cell_type": "code",
   "execution_count": 38,
   "id": "66fbc35d-2b32-4f6b-bbcb-0d522aa34505",
   "metadata": {},
   "outputs": [
    {
     "name": "stdout",
     "output_type": "stream",
     "text": [
      "10.0 2000.0 300.0\n"
     ]
    }
   ],
   "source": [
    "f1=1e1\n",
    "f2=2e3\n",
    "f3=3e2\n",
    "print(f1,f2,f3)"
   ]
  },
  {
   "cell_type": "code",
   "execution_count": 40,
   "id": "986550eb-f625-406e-b30c-90e7c8eb5b44",
   "metadata": {},
   "outputs": [
    {
     "name": "stdout",
     "output_type": "stream",
     "text": [
      "<class 'float'>\n"
     ]
    }
   ],
   "source": [
    "print(type(f2))"
   ]
  },
  {
   "cell_type": "code",
   "execution_count": 45,
   "id": "a4554eba-7934-4e6e-8b19-30ccb7662be1",
   "metadata": {},
   "outputs": [
    {
     "name": "stdout",
     "output_type": "stream",
     "text": [
      "12 <class 'int'>\n",
      "24\n"
     ]
    }
   ],
   "source": [
    "#integer\n",
    "i=12\n",
    "print(i,type(i))\n",
    "i=i+i\n",
    "print(i)"
   ]
  },
  {
   "cell_type": "code",
   "execution_count": 47,
   "id": "bb173b1f-e196-4aec-9994-66f35153562d",
   "metadata": {},
   "outputs": [
    {
     "name": "stdout",
     "output_type": "stream",
     "text": [
      "4865072512\n",
      "4865077440\n",
      "5\n",
      "5\n"
     ]
    }
   ],
   "source": [
    "'''list\n",
    "\n",
    "-- append function is allowed \n",
    "-- dublicate is allowed\n",
    "-- only one argument, in append() user can pass only one argument\n",
    "-- multiple data types allowed in list\n",
    "-- list inside list called nested list\n",
    "-- list remove() will remove last occurance of an element.\n",
    "-- reverse() revcerse the list\n",
    "# in data type , we need to pass only one value\n",
    "# but in data structure , we can pass more than one values\n",
    "\n",
    "matrix is collections of ds\n",
    "ds is collections of data type\n",
    "python ds-->\n",
    "list , tuple , set, dict\n",
    "'''\n",
    "l=[]# empty list\n",
    "l\n",
    "len(l)\n",
    "l.append(10)# l.append() means add elemrnts at the end of the listl\n",
    "len(l)\n",
    "\n",
    "\n",
    "l.append(10)\n",
    "l.append(20)\n",
    "l.append(30)\n",
    "l.append(40)\n",
    "l\n",
    "l1=[]\n",
    "l1.append(10)\n",
    "l1.append(10.12)\n",
    "l1.append(True)\n",
    "l1.append('1+2j')\n",
    "l1.append([1,2,3])\n",
    "l1\n",
    "\n",
    "print(id(l))\n",
    "print(id(l1))\n",
    "\n",
    "print(len(l))\n",
    "print(len(l1))"
   ]
  },
  {
   "cell_type": "code",
   "execution_count": 351,
   "id": "fe62356a-0ac1-464d-b7f2-05ee8cced32e",
   "metadata": {},
   "outputs": [],
   "source": [
    "#copy() function"
   ]
  },
  {
   "cell_type": "code",
   "execution_count": 353,
   "id": "2bcd85db-8a2b-4cb7-9ee5-697ea17afa2d",
   "metadata": {},
   "outputs": [
    {
     "data": {
      "text/plain": [
       "[10, 10.12, True, '1+2j', [1, 2, 3]]"
      ]
     },
     "execution_count": 353,
     "metadata": {},
     "output_type": "execute_result"
    }
   ],
   "source": [
    "l2=l1.copy()\n",
    "l2"
   ]
  },
  {
   "cell_type": "code",
   "execution_count": 355,
   "id": "f7f657d8-5462-4465-ab2e-ca587467450f",
   "metadata": {},
   "outputs": [
    {
     "data": {
      "text/plain": [
       "True"
      ]
     },
     "execution_count": 355,
     "metadata": {},
     "output_type": "execute_result"
    }
   ],
   "source": [
    "l2==l1"
   ]
  },
  {
   "cell_type": "code",
   "execution_count": 357,
   "id": "8569b65a-72fe-4e7c-89da-5bc5540c647e",
   "metadata": {},
   "outputs": [
    {
     "data": {
      "text/plain": [
       "[10, 10, 10, 10, 10, 20, 30, 40]"
      ]
     },
     "execution_count": 357,
     "metadata": {},
     "output_type": "execute_result"
    }
   ],
   "source": [
    "l"
   ]
  },
  {
   "cell_type": "code",
   "execution_count": 361,
   "id": "d87b1858-b0c6-47ff-b856-2e452571630a",
   "metadata": {},
   "outputs": [
    {
     "data": {
      "text/plain": [
       "False"
      ]
     },
     "execution_count": 361,
     "metadata": {},
     "output_type": "execute_result"
    }
   ],
   "source": [
    "l==l2"
   ]
  },
  {
   "cell_type": "code",
   "execution_count": 363,
   "id": "96692b66-1b3d-431d-bb7b-762fa9ee9e93",
   "metadata": {},
   "outputs": [
    {
     "data": {
      "text/plain": [
       "True"
      ]
     },
     "execution_count": 363,
     "metadata": {},
     "output_type": "execute_result"
    }
   ],
   "source": [
    "l!=l2"
   ]
  },
  {
   "cell_type": "code",
   "execution_count": 367,
   "id": "49d75cba-f5a4-48d3-92e4-16f7d1b23a00",
   "metadata": {},
   "outputs": [
    {
     "name": "stdout",
     "output_type": "stream",
     "text": [
      "False\n"
     ]
    }
   ],
   "source": [
    "print(id(l1)==id(l2))"
   ]
  },
  {
   "cell_type": "code",
   "execution_count": 369,
   "id": "12e360bd-2f75-4ae2-9b92-75182e042d7e",
   "metadata": {},
   "outputs": [
    {
     "name": "stdout",
     "output_type": "stream",
     "text": [
      "True\n"
     ]
    }
   ],
   "source": [
    "a=5\n",
    "b=5\n",
    "print(id(a)==id(b))"
   ]
  },
  {
   "cell_type": "code",
   "execution_count": 371,
   "id": "70517465-89f7-4d54-b1b7-0412c350c75c",
   "metadata": {},
   "outputs": [],
   "source": [
    "# remove function"
   ]
  },
  {
   "cell_type": "code",
   "execution_count": 373,
   "id": "c8af7170-00f3-4c8d-9fd8-0b98acfd0497",
   "metadata": {},
   "outputs": [
    {
     "data": {
      "text/plain": [
       "[10, 10, 10, 10, 10, 20, 30, 40]"
      ]
     },
     "execution_count": 373,
     "metadata": {},
     "output_type": "execute_result"
    }
   ],
   "source": [
    "l"
   ]
  },
  {
   "cell_type": "code",
   "execution_count": 375,
   "id": "2cfb50c1-ec14-4d0d-934c-15945b098584",
   "metadata": {},
   "outputs": [
    {
     "data": {
      "text/plain": [
       "[10, 10, 10, 20, 30, 40]"
      ]
     },
     "execution_count": 375,
     "metadata": {},
     "output_type": "execute_result"
    }
   ],
   "source": [
    "l.remove(10)\n",
    "l.remove(10)\n",
    "l"
   ]
  },
  {
   "cell_type": "code",
   "execution_count": 378,
   "id": "a9f35708-c1b0-4758-b9f0-f158b412d47f",
   "metadata": {},
   "outputs": [
    {
     "data": {
      "text/plain": [
       "'i am a bad boy'"
      ]
     },
     "execution_count": 378,
     "metadata": {},
     "output_type": "execute_result"
    }
   ],
   "source": [
    "n7='i am a bad boy'\n",
    "n7"
   ]
  },
  {
   "cell_type": "code",
   "execution_count": 380,
   "id": "348fc53a-a1b8-4b82-a944-8fc0b9bb4dee",
   "metadata": {},
   "outputs": [
    {
     "data": {
      "text/plain": [
       "'i'"
      ]
     },
     "execution_count": 380,
     "metadata": {},
     "output_type": "execute_result"
    }
   ],
   "source": [
    "n7[0]"
   ]
  },
  {
   "cell_type": "code",
   "execution_count": null,
   "id": "689e8bf6-9a4f-48d3-af69-c3984bfb1c30",
   "metadata": {},
   "outputs": [],
   "source": []
  },
  {
   "cell_type": "code",
   "execution_count": 382,
   "id": "8b0eb164-a760-4ba3-b434-fbe79f625748",
   "metadata": {},
   "outputs": [
    {
     "data": {
      "text/plain": [
       "'a'"
      ]
     },
     "execution_count": 382,
     "metadata": {},
     "output_type": "execute_result"
    }
   ],
   "source": [
    "n7[2]"
   ]
  },
  {
   "cell_type": "code",
   "execution_count": 384,
   "id": "1197f9d4-e115-4e4f-b75f-ce1c74551785",
   "metadata": {},
   "outputs": [
    {
     "data": {
      "text/plain": [
       "'y'"
      ]
     },
     "execution_count": 384,
     "metadata": {},
     "output_type": "execute_result"
    }
   ],
   "source": [
    "n7[-1]"
   ]
  },
  {
   "cell_type": "code",
   "execution_count": 390,
   "id": "a2b30e76-17c7-4d3a-94eb-d61833aab8dc",
   "metadata": {},
   "outputs": [
    {
     "data": {
      "text/plain": [
       "'a'"
      ]
     },
     "execution_count": 390,
     "metadata": {},
     "output_type": "execute_result"
    }
   ],
   "source": [
    "n7[-12]"
   ]
  },
  {
   "cell_type": "code",
   "execution_count": 392,
   "id": "10070482-f2ca-4b7a-83ce-3f80314e14db",
   "metadata": {},
   "outputs": [
    {
     "data": {
      "text/plain": [
       "'\\nstring slicing\\nfarward slicing \\n-- left to right\\n-- \\nbackward slicing -- right to left\\n'"
      ]
     },
     "execution_count": 392,
     "metadata": {},
     "output_type": "execute_result"
    }
   ],
   "source": [
    "'''\n",
    "string slicing\n",
    "farward slicing \n",
    "-- left to right\n",
    "--  0,1,2,3,...\n",
    "backward slicing -- right to left\n",
    "-- -1,-2,-3,...\n",
    "\n",
    "\n",
    "\n",
    "'''"
   ]
  },
  {
   "cell_type": "code",
   "execution_count": 394,
   "id": "101ebd87-e768-4127-90b5-bef6810eef19",
   "metadata": {},
   "outputs": [
    {
     "data": {
      "text/plain": [
       "[10, 10, 10, 20, 30, 40]"
      ]
     },
     "execution_count": 394,
     "metadata": {},
     "output_type": "execute_result"
    }
   ],
   "source": [
    "l"
   ]
  },
  {
   "cell_type": "code",
   "execution_count": 414,
   "id": "ffcaccb4-045c-474d-8895-005546cc355d",
   "metadata": {},
   "outputs": [],
   "source": [
    "l.reverse()"
   ]
  },
  {
   "cell_type": "code",
   "execution_count": 416,
   "id": "79f46ce6-0e5b-45f5-8836-7bae280261be",
   "metadata": {},
   "outputs": [
    {
     "data": {
      "text/plain": [
       "[40, 30, 20, 10, 10, 10]"
      ]
     },
     "execution_count": 416,
     "metadata": {},
     "output_type": "execute_result"
    }
   ],
   "source": [
    "l"
   ]
  },
  {
   "cell_type": "code",
   "execution_count": 423,
   "id": "46c1c216-53e6-457c-9376-f5528a05a2af",
   "metadata": {},
   "outputs": [],
   "source": [
    "# pending todays class T6 - list class assignment and t5"
   ]
  },
  {
   "cell_type": "code",
   "execution_count": null,
   "id": "f1b1c636-fd90-4a9c-af55-0f9316726f79",
   "metadata": {},
   "outputs": [],
   "source": []
  }
 ],
 "metadata": {
  "kernelspec": {
   "display_name": "Python [conda env:base] *",
   "language": "python",
   "name": "conda-base-py"
  },
  "language_info": {
   "codemirror_mode": {
    "name": "ipython",
    "version": 3
   },
   "file_extension": ".py",
   "mimetype": "text/x-python",
   "name": "python",
   "nbconvert_exporter": "python",
   "pygments_lexer": "ipython3",
   "version": "3.12.7"
  }
 },
 "nbformat": 4,
 "nbformat_minor": 5
}
