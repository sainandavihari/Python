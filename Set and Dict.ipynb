{
 "cells": [
  {
   "cell_type": "markdown",
   "id": "7eb68cd2-55ba-40f9-9eba-af3e258d04ce",
   "metadata": {},
   "source": [
    "# Task-12: Set & Dict class explanation & Assigned documentation"
   ]
  },
  {
   "cell_type": "code",
   "execution_count": 7,
   "id": "a73f208d-d854-42ce-af6d-56f802c28162",
   "metadata": {},
   "outputs": [
    {
     "data": {
      "text/plain": [
       "set()"
      ]
     },
     "execution_count": 7,
     "metadata": {},
     "output_type": "execute_result"
    }
   ],
   "source": [
    "s=set()\n",
    "s"
   ]
  },
  {
   "cell_type": "code",
   "execution_count": 9,
   "id": "ccfe6ac0-a1b3-43f6-8cb3-2ea093a30eea",
   "metadata": {},
   "outputs": [],
   "source": [
    "s.add(1)\n",
    "s.add(2)\n",
    "s.add(3)\n",
    "s.add(4)\n",
    "s.add(5)"
   ]
  },
  {
   "cell_type": "code",
   "execution_count": 11,
   "id": "578a8014-36e6-4e9e-a029-8a6c6b65be46",
   "metadata": {},
   "outputs": [
    {
     "data": {
      "text/plain": [
       "{1, 2, 3, 4, 5}"
      ]
     },
     "execution_count": 11,
     "metadata": {},
     "output_type": "execute_result"
    }
   ],
   "source": [
    "s"
   ]
  },
  {
   "cell_type": "code",
   "execution_count": 13,
   "id": "cd6e89e9-1276-48e1-afd0-bc7eec84c9ed",
   "metadata": {},
   "outputs": [
    {
     "data": {
      "text/plain": [
       "5"
      ]
     },
     "execution_count": 13,
     "metadata": {},
     "output_type": "execute_result"
    }
   ],
   "source": [
    "len(s)"
   ]
  },
  {
   "cell_type": "code",
   "execution_count": 15,
   "id": "f11312ce-4415-473b-ac67-a9fd22a22ff5",
   "metadata": {},
   "outputs": [
    {
     "data": {
      "text/plain": [
       "{1, 2, 3, 4, 5}"
      ]
     },
     "execution_count": 15,
     "metadata": {},
     "output_type": "execute_result"
    }
   ],
   "source": [
    "s1={1,1,2,2,3,4,5,5}\n",
    "s1"
   ]
  },
  {
   "cell_type": "code",
   "execution_count": 17,
   "id": "d864c825-183b-4772-8a95-d56c4d63ac7a",
   "metadata": {},
   "outputs": [
    {
     "data": {
      "text/plain": [
       "{1.2, 2, 3.4, 5.5}"
      ]
     },
     "execution_count": 17,
     "metadata": {},
     "output_type": "execute_result"
    }
   ],
   "source": [
    "s2={1.2,2,2,3.4,5.5}\n",
    "s2"
   ]
  },
  {
   "cell_type": "code",
   "execution_count": 19,
   "id": "d4ec2e64-54d6-49ce-8a95-74a24aad89db",
   "metadata": {},
   "outputs": [
    {
     "data": {
      "text/plain": [
       "{'asif', 'babamma', 'sai'}"
      ]
     },
     "execution_count": 19,
     "metadata": {},
     "output_type": "execute_result"
    }
   ],
   "source": [
    "s3={'asif','babamma','sai'}\n",
    "s3"
   ]
  },
  {
   "cell_type": "code",
   "execution_count": 21,
   "id": "4fa0c419-76fd-4095-b691-1ad7a8345142",
   "metadata": {},
   "outputs": [
    {
     "data": {
      "text/plain": [
       "{1, 1.2, 'tej'}"
      ]
     },
     "execution_count": 21,
     "metadata": {},
     "output_type": "execute_result"
    }
   ],
   "source": [
    "s4={1,1.2,True,'tej'}\n",
    "s4"
   ]
  },
  {
   "cell_type": "code",
   "execution_count": 23,
   "id": "2f81a937-a053-4297-8d7a-38761844c7f2",
   "metadata": {},
   "outputs": [
    {
     "name": "stdout",
     "output_type": "stream",
     "text": [
      "<class 'set'>\n"
     ]
    }
   ],
   "source": [
    "print(type(s4))"
   ]
  },
  {
   "cell_type": "code",
   "execution_count": 27,
   "id": "aebefc92-3683-4109-820e-1bee44bb34d4",
   "metadata": {},
   "outputs": [
    {
     "data": {
      "text/plain": [
       "{'four', 'one', 'three', 'two'}"
      ]
     },
     "execution_count": 27,
     "metadata": {},
     "output_type": "execute_result"
    }
   ],
   "source": [
    "s5=set(('one','two','three','four'))\n",
    "s5"
   ]
  },
  {
   "cell_type": "code",
   "execution_count": 29,
   "id": "863e09a5-f445-422c-a05f-5b1cd7d1cf17",
   "metadata": {},
   "outputs": [
    {
     "data": {
      "text/plain": [
       "['one', 'two', 'four', 'three']"
      ]
     },
     "execution_count": 29,
     "metadata": {},
     "output_type": "execute_result"
    }
   ],
   "source": [
    "list(i for i in s5)"
   ]
  },
  {
   "cell_type": "code",
   "execution_count": 35,
   "id": "6ebdaaad-c058-4a6f-a6c6-4e6e66ef326d",
   "metadata": {},
   "outputs": [
    {
     "name": "stdout",
     "output_type": "stream",
     "text": [
      "(0, 'one')\n",
      "(1, 'two')\n",
      "(2, 'four')\n",
      "(3, 'three')\n"
     ]
    }
   ],
   "source": [
    "for i in enumerate(s5):\n",
    "    print(i)"
   ]
  },
  {
   "cell_type": "markdown",
   "id": "bdd1b654-d73e-4c89-9d1a-b42262f26632",
   "metadata": {},
   "source": [
    "## set membership\n"
   ]
  },
  {
   "cell_type": "code",
   "execution_count": 38,
   "id": "ca1eef91-4113-4e4d-95a6-c25fae270e70",
   "metadata": {},
   "outputs": [
    {
     "data": {
      "text/plain": [
       "{1, 2, 3, 4, 5}"
      ]
     },
     "execution_count": 38,
     "metadata": {},
     "output_type": "execute_result"
    }
   ],
   "source": [
    "s1"
   ]
  },
  {
   "cell_type": "code",
   "execution_count": 40,
   "id": "125d89c2-23a7-45fc-9257-e38fac7fa4cd",
   "metadata": {},
   "outputs": [
    {
     "data": {
      "text/plain": [
       "False"
      ]
     },
     "execution_count": 40,
     "metadata": {},
     "output_type": "execute_result"
    }
   ],
   "source": [
    "i in s1"
   ]
  },
  {
   "cell_type": "code",
   "execution_count": 42,
   "id": "4cd38ed8-3a9f-42d1-9594-bf123f1c7646",
   "metadata": {},
   "outputs": [
    {
     "data": {
      "text/plain": [
       "True"
      ]
     },
     "execution_count": 42,
     "metadata": {},
     "output_type": "execute_result"
    }
   ],
   "source": [
    "5 in s1"
   ]
  },
  {
   "cell_type": "code",
   "execution_count": 44,
   "id": "1335d4d1-ac47-46cf-bba1-e4175cd51c83",
   "metadata": {},
   "outputs": [
    {
     "data": {
      "text/plain": [
       "True"
      ]
     },
     "execution_count": 44,
     "metadata": {},
     "output_type": "execute_result"
    }
   ],
   "source": [
    "\"one\" in s5"
   ]
  },
  {
   "cell_type": "code",
   "execution_count": 46,
   "id": "b81df571-7893-4a4b-854f-dccde2be2d39",
   "metadata": {},
   "outputs": [
    {
     "data": {
      "text/plain": [
       "{'four', 'one', 'three', 'two'}"
      ]
     },
     "execution_count": 46,
     "metadata": {},
     "output_type": "execute_result"
    }
   ],
   "source": [
    "s5"
   ]
  },
  {
   "cell_type": "code",
   "execution_count": 48,
   "id": "f2bf0370-918d-4670-85b9-fbad338a892a",
   "metadata": {},
   "outputs": [
    {
     "name": "stdout",
     "output_type": "stream",
     "text": [
      "{'one', 'two', 'four', 'three'}\n"
     ]
    }
   ],
   "source": [
    "s6=s5.copy()\n",
    "print(s6)"
   ]
  },
  {
   "cell_type": "code",
   "execution_count": 50,
   "id": "f359ffd7-6ac0-4718-a185-21184254245a",
   "metadata": {},
   "outputs": [
    {
     "data": {
      "text/plain": [
       "set()"
      ]
     },
     "execution_count": 50,
     "metadata": {},
     "output_type": "execute_result"
    }
   ],
   "source": [
    "s6.clear()\n",
    "s6"
   ]
  },
  {
   "cell_type": "code",
   "execution_count": 52,
   "id": "dfd9c1e9-6c61-4901-aa09-f3c27574e205",
   "metadata": {},
   "outputs": [],
   "source": [
    "s5.discard('four')"
   ]
  },
  {
   "cell_type": "code",
   "execution_count": 54,
   "id": "15fec22a-9a15-4a88-aa34-11d6a03449a4",
   "metadata": {},
   "outputs": [
    {
     "data": {
      "text/plain": [
       "{'one', 'three', 'two'}"
      ]
     },
     "execution_count": 54,
     "metadata": {},
     "output_type": "execute_result"
    }
   ],
   "source": [
    "s5"
   ]
  },
  {
   "cell_type": "code",
   "execution_count": 56,
   "id": "f630bcae-b7d7-4718-a85b-36a96e3f335a",
   "metadata": {},
   "outputs": [],
   "source": [
    "s5.discard('five')"
   ]
  },
  {
   "cell_type": "code",
   "execution_count": 58,
   "id": "5f424226-6b53-4199-8875-4e8234fd650c",
   "metadata": {},
   "outputs": [
    {
     "data": {
      "text/plain": [
       "{'one', 'three', 'two'}"
      ]
     },
     "execution_count": 58,
     "metadata": {},
     "output_type": "execute_result"
    }
   ],
   "source": [
    "s5"
   ]
  },
  {
   "cell_type": "code",
   "execution_count": 60,
   "id": "a4ab9a54-eda4-4461-b1ae-41cc131bfbb5",
   "metadata": {},
   "outputs": [
    {
     "ename": "TypeError",
     "evalue": "set.pop() takes no arguments (1 given)",
     "output_type": "error",
     "traceback": [
      "\u001b[0;31m---------------------------------------------------------------------------\u001b[0m",
      "\u001b[0;31mTypeError\u001b[0m                                 Traceback (most recent call last)",
      "Cell \u001b[0;32mIn[60], line 1\u001b[0m\n\u001b[0;32m----> 1\u001b[0m s5\u001b[38;5;241m.\u001b[39mpop(\u001b[38;5;241m1\u001b[39m)\n",
      "\u001b[0;31mTypeError\u001b[0m: set.pop() takes no arguments (1 given)"
     ]
    }
   ],
   "source": [
    "s5.pop(1)"
   ]
  },
  {
   "cell_type": "code",
   "execution_count": 62,
   "id": "f05e1fcc-de13-448c-868a-b6d25df7380d",
   "metadata": {},
   "outputs": [
    {
     "data": {
      "text/plain": [
       "'one'"
      ]
     },
     "execution_count": 62,
     "metadata": {},
     "output_type": "execute_result"
    }
   ],
   "source": [
    "s5.pop()"
   ]
  },
  {
   "cell_type": "code",
   "execution_count": 64,
   "id": "384e2d4b-7414-458b-96be-5a699476ebda",
   "metadata": {},
   "outputs": [
    {
     "data": {
      "text/plain": [
       "{'three', 'two'}"
      ]
     },
     "execution_count": 64,
     "metadata": {},
     "output_type": "execute_result"
    }
   ],
   "source": [
    "s5"
   ]
  },
  {
   "cell_type": "code",
   "execution_count": 66,
   "id": "20370029-48f2-4759-8d8b-6b42ab76da5f",
   "metadata": {},
   "outputs": [
    {
     "ename": "KeyError",
     "evalue": "'one'",
     "output_type": "error",
     "traceback": [
      "\u001b[0;31m---------------------------------------------------------------------------\u001b[0m",
      "\u001b[0;31mKeyError\u001b[0m                                  Traceback (most recent call last)",
      "Cell \u001b[0;32mIn[66], line 1\u001b[0m\n\u001b[0;32m----> 1\u001b[0m s5\u001b[38;5;241m.\u001b[39mremove(\u001b[38;5;124m'\u001b[39m\u001b[38;5;124mone\u001b[39m\u001b[38;5;124m'\u001b[39m)\n",
      "\u001b[0;31mKeyError\u001b[0m: 'one'"
     ]
    }
   ],
   "source": [
    "s5.remove('one')"
   ]
  },
  {
   "cell_type": "code",
   "execution_count": 68,
   "id": "5a7f4d9b-82f9-4d11-b83a-c2320e1f11e3",
   "metadata": {},
   "outputs": [],
   "source": [
    "s5.remove('three')"
   ]
  },
  {
   "cell_type": "code",
   "execution_count": 70,
   "id": "129d141e-8466-4355-a5b7-7387ea6d8ff4",
   "metadata": {},
   "outputs": [
    {
     "data": {
      "text/plain": [
       "{'two'}"
      ]
     },
     "execution_count": 70,
     "metadata": {},
     "output_type": "execute_result"
    }
   ],
   "source": [
    "s5"
   ]
  },
  {
   "cell_type": "code",
   "execution_count": 80,
   "id": "66f526a0-f02b-4587-b6fe-f5400a553d36",
   "metadata": {},
   "outputs": [],
   "source": [
    "s5.update(['TWO','THREE','FOUR'])"
   ]
  },
  {
   "cell_type": "code",
   "execution_count": 82,
   "id": "bf249bd3-4cfd-4770-8bb1-6bff2b694163",
   "metadata": {},
   "outputs": [
    {
     "data": {
      "text/plain": [
       "{'FOUR', 'THREE', 'TWO', 'e', 'n', 'o', 'two'}"
      ]
     },
     "execution_count": 82,
     "metadata": {},
     "output_type": "execute_result"
    }
   ],
   "source": [
    "s5"
   ]
  },
  {
   "cell_type": "code",
   "execution_count": 84,
   "id": "2c79856a-6acc-42ba-a1a0-fe903abe83a7",
   "metadata": {},
   "outputs": [],
   "source": [
    "del s5"
   ]
  },
  {
   "cell_type": "code",
   "execution_count": 86,
   "id": "4e9824fe-6bc2-4c49-8383-407d93c4a411",
   "metadata": {},
   "outputs": [
    {
     "ename": "NameError",
     "evalue": "name 's5' is not defined",
     "output_type": "error",
     "traceback": [
      "\u001b[0;31m---------------------------------------------------------------------------\u001b[0m",
      "\u001b[0;31mNameError\u001b[0m                                 Traceback (most recent call last)",
      "Cell \u001b[0;32mIn[86], line 1\u001b[0m\n\u001b[0;32m----> 1\u001b[0m s5\n",
      "\u001b[0;31mNameError\u001b[0m: name 's5' is not defined"
     ]
    }
   ],
   "source": [
    "s5"
   ]
  },
  {
   "cell_type": "markdown",
   "id": "5b1f58c5-b9ae-4d3e-995c-b7f9e45da0f5",
   "metadata": {},
   "source": [
    "## Set operations\n",
    "\n",
    "### union"
   ]
  },
  {
   "cell_type": "code",
   "execution_count": null,
   "id": "b0868683-a4c1-43f9-952c-3df4f458fd25",
   "metadata": {},
   "outputs": [],
   "source": []
  },
  {
   "cell_type": "code",
   "execution_count": null,
   "id": "c4a04f0d-be40-4e79-a13b-45524e6b2ade",
   "metadata": {},
   "outputs": [],
   "source": []
  },
  {
   "cell_type": "code",
   "execution_count": 102,
   "id": "4e169c13-a729-46f8-a317-e5f8473778ba",
   "metadata": {},
   "outputs": [],
   "source": [
    "A={1,2,3,4,5}\n",
    "B={4,5,6,7,8}\n",
    "C={8,9,10}\n"
   ]
  },
  {
   "cell_type": "code",
   "execution_count": null,
   "id": "f99a39e4-f52f-4e2b-8dea-d31b28d824dc",
   "metadata": {},
   "outputs": [],
   "source": []
  },
  {
   "cell_type": "code",
   "execution_count": 91,
   "id": "b3d05fed-8304-41c7-99a8-139a119ef37b",
   "metadata": {},
   "outputs": [
    {
     "data": {
      "text/plain": [
       "{1, 2, 3, 4, 5, 6, 7, 8}"
      ]
     },
     "execution_count": 91,
     "metadata": {},
     "output_type": "execute_result"
    }
   ],
   "source": [
    "A|B"
   ]
  },
  {
   "cell_type": "code",
   "execution_count": 93,
   "id": "547e7d49-33c0-49dd-b438-f4a4378dd296",
   "metadata": {},
   "outputs": [
    {
     "data": {
      "text/plain": [
       "{1, 2, 3, 4, 5, 6, 7, 8}"
      ]
     },
     "execution_count": 93,
     "metadata": {},
     "output_type": "execute_result"
    }
   ],
   "source": [
    "A.union(B)"
   ]
  },
  {
   "cell_type": "code",
   "execution_count": 95,
   "id": "b743ee89-9641-4b9e-8ddd-e7b5428e7a53",
   "metadata": {},
   "outputs": [
    {
     "data": {
      "text/plain": [
       "{1, 2, 3, 4, 5, 6, 7, 8, 9, 10}"
      ]
     },
     "execution_count": 95,
     "metadata": {},
     "output_type": "execute_result"
    }
   ],
   "source": [
    "A.union(B,C)"
   ]
  },
  {
   "cell_type": "code",
   "execution_count": 107,
   "id": "6a8c4edf-69b7-4de4-bb4c-cae866fb514f",
   "metadata": {},
   "outputs": [],
   "source": [
    "A.update(B,C)"
   ]
  },
  {
   "cell_type": "code",
   "execution_count": 109,
   "id": "109b9527-ef69-413a-9204-c6efd571c519",
   "metadata": {},
   "outputs": [
    {
     "data": {
      "text/plain": [
       "{1, 2, 3, 4, 5, 6, 7, 8, 9, 10}"
      ]
     },
     "execution_count": 109,
     "metadata": {},
     "output_type": "execute_result"
    }
   ],
   "source": [
    "A"
   ]
  },
  {
   "cell_type": "markdown",
   "id": "5ed39cae-7675-4181-b71c-a33ce527c503",
   "metadata": {},
   "source": [
    "## Intersection"
   ]
  },
  {
   "cell_type": "code",
   "execution_count": 112,
   "id": "c93ea076-56e1-4d9e-a6ab-72739368d422",
   "metadata": {},
   "outputs": [
    {
     "data": {
      "text/plain": [
       "{4, 5, 6, 7, 8}"
      ]
     },
     "execution_count": 112,
     "metadata": {},
     "output_type": "execute_result"
    }
   ],
   "source": [
    "A &B\n"
   ]
  },
  {
   "cell_type": "code",
   "execution_count": 114,
   "id": "595e26e5-f63e-41e5-b01c-ad21b66dcae5",
   "metadata": {},
   "outputs": [
    {
     "data": {
      "text/plain": [
       "{4, 5, 6, 7, 8}"
      ]
     },
     "execution_count": 114,
     "metadata": {},
     "output_type": "execute_result"
    }
   ],
   "source": [
    "A.intersection(B)"
   ]
  },
  {
   "cell_type": "code",
   "execution_count": 116,
   "id": "3f9ce7b7-d8b0-49af-9667-9296f550d1f0",
   "metadata": {},
   "outputs": [],
   "source": [
    "A.intersection_update(B)"
   ]
  },
  {
   "cell_type": "code",
   "execution_count": 118,
   "id": "3278e5c2-875e-437c-8114-5b3bd5148c1a",
   "metadata": {},
   "outputs": [
    {
     "data": {
      "text/plain": [
       "{4, 5, 6, 7, 8}"
      ]
     },
     "execution_count": 118,
     "metadata": {},
     "output_type": "execute_result"
    }
   ],
   "source": [
    "A"
   ]
  },
  {
   "cell_type": "code",
   "execution_count": null,
   "id": "d27c3859-8793-44a9-91b7-fe7329c19b57",
   "metadata": {},
   "outputs": [],
   "source": []
  }
 ],
 "metadata": {
  "kernelspec": {
   "display_name": "Python [conda env:base] *",
   "language": "python",
   "name": "conda-base-py"
  },
  "language_info": {
   "codemirror_mode": {
    "name": "ipython",
    "version": 3
   },
   "file_extension": ".py",
   "mimetype": "text/x-python",
   "name": "python",
   "nbconvert_exporter": "python",
   "pygments_lexer": "ipython3",
   "version": "3.12.7"
  }
 },
 "nbformat": 4,
 "nbformat_minor": 5
}
