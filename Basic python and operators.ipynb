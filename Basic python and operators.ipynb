{
 "cells": [
  {
   "cell_type": "markdown",
   "id": "ed9afb07-0e7f-424b-abae-778b205a11fb",
   "metadata": {},
   "source": [
    "# Task 7- Basic Python and Operator"
   ]
  },
  {
   "cell_type": "code",
   "execution_count": 114,
   "id": "7f652227-54bc-4a97-b58c-70b63a3aa69d",
   "metadata": {},
   "outputs": [
    {
     "data": {
      "text/plain": [
       "3"
      ]
     },
     "execution_count": 114,
     "metadata": {},
     "output_type": "execute_result"
    }
   ],
   "source": [
    "1+2"
   ]
  },
  {
   "cell_type": "code",
   "execution_count": 116,
   "id": "5c4930bc-bb9b-4dfa-9af1-6bf618e4b725",
   "metadata": {},
   "outputs": [
    {
     "data": {
      "text/plain": [
       "-1"
      ]
     },
     "execution_count": 116,
     "metadata": {},
     "output_type": "execute_result"
    }
   ],
   "source": [
    "1-2"
   ]
  },
  {
   "cell_type": "code",
   "execution_count": 118,
   "id": "20ee0938-0473-4fd3-8c98-3ac3e4087660",
   "metadata": {},
   "outputs": [
    {
     "data": {
      "text/plain": [
       "2"
      ]
     },
     "execution_count": 118,
     "metadata": {},
     "output_type": "execute_result"
    }
   ],
   "source": [
    "1*2"
   ]
  },
  {
   "cell_type": "code",
   "execution_count": 120,
   "id": "f23a1079-2a89-49ae-b228-3d08ef97f151",
   "metadata": {},
   "outputs": [
    {
     "data": {
      "text/plain": [
       "0.5"
      ]
     },
     "execution_count": 120,
     "metadata": {},
     "output_type": "execute_result"
    }
   ],
   "source": [
    "1/2"
   ]
  },
  {
   "cell_type": "code",
   "execution_count": 122,
   "id": "6bc714d3-1866-489d-a9ad-599c26d753a8",
   "metadata": {},
   "outputs": [
    {
     "data": {
      "text/plain": [
       "0"
      ]
     },
     "execution_count": 122,
     "metadata": {},
     "output_type": "execute_result"
    }
   ],
   "source": [
    "1//2"
   ]
  },
  {
   "cell_type": "code",
   "execution_count": 124,
   "id": "62799a97-1f31-46bd-8424-4fd034e60386",
   "metadata": {},
   "outputs": [
    {
     "data": {
      "text/plain": [
       "0"
      ]
     },
     "execution_count": 124,
     "metadata": {},
     "output_type": "execute_result"
    }
   ],
   "source": [
    "1+2-3"
   ]
  },
  {
   "cell_type": "code",
   "execution_count": 126,
   "id": "beb4817a-62f7-48c4-a5ef-882bf42b5e03",
   "metadata": {},
   "outputs": [
    {
     "data": {
      "text/plain": [
       "32"
      ]
     },
     "execution_count": 126,
     "metadata": {},
     "output_type": "execute_result"
    }
   ],
   "source": [
    "2**5"
   ]
  },
  {
   "cell_type": "code",
   "execution_count": 128,
   "id": "831aba9a-ebeb-4188-bc6c-98e2f8c8e723",
   "metadata": {},
   "outputs": [
    {
     "data": {
      "text/plain": [
       "0"
      ]
     },
     "execution_count": 128,
     "metadata": {},
     "output_type": "execute_result"
    }
   ],
   "source": [
    "10%2"
   ]
  },
  {
   "cell_type": "code",
   "execution_count": 130,
   "id": "ecbe2dce-067b-4746-a695-19eaf255d6c1",
   "metadata": {},
   "outputs": [
    {
     "ename": "SyntaxError",
     "evalue": "invalid syntax (2544896856.py, line 1)",
     "output_type": "error",
     "traceback": [
      "\u001b[0;36m  Cell \u001b[0;32mIn[130], line 1\u001b[0;36m\u001b[0m\n\u001b[0;31m    10%%2\u001b[0m\n\u001b[0m       ^\u001b[0m\n\u001b[0;31mSyntaxError\u001b[0m\u001b[0;31m:\u001b[0m invalid syntax\n"
     ]
    }
   ],
   "source": [
    "10%%2"
   ]
  },
  {
   "cell_type": "code",
   "execution_count": 132,
   "id": "895183b3-f936-4324-b04c-2804d3d5f7e3",
   "metadata": {},
   "outputs": [
    {
     "ename": "TypeError",
     "evalue": "unsupported operand type(s) for +: 'int' and 'str'",
     "output_type": "error",
     "traceback": [
      "\u001b[0;31m---------------------------------------------------------------------------\u001b[0m",
      "\u001b[0;31mTypeError\u001b[0m                                 Traceback (most recent call last)",
      "Cell \u001b[0;32mIn[132], line 1\u001b[0m\n\u001b[0;32m----> 1\u001b[0m \u001b[38;5;241m3\u001b[39m\u001b[38;5;241m+\u001b[39m\u001b[38;5;124m'\u001b[39m\u001b[38;5;124mnit\u001b[39m\u001b[38;5;124m'\u001b[39m\n",
      "\u001b[0;31mTypeError\u001b[0m: unsupported operand type(s) for +: 'int' and 'str'"
     ]
    }
   ],
   "source": [
    "3+'nit'"
   ]
  },
  {
   "cell_type": "code",
   "execution_count": 134,
   "id": "08e39e5c-c5fc-470d-ad59-fdc4af2b6d54",
   "metadata": {},
   "outputs": [
    {
     "name": "stdout",
     "output_type": "stream",
     "text": [
      "5\n"
     ]
    }
   ],
   "source": [
    "a=2\n",
    "b=3\n",
    "c=a+b\n",
    "print(c)"
   ]
  },
  {
   "cell_type": "code",
   "execution_count": 136,
   "id": "a4553506-e935-4337-9d49-18c6186ddd24",
   "metadata": {},
   "outputs": [
    {
     "data": {
      "text/plain": [
       "int"
      ]
     },
     "execution_count": 136,
     "metadata": {},
     "output_type": "execute_result"
    }
   ],
   "source": [
    "type(c)"
   ]
  },
  {
   "cell_type": "code",
   "execution_count": 142,
   "id": "71b06ee3-3336-4c46-a19c-ce6169c0cfba",
   "metadata": {},
   "outputs": [
    {
     "ename": "SyntaxError",
     "evalue": "invalid syntax. Perhaps you forgot a comma? (492302310.py, line 1)",
     "output_type": "error",
     "traceback": [
      "\u001b[0;36m  Cell \u001b[0;32mIn[142], line 1\u001b[0;36m\u001b[0m\n\u001b[0;31m    print('hi i am'nanda'i am a gooood boy')\u001b[0m\n\u001b[0m          ^\u001b[0m\n\u001b[0;31mSyntaxError\u001b[0m\u001b[0;31m:\u001b[0m invalid syntax. Perhaps you forgot a comma?\n"
     ]
    }
   ],
   "source": [
    "print('hi i am'nanda'i am a gooood boy')"
   ]
  },
  {
   "cell_type": "code",
   "execution_count": 148,
   "id": "85d82cc7-494a-4119-8779-1cab11e980d5",
   "metadata": {},
   "outputs": [
    {
     "name": "stdout",
     "output_type": "stream",
     "text": [
      "hi i am' nanda 'i am a gooood boy\n"
     ]
    }
   ],
   "source": [
    "print('hi i am\\' nanda \\'i am a gooood boy')"
   ]
  },
  {
   "cell_type": "code",
   "execution_count": 150,
   "id": "95977997-f2cb-4e3a-85eb-f0b951289edc",
   "metadata": {},
   "outputs": [
    {
     "name": "stdout",
     "output_type": "stream",
     "text": [
      "hi man  how are you\n"
     ]
    }
   ],
   "source": [
    "print('hi man',' how are you')"
   ]
  },
  {
   "cell_type": "code",
   "execution_count": 152,
   "id": "304987a1-f673-41a8-9149-4ca176a12f46",
   "metadata": {},
   "outputs": [
    {
     "data": {
      "text/plain": [
       "'hi hi'"
      ]
     },
     "execution_count": 152,
     "metadata": {},
     "output_type": "execute_result"
    }
   ],
   "source": [
    "'hi'+' hi'"
   ]
  },
  {
   "cell_type": "code",
   "execution_count": 154,
   "id": "7e07b9c2-0833-40e9-b2c0-24a15b85adc1",
   "metadata": {},
   "outputs": [
    {
     "data": {
      "text/plain": [
       "' hi  hi  hi  hi  hi '"
      ]
     },
     "execution_count": 154,
     "metadata": {},
     "output_type": "execute_result"
    }
   ],
   "source": [
    "5*' hi '"
   ]
  },
  {
   "cell_type": "code",
   "execution_count": 158,
   "id": "b0c7c3c0-f669-4a26-a92c-25aebd066bd6",
   "metadata": {},
   "outputs": [
    {
     "name": "stdout",
     "output_type": "stream",
     "text": [
      "c:\n",
      "it\n"
     ]
    }
   ],
   "source": [
    "print('c:\\nit')#\\n means new line"
   ]
  },
  {
   "cell_type": "code",
   "execution_count": 196,
   "id": "3b4a07fc-f0bd-4d33-9664-34594fae9bc5",
   "metadata": {},
   "outputs": [
    {
     "name": "stdout",
     "output_type": "stream",
     "text": [
      "c:\\nit\n"
     ]
    }
   ],
   "source": [
    "# when we read any specific file from folder location , we must use raw string\n",
    "print(r'c:\\nit')# here we used r string or raw string to print '\\n'\n"
   ]
  },
  {
   "cell_type": "markdown",
   "id": "c635e641-dbf6-4b2b-b5b0-bc008e569985",
   "metadata": {},
   "source": [
    "## variable /identifier/object"
   ]
  },
  {
   "cell_type": "code",
   "execution_count": 168,
   "id": "a1f90279-85b3-4732-96bc-86187c00abb9",
   "metadata": {},
   "outputs": [],
   "source": [
    "x=2"
   ]
  },
  {
   "cell_type": "code",
   "execution_count": 170,
   "id": "a37c14e5-1647-466e-9b51-208a6424fd2e",
   "metadata": {},
   "outputs": [
    {
     "data": {
      "text/plain": [
       "5"
      ]
     },
     "execution_count": 170,
     "metadata": {},
     "output_type": "execute_result"
    }
   ],
   "source": [
    "y=3\n",
    "x+y"
   ]
  },
  {
   "cell_type": "code",
   "execution_count": 176,
   "id": "daaf39ab-e297-4322-8702-c5b7d3aa91bc",
   "metadata": {},
   "outputs": [
    {
     "data": {
      "text/plain": [
       "2"
      ]
     },
     "execution_count": 176,
     "metadata": {},
     "output_type": "execute_result"
    }
   ],
   "source": [
    "x"
   ]
  },
  {
   "cell_type": "code",
   "execution_count": 180,
   "id": "7ce818bd-768f-4b65-97a3-e269f17f3a4d",
   "metadata": {},
   "outputs": [
    {
     "data": {
      "text/plain": [
       "12"
      ]
     },
     "execution_count": 180,
     "metadata": {},
     "output_type": "execute_result"
    }
   ],
   "source": [
    "x+10"
   ]
  },
  {
   "cell_type": "code",
   "execution_count": 194,
   "id": "b24b7838-ccd8-4a50-a7ed-3b91a18387d0",
   "metadata": {},
   "outputs": [
    {
     "name": "stdout",
     "output_type": "stream",
     "text": [
      "{\"dataframes\": [], \"user\": \"sainandaviharim\"}{\"dataframes\": [], \"user\": \"sainandaviharim\"}\n"
     ]
    }
   ],
   "source": [
    "print(_ + _)"
   ]
  },
  {
   "cell_type": "code",
   "execution_count": 192,
   "id": "3b80320b-39b0-48f8-8016-6fc4480f678c",
   "metadata": {},
   "outputs": [
    {
     "data": {
      "text/plain": [
       "'nitnit'"
      ]
     },
     "execution_count": 192,
     "metadata": {},
     "output_type": "execute_result"
    }
   ],
   "source": [
    "'nit'  'nit'"
   ]
  },
  {
   "cell_type": "code",
   "execution_count": 198,
   "id": "64dc255a-f06e-490a-8e33-35be044b7410",
   "metadata": {},
   "outputs": [
    {
     "name": "stdout",
     "output_type": "stream",
     "text": [
      "happy\n"
     ]
    }
   ],
   "source": [
    "# string variable\n",
    "s='happy'\n",
    "print(s)"
   ]
  },
  {
   "cell_type": "code",
   "execution_count": 200,
   "id": "e3c84836-8a5e-4b0c-9b12-5ad098fc2406",
   "metadata": {},
   "outputs": [
    {
     "data": {
      "text/plain": [
       "'happy holiday'"
      ]
     },
     "execution_count": 200,
     "metadata": {},
     "output_type": "execute_result"
    }
   ],
   "source": [
    "s+' holiday'"
   ]
  },
  {
   "cell_type": "code",
   "execution_count": 202,
   "id": "bbc0cd99-2733-45e1-b61e-d8327115c086",
   "metadata": {},
   "outputs": [
    {
     "data": {
      "text/plain": [
       "'happyholiday'"
      ]
     },
     "execution_count": 202,
     "metadata": {},
     "output_type": "execute_result"
    }
   ],
   "source": [
    "s+'holiday'"
   ]
  },
  {
   "cell_type": "code",
   "execution_count": 204,
   "id": "c8c0e97f-2aaa-47c6-945c-8898b21f4052",
   "metadata": {},
   "outputs": [
    {
     "ename": "SyntaxError",
     "evalue": "invalid syntax (3116984370.py, line 1)",
     "output_type": "error",
     "traceback": [
      "\u001b[0;36m  Cell \u001b[0;32mIn[204], line 1\u001b[0;36m\u001b[0m\n\u001b[0;31m    s' holiday'\u001b[0m\n\u001b[0m     ^\u001b[0m\n\u001b[0;31mSyntaxError\u001b[0m\u001b[0;31m:\u001b[0m invalid syntax\n"
     ]
    }
   ],
   "source": [
    "s' holiday'"
   ]
  },
  {
   "cell_type": "code",
   "execution_count": 206,
   "id": "5f148c51-796f-48f9-acf2-03cab40e02d7",
   "metadata": {},
   "outputs": [
    {
     "data": {
      "text/plain": [
       "5"
      ]
     },
     "execution_count": 206,
     "metadata": {},
     "output_type": "execute_result"
    }
   ],
   "source": [
    "len(s)"
   ]
  },
  {
   "cell_type": "code",
   "execution_count": 208,
   "id": "9578fc35-6b4d-4a3b-b44c-5a25c7d3981d",
   "metadata": {},
   "outputs": [
    {
     "data": {
      "text/plain": [
       "'h'"
      ]
     },
     "execution_count": 208,
     "metadata": {},
     "output_type": "execute_result"
    }
   ],
   "source": [
    "s[0]"
   ]
  },
  {
   "cell_type": "code",
   "execution_count": 210,
   "id": "8fa5687c-3720-418f-9400-4c7b6d69daf1",
   "metadata": {},
   "outputs": [
    {
     "data": {
      "text/plain": [
       "'a'"
      ]
     },
     "execution_count": 210,
     "metadata": {},
     "output_type": "execute_result"
    }
   ],
   "source": [
    "s[-4]"
   ]
  },
  {
   "cell_type": "code",
   "execution_count": 212,
   "id": "0f39e9ca-a31a-4b5e-841d-b811c9ba43fe",
   "metadata": {},
   "outputs": [
    {
     "data": {
      "text/plain": [
       "'app'"
      ]
     },
     "execution_count": 212,
     "metadata": {},
     "output_type": "execute_result"
    }
   ],
   "source": [
    "#string slicing\n",
    "s[1:-1]"
   ]
  },
  {
   "cell_type": "code",
   "execution_count": 218,
   "id": "5cf5132b-f6d6-4deb-b0c0-2b6e2583f7e4",
   "metadata": {},
   "outputs": [
    {
     "ename": "TypeError",
     "evalue": "'str' object does not support item assignment",
     "output_type": "error",
     "traceback": [
      "\u001b[0;31m---------------------------------------------------------------------------\u001b[0m",
      "\u001b[0;31mTypeError\u001b[0m                                 Traceback (most recent call last)",
      "Cell \u001b[0;32mIn[218], line 1\u001b[0m\n\u001b[0;32m----> 1\u001b[0m s[\u001b[38;5;241m0\u001b[39m]\u001b[38;5;241m=\u001b[39m\u001b[38;5;124m'\u001b[39m\u001b[38;5;124ma\u001b[39m\u001b[38;5;124m'\u001b[39m\n",
      "\u001b[0;31mTypeError\u001b[0m: 'str' object does not support item assignment"
     ]
    }
   ],
   "source": [
    "s[0]='a'# strings are immutable"
   ]
  },
  {
   "cell_type": "code",
   "execution_count": 220,
   "id": "d0653c1e-e9cc-460a-a417-76da16e44647",
   "metadata": {},
   "outputs": [
    {
     "data": {
      "text/plain": [
       "[20, 30, 10, 20, 30, 40]"
      ]
     },
     "execution_count": 220,
     "metadata": {},
     "output_type": "execute_result"
    }
   ],
   "source": [
    "l"
   ]
  },
  {
   "cell_type": "code",
   "execution_count": 222,
   "id": "8242b5d1-8fc8-43de-a799-c58a9fc56d22",
   "metadata": {},
   "outputs": [],
   "source": [
    "l.insert(1,100)"
   ]
  },
  {
   "cell_type": "code",
   "execution_count": 224,
   "id": "dd897ec9-b591-4d76-b7d2-231e5304bfe9",
   "metadata": {},
   "outputs": [
    {
     "data": {
      "text/plain": [
       "[20, 100, 30, 10, 20, 30, 40]"
      ]
     },
     "execution_count": 224,
     "metadata": {},
     "output_type": "execute_result"
    }
   ],
   "source": [
    "l"
   ]
  },
  {
   "cell_type": "markdown",
   "id": "522da53d-f18a-4805-810e-62ed1f9eb697",
   "metadata": {},
   "source": [
    "# Id()"
   ]
  },
  {
   "cell_type": "code",
   "execution_count": 229,
   "id": "4f7e70a4-03db-4c14-ab74-17267267ebff",
   "metadata": {},
   "outputs": [
    {
     "data": {
      "text/plain": [
       "4371095600"
      ]
     },
     "execution_count": 229,
     "metadata": {},
     "output_type": "execute_result"
    }
   ],
   "source": [
    "a=10\n",
    "id(a)"
   ]
  },
  {
   "cell_type": "code",
   "execution_count": 231,
   "id": "b1c63015-263f-4f31-b6e3-c19c31c9e85f",
   "metadata": {},
   "outputs": [
    {
     "data": {
      "text/plain": [
       "4400920496"
      ]
     },
     "execution_count": 231,
     "metadata": {},
     "output_type": "execute_result"
    }
   ],
   "source": [
    "b='nit'\n",
    "id(b)"
   ]
  },
  {
   "cell_type": "code",
   "execution_count": 235,
   "id": "7a2b4e47-52aa-4bf1-8ad5-fb047afdad1c",
   "metadata": {},
   "outputs": [
    {
     "data": {
      "text/plain": [
       "4371095600"
      ]
     },
     "execution_count": 235,
     "metadata": {},
     "output_type": "execute_result"
    }
   ],
   "source": [
    "c=a\n",
    "id(c)# here address of c and a are same , so python is memory management"
   ]
  },
  {
   "cell_type": "code",
   "execution_count": 239,
   "id": "b0069509-2b2d-4635-8e66-45243a6801bf",
   "metadata": {},
   "outputs": [
    {
     "data": {
      "text/plain": [
       "4371095664"
      ]
     },
     "execution_count": 239,
     "metadata": {},
     "output_type": "execute_result"
    }
   ],
   "source": [
    "id(12)"
   ]
  },
  {
   "cell_type": "code",
   "execution_count": 243,
   "id": "ecdfba47-f0bc-4561-a920-3e8b580a855e",
   "metadata": {},
   "outputs": [
    {
     "data": {
      "text/plain": [
       "4371095920"
      ]
     },
     "execution_count": 243,
     "metadata": {},
     "output_type": "execute_result"
    }
   ],
   "source": [
    "a=20\n",
    "id(a)"
   ]
  },
  {
   "cell_type": "code",
   "execution_count": 247,
   "id": "a885484f-ec35-4566-a3e8-f8bf44f6fd94",
   "metadata": {},
   "outputs": [
    {
     "data": {
      "text/plain": [
       "3.14"
      ]
     },
     "execution_count": 247,
     "metadata": {},
     "output_type": "execute_result"
    }
   ],
   "source": [
    "pi=3.14\n",
    "pi"
   ]
  },
  {
   "cell_type": "markdown",
   "id": "1223d1ae-dd7d-4c74-8a66-1ff00cf7f95d",
   "metadata": {},
   "source": [
    "## Operators"
   ]
  },
  {
   "cell_type": "code",
   "execution_count": 251,
   "id": "2889a200-10bf-44c1-b302-50bde3594208",
   "metadata": {},
   "outputs": [],
   "source": [
    "# Arthemetic operators"
   ]
  },
  {
   "cell_type": "code",
   "execution_count": 257,
   "id": "b7af46ba-7f22-4d87-96a4-be9b7a0b1fcd",
   "metadata": {},
   "outputs": [
    {
     "name": "stdout",
     "output_type": "stream",
     "text": [
      "15 -5 50 0.5 0\n",
      "x modulus y is  5\n"
     ]
    }
   ],
   "source": [
    "x,y=5,10\n",
    "print(x+y,x-y,x*y,x/y,x//y)\n",
    "print(\"x modulus y is \",x%y)"
   ]
  },
  {
   "cell_type": "code",
   "execution_count": 259,
   "id": "897c9120-3d35-4d78-8f8b-886031c88323",
   "metadata": {},
   "outputs": [
    {
     "data": {
      "text/plain": [
       "32"
      ]
     },
     "execution_count": 259,
     "metadata": {},
     "output_type": "execute_result"
    }
   ],
   "source": [
    "a,b=2,5\n",
    "a**b"
   ]
  },
  {
   "cell_type": "code",
   "execution_count": 261,
   "id": "e1157c76-d655-4582-9b60-376894803f07",
   "metadata": {},
   "outputs": [],
   "source": [
    "#Assignment Operator"
   ]
  },
  {
   "cell_type": "code",
   "execution_count": 263,
   "id": "c702e8bc-960e-4a43-8639-77f37ea75278",
   "metadata": {},
   "outputs": [
    {
     "data": {
      "text/plain": [
       "(2, 5)"
      ]
     },
     "execution_count": 263,
     "metadata": {},
     "output_type": "execute_result"
    }
   ],
   "source": [
    "a,b"
   ]
  },
  {
   "cell_type": "code",
   "execution_count": 279,
   "id": "a6638d57-f381-474b-aca9-12725767397e",
   "metadata": {},
   "outputs": [
    {
     "data": {
      "text/plain": [
       "10.0"
      ]
     },
     "execution_count": 279,
     "metadata": {},
     "output_type": "execute_result"
    }
   ],
   "source": [
    "a+=10\n",
    "a"
   ]
  },
  {
   "cell_type": "code",
   "execution_count": 267,
   "id": "59f9f888-53d5-4da7-be52-36aba72e2375",
   "metadata": {},
   "outputs": [
    {
     "data": {
      "text/plain": [
       "-8"
      ]
     },
     "execution_count": 267,
     "metadata": {},
     "output_type": "execute_result"
    }
   ],
   "source": [
    "a-=20\n",
    "a"
   ]
  },
  {
   "cell_type": "code",
   "execution_count": 269,
   "id": "3386328d-500a-4520-a77a-50a3f4609dca",
   "metadata": {},
   "outputs": [
    {
     "data": {
      "text/plain": [
       "0"
      ]
     },
     "execution_count": 269,
     "metadata": {},
     "output_type": "execute_result"
    }
   ],
   "source": [
    "a%=-8\n",
    "a"
   ]
  },
  {
   "cell_type": "code",
   "execution_count": 271,
   "id": "a0d363c6-837e-436e-ad66-5c36cc072de5",
   "metadata": {},
   "outputs": [
    {
     "data": {
      "text/plain": [
       "0.0"
      ]
     },
     "execution_count": 271,
     "metadata": {},
     "output_type": "execute_result"
    }
   ],
   "source": [
    "a/=2\n",
    "a"
   ]
  },
  {
   "cell_type": "code",
   "execution_count": 285,
   "id": "6ba703bf-52ba-42c8-a1b9-a3d5f9840aed",
   "metadata": {},
   "outputs": [
    {
     "data": {
      "text/plain": [
       "1"
      ]
     },
     "execution_count": 285,
     "metadata": {},
     "output_type": "execute_result"
    }
   ],
   "source": [
    "a//=2\n",
    "int(a)"
   ]
  },
  {
   "cell_type": "code",
   "execution_count": 287,
   "id": "66e97c8d-f3e9-49dd-9f02-78391e2e8772",
   "metadata": {},
   "outputs": [],
   "source": [
    "#unary operators"
   ]
  },
  {
   "cell_type": "code",
   "execution_count": 289,
   "id": "7c957636-40e8-449b-be12-559cb98227c5",
   "metadata": {},
   "outputs": [
    {
     "data": {
      "text/plain": [
       "(1.0, 5)"
      ]
     },
     "execution_count": 289,
     "metadata": {},
     "output_type": "execute_result"
    }
   ],
   "source": [
    "a,b"
   ]
  },
  {
   "cell_type": "code",
   "execution_count": 291,
   "id": "060058d1-690d-4c35-bfea-c992ef8398a5",
   "metadata": {},
   "outputs": [
    {
     "data": {
      "text/plain": [
       "-5"
      ]
     },
     "execution_count": 291,
     "metadata": {},
     "output_type": "execute_result"
    }
   ],
   "source": [
    "a=-b\n",
    "a"
   ]
  },
  {
   "cell_type": "code",
   "execution_count": 293,
   "id": "9b897040-c42a-4633-b805-2d5e6225e747",
   "metadata": {},
   "outputs": [
    {
     "data": {
      "text/plain": [
       "5"
      ]
     },
     "execution_count": 293,
     "metadata": {},
     "output_type": "execute_result"
    }
   ],
   "source": [
    "-a"
   ]
  },
  {
   "cell_type": "code",
   "execution_count": 295,
   "id": "42962364-18e8-4f55-b56b-ade633d1c865",
   "metadata": {},
   "outputs": [],
   "source": [
    "#relational operators"
   ]
  },
  {
   "cell_type": "code",
   "execution_count": 297,
   "id": "175f5926-4f10-4ec2-ae30-48129f04e9cd",
   "metadata": {},
   "outputs": [],
   "source": [
    "a,b=5,6"
   ]
  },
  {
   "cell_type": "code",
   "execution_count": 299,
   "id": "3f3a2911-7b34-4950-8f0e-44aeda0d92e8",
   "metadata": {},
   "outputs": [
    {
     "name": "stdout",
     "output_type": "stream",
     "text": [
      "False\n",
      "True\n",
      "True\n",
      "False\n",
      "False\n",
      "True\n"
     ]
    }
   ],
   "source": [
    "print(a>b)\n",
    "print(a<b)\n",
    "print(a!=b)\n",
    "print(a==b)\n",
    "print(a>=b)\n",
    "print(a<=b)\n"
   ]
  },
  {
   "cell_type": "code",
   "execution_count": 301,
   "id": "2ef2ce32-cac7-4f0e-bf0b-faf456efa115",
   "metadata": {},
   "outputs": [],
   "source": [
    "#logical operators"
   ]
  },
  {
   "cell_type": "code",
   "execution_count": 303,
   "id": "9d019305-e457-4a05-98e8-3d546e4ca28a",
   "metadata": {},
   "outputs": [
    {
     "data": {
      "text/plain": [
       "False"
      ]
     },
     "execution_count": 303,
     "metadata": {},
     "output_type": "execute_result"
    }
   ],
   "source": [
    "a<4 and b>10"
   ]
  },
  {
   "cell_type": "code",
   "execution_count": 307,
   "id": "37885420-8385-4354-8ac4-d8de91dc845b",
   "metadata": {},
   "outputs": [
    {
     "data": {
      "text/plain": [
       "True"
      ]
     },
     "execution_count": 307,
     "metadata": {},
     "output_type": "execute_result"
    }
   ],
   "source": [
    "a<4 or b>2"
   ]
  },
  {
   "cell_type": "code",
   "execution_count": 309,
   "id": "fabd9d29-2e82-4885-874e-ded473086c86",
   "metadata": {},
   "outputs": [
    {
     "data": {
      "text/plain": [
       "False"
      ]
     },
     "execution_count": 309,
     "metadata": {},
     "output_type": "execute_result"
    }
   ],
   "source": [
    "a<4 and b>2"
   ]
  },
  {
   "cell_type": "code",
   "execution_count": 313,
   "id": "21f33b93-6373-449f-bf15-1e1701f71c5c",
   "metadata": {},
   "outputs": [
    {
     "data": {
      "text/plain": [
       "True"
      ]
     },
     "execution_count": 313,
     "metadata": {},
     "output_type": "execute_result"
    }
   ],
   "source": [
    "c=False\n",
    "not c"
   ]
  }
 ],
 "metadata": {
  "kernelspec": {
   "display_name": "Python [conda env:base] *",
   "language": "python",
   "name": "conda-base-py"
  },
  "language_info": {
   "codemirror_mode": {
    "name": "ipython",
    "version": 3
   },
   "file_extension": ".py",
   "mimetype": "text/x-python",
   "name": "python",
   "nbconvert_exporter": "python",
   "pygments_lexer": "ipython3",
   "version": "3.12.7"
  }
 },
 "nbformat": 4,
 "nbformat_minor": 5
}
